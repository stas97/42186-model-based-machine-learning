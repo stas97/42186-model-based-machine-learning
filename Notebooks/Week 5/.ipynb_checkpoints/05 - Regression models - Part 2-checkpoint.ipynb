{
 "cells": [
  {
   "cell_type": "markdown",
   "metadata": {},
   "source": [
    "# Week 5 - Regression models\n",
    "\n",
    "**IMPORTANT NOTICE**: In this notebook, we will use Python PANDAS package. Besides installing it (you may already have it), note that it is a very powerful tool for data cleaning and data preparation. You will see some examples of this. If you never worked with it, we recommend you to take an hour or so to take a look at the concept of Dataframe, and main methods used. Feel free to use \"42184-Data Sciences and GIS for Mobility\" materials about Pandas. \n",
    "\n",
    "## Part 2.1 -  Modelling taxi pickups in Wall Street (NYC)\n",
    "\n",
    "In this notebook, we will consider the problem of modelling taxi pickups in Wall Street (see area in the map below)."
   ]
  },
  {
   "cell_type": "markdown",
   "metadata": {},
   "source": [
    "<img src=\"wall_street.png\">"
   ]
  },
  {
   "cell_type": "markdown",
   "metadata": {},
   "source": [
    "But before we go into details, the usual imports..."
   ]
  },
  {
   "cell_type": "code",
   "execution_count": 1,
   "metadata": {},
   "outputs": [],
   "source": [
    "import numpy as np\n",
    "import pandas as pd   # We import Pandas!\n",
    "from matplotlib import pyplot as plt\n",
    "from sklearn import linear_model\n",
    "import pystan\n",
    "import pystan_utils\n",
    "\n",
    "# fix random generator seed (for reproducibility of results)\n",
    "np.random.seed(42)\n",
    "\n",
    "# matplotlib options\n",
    "plt.style.use('ggplot')\n",
    "%matplotlib inline\n",
    "plt.rcParams['figure.figsize'] = (16, 10)"
   ]
  },
  {
   "cell_type": "markdown",
   "metadata": {},
   "source": [
    "Lets start by loading the dataset. In order to let you focus on the probabilistic modelling aspects, we already prepared the raw GPS taxi data for you and extended it with additional information about the weather conditions."
   ]
  },
  {
   "cell_type": "code",
   "execution_count": 2,
   "metadata": {},
   "outputs": [
    {
     "data": {
      "text/html": [
       "<div>\n",
       "<style scoped>\n",
       "    .dataframe tbody tr th:only-of-type {\n",
       "        vertical-align: middle;\n",
       "    }\n",
       "\n",
       "    .dataframe tbody tr th {\n",
       "        vertical-align: top;\n",
       "    }\n",
       "\n",
       "    .dataframe thead th {\n",
       "        text-align: right;\n",
       "    }\n",
       "</style>\n",
       "<table border=\"1\" class=\"dataframe\">\n",
       "  <thead>\n",
       "    <tr style=\"text-align: right;\">\n",
       "      <th></th>\n",
       "      <th>datetime</th>\n",
       "      <th>pickups</th>\n",
       "      <th>date</th>\n",
       "      <th>min_temp</th>\n",
       "      <th>max_temp</th>\n",
       "      <th>wind_speed</th>\n",
       "      <th>wind_gust</th>\n",
       "      <th>visibility</th>\n",
       "      <th>pressure</th>\n",
       "      <th>precipitation</th>\n",
       "      <th>snow_depth</th>\n",
       "      <th>fog</th>\n",
       "      <th>rain_drizzle</th>\n",
       "      <th>snow_ice</th>\n",
       "      <th>thunder</th>\n",
       "    </tr>\n",
       "  </thead>\n",
       "  <tbody>\n",
       "    <tr>\n",
       "      <th>0</th>\n",
       "      <td>2009-01-01 00</td>\n",
       "      <td>47</td>\n",
       "      <td>2009-01-01</td>\n",
       "      <td>15.1</td>\n",
       "      <td>26.1</td>\n",
       "      <td>11.6</td>\n",
       "      <td>32.1</td>\n",
       "      <td>10.0</td>\n",
       "      <td>1015.5</td>\n",
       "      <td>0.04</td>\n",
       "      <td>0.0</td>\n",
       "      <td>0</td>\n",
       "      <td>0</td>\n",
       "      <td>0</td>\n",
       "      <td>0</td>\n",
       "    </tr>\n",
       "    <tr>\n",
       "      <th>1</th>\n",
       "      <td>2009-01-01 01</td>\n",
       "      <td>74</td>\n",
       "      <td>2009-01-01</td>\n",
       "      <td>15.1</td>\n",
       "      <td>26.1</td>\n",
       "      <td>11.6</td>\n",
       "      <td>32.1</td>\n",
       "      <td>10.0</td>\n",
       "      <td>1015.5</td>\n",
       "      <td>0.04</td>\n",
       "      <td>0.0</td>\n",
       "      <td>0</td>\n",
       "      <td>0</td>\n",
       "      <td>0</td>\n",
       "      <td>0</td>\n",
       "    </tr>\n",
       "    <tr>\n",
       "      <th>2</th>\n",
       "      <td>2009-01-01 02</td>\n",
       "      <td>79</td>\n",
       "      <td>2009-01-01</td>\n",
       "      <td>15.1</td>\n",
       "      <td>26.1</td>\n",
       "      <td>11.6</td>\n",
       "      <td>32.1</td>\n",
       "      <td>10.0</td>\n",
       "      <td>1015.5</td>\n",
       "      <td>0.04</td>\n",
       "      <td>0.0</td>\n",
       "      <td>0</td>\n",
       "      <td>0</td>\n",
       "      <td>0</td>\n",
       "      <td>0</td>\n",
       "    </tr>\n",
       "    <tr>\n",
       "      <th>3</th>\n",
       "      <td>2009-01-01 03</td>\n",
       "      <td>57</td>\n",
       "      <td>2009-01-01</td>\n",
       "      <td>15.1</td>\n",
       "      <td>26.1</td>\n",
       "      <td>11.6</td>\n",
       "      <td>32.1</td>\n",
       "      <td>10.0</td>\n",
       "      <td>1015.5</td>\n",
       "      <td>0.04</td>\n",
       "      <td>0.0</td>\n",
       "      <td>0</td>\n",
       "      <td>0</td>\n",
       "      <td>0</td>\n",
       "      <td>0</td>\n",
       "    </tr>\n",
       "    <tr>\n",
       "      <th>4</th>\n",
       "      <td>2009-01-01 04</td>\n",
       "      <td>46</td>\n",
       "      <td>2009-01-01</td>\n",
       "      <td>15.1</td>\n",
       "      <td>26.1</td>\n",
       "      <td>11.6</td>\n",
       "      <td>32.1</td>\n",
       "      <td>10.0</td>\n",
       "      <td>1015.5</td>\n",
       "      <td>0.04</td>\n",
       "      <td>0.0</td>\n",
       "      <td>0</td>\n",
       "      <td>0</td>\n",
       "      <td>0</td>\n",
       "      <td>0</td>\n",
       "    </tr>\n",
       "  </tbody>\n",
       "</table>\n",
       "</div>"
      ],
      "text/plain": [
       "        datetime  pickups        date  min_temp  max_temp  wind_speed  \\\n",
       "0  2009-01-01 00       47  2009-01-01      15.1      26.1        11.6   \n",
       "1  2009-01-01 01       74  2009-01-01      15.1      26.1        11.6   \n",
       "2  2009-01-01 02       79  2009-01-01      15.1      26.1        11.6   \n",
       "3  2009-01-01 03       57  2009-01-01      15.1      26.1        11.6   \n",
       "4  2009-01-01 04       46  2009-01-01      15.1      26.1        11.6   \n",
       "\n",
       "   wind_gust  visibility  pressure  precipitation  snow_depth  fog  \\\n",
       "0       32.1        10.0    1015.5           0.04         0.0    0   \n",
       "1       32.1        10.0    1015.5           0.04         0.0    0   \n",
       "2       32.1        10.0    1015.5           0.04         0.0    0   \n",
       "3       32.1        10.0    1015.5           0.04         0.0    0   \n",
       "4       32.1        10.0    1015.5           0.04         0.0    0   \n",
       "\n",
       "   rain_drizzle  snow_ice  thunder  \n",
       "0             0         0        0  \n",
       "1             0         0        0  \n",
       "2             0         0        0  \n",
       "3             0         0        0  \n",
       "4             0         0        0  "
      ]
     },
     "execution_count": 2,
     "metadata": {},
     "output_type": "execute_result"
    }
   ],
   "source": [
    "# load csv (original dataset is by 30min intervals, we want 1h intervals) into a Pandas Dataframe\n",
    "df = pd.read_csv(\"pickups+weather_wallstreet.csv\")\n",
    "\n",
    "# look at the first few lines of the loaded dataset\n",
    "df.head()"
   ]
  },
  {
   "cell_type": "markdown",
   "metadata": {},
   "source": [
    "Before we do anything with the data, it is always a good idea to try to visualize it."
   ]
  },
  {
   "cell_type": "code",
   "execution_count": 3,
   "metadata": {},
   "outputs": [
    {
     "data": {
      "image/png": "[encoded data removed]",
      "text/plain": [
       "<Figure size 432x288 with 1 Axes>"
      ]
     },
     "metadata": {
      "needs_background": "light"
     },
     "output_type": "display_data"
    }
   ],
   "source": [
    "# visualize first 15 days of January 2015\n",
    "dates = []\n",
    "for day in range(1,16):   # we will search for days 1-15\n",
    "    date = \"2015-01-%.2d\" % (day,)\n",
    "    dates.append(date)\n",
    "    plt.plot(df[df.date == date][\"pickups\"].values)   # select lines with corresponding date\n",
    "plt.xlabel(\"time (hours)\")\n",
    "plt.ylabel(\"pickups\")\n",
    "plt.legend(dates);"
   ]
  },
  {
   "cell_type": "markdown",
   "metadata": {},
   "source": [
    "We will now preprocess the dataset. Particularly, we will filter the data to keep only data from 2015, and we will also extract some relevant features from the dates (e.g. day of the week and hour of the day)."
   ]
  },
  {
   "cell_type": "code",
   "execution_count": 4,
   "metadata": {},
   "outputs": [
    {
     "data": {
      "text/html": [
       "<div>\n",
       "<style scoped>\n",
       "    .dataframe tbody tr th:only-of-type {\n",
       "        vertical-align: middle;\n",
       "    }\n",
       "\n",
       "    .dataframe tbody tr th {\n",
       "        vertical-align: top;\n",
       "    }\n",
       "\n",
       "    .dataframe thead th {\n",
       "        text-align: right;\n",
       "    }\n",
       "</style>\n",
       "<table border=\"1\" class=\"dataframe\">\n",
       "  <thead>\n",
       "    <tr style=\"text-align: right;\">\n",
       "      <th></th>\n",
       "      <th>datetime</th>\n",
       "      <th>pickups</th>\n",
       "      <th>date</th>\n",
       "      <th>min_temp</th>\n",
       "      <th>max_temp</th>\n",
       "      <th>wind_speed</th>\n",
       "      <th>wind_gust</th>\n",
       "      <th>visibility</th>\n",
       "      <th>pressure</th>\n",
       "      <th>precipitation</th>\n",
       "      <th>snow_depth</th>\n",
       "      <th>fog</th>\n",
       "      <th>rain_drizzle</th>\n",
       "      <th>snow_ice</th>\n",
       "      <th>thunder</th>\n",
       "      <th>dow</th>\n",
       "      <th>tod</th>\n",
       "    </tr>\n",
       "  </thead>\n",
       "  <tbody>\n",
       "    <tr>\n",
       "      <th>52584</th>\n",
       "      <td>2015-01-01 00:00:00</td>\n",
       "      <td>111</td>\n",
       "      <td>2015-01-01</td>\n",
       "      <td>27.0</td>\n",
       "      <td>39.0</td>\n",
       "      <td>5.3</td>\n",
       "      <td>25.1</td>\n",
       "      <td>10.0</td>\n",
       "      <td>1014.6</td>\n",
       "      <td>0.0</td>\n",
       "      <td>0.0</td>\n",
       "      <td>0</td>\n",
       "      <td>0</td>\n",
       "      <td>0</td>\n",
       "      <td>0</td>\n",
       "      <td>3</td>\n",
       "      <td>0</td>\n",
       "    </tr>\n",
       "    <tr>\n",
       "      <th>52585</th>\n",
       "      <td>2015-01-01 01:00:00</td>\n",
       "      <td>170</td>\n",
       "      <td>2015-01-01</td>\n",
       "      <td>27.0</td>\n",
       "      <td>39.0</td>\n",
       "      <td>5.3</td>\n",
       "      <td>25.1</td>\n",
       "      <td>10.0</td>\n",
       "      <td>1014.6</td>\n",
       "      <td>0.0</td>\n",
       "      <td>0.0</td>\n",
       "      <td>0</td>\n",
       "      <td>0</td>\n",
       "      <td>0</td>\n",
       "      <td>0</td>\n",
       "      <td>3</td>\n",
       "      <td>1</td>\n",
       "    </tr>\n",
       "    <tr>\n",
       "      <th>52586</th>\n",
       "      <td>2015-01-01 02:00:00</td>\n",
       "      <td>160</td>\n",
       "      <td>2015-01-01</td>\n",
       "      <td>27.0</td>\n",
       "      <td>39.0</td>\n",
       "      <td>5.3</td>\n",
       "      <td>25.1</td>\n",
       "      <td>10.0</td>\n",
       "      <td>1014.6</td>\n",
       "      <td>0.0</td>\n",
       "      <td>0.0</td>\n",
       "      <td>0</td>\n",
       "      <td>0</td>\n",
       "      <td>0</td>\n",
       "      <td>0</td>\n",
       "      <td>3</td>\n",
       "      <td>2</td>\n",
       "    </tr>\n",
       "    <tr>\n",
       "      <th>52587</th>\n",
       "      <td>2015-01-01 03:00:00</td>\n",
       "      <td>116</td>\n",
       "      <td>2015-01-01</td>\n",
       "      <td>27.0</td>\n",
       "      <td>39.0</td>\n",
       "      <td>5.3</td>\n",
       "      <td>25.1</td>\n",
       "      <td>10.0</td>\n",
       "      <td>1014.6</td>\n",
       "      <td>0.0</td>\n",
       "      <td>0.0</td>\n",
       "      <td>0</td>\n",
       "      <td>0</td>\n",
       "      <td>0</td>\n",
       "      <td>0</td>\n",
       "      <td>3</td>\n",
       "      <td>3</td>\n",
       "    </tr>\n",
       "    <tr>\n",
       "      <th>52588</th>\n",
       "      <td>2015-01-01 04:00:00</td>\n",
       "      <td>62</td>\n",
       "      <td>2015-01-01</td>\n",
       "      <td>27.0</td>\n",
       "      <td>39.0</td>\n",
       "      <td>5.3</td>\n",
       "      <td>25.1</td>\n",
       "      <td>10.0</td>\n",
       "      <td>1014.6</td>\n",
       "      <td>0.0</td>\n",
       "      <td>0.0</td>\n",
       "      <td>0</td>\n",
       "      <td>0</td>\n",
       "      <td>0</td>\n",
       "      <td>0</td>\n",
       "      <td>3</td>\n",
       "      <td>4</td>\n",
       "    </tr>\n",
       "  </tbody>\n",
       "</table>\n",
       "</div>"
      ],
      "text/plain": [
       "                 datetime  pickups        date  min_temp  max_temp  \\\n",
       "52584 2015-01-01 00:00:00      111  2015-01-01      27.0      39.0   \n",
       "52585 2015-01-01 01:00:00      170  2015-01-01      27.0      39.0   \n",
       "52586 2015-01-01 02:00:00      160  2015-01-01      27.0      39.0   \n",
       "52587 2015-01-01 03:00:00      116  2015-01-01      27.0      39.0   \n",
       "52588 2015-01-01 04:00:00       62  2015-01-01      27.0      39.0   \n",
       "\n",
       "       wind_speed  wind_gust  visibility  pressure  precipitation  snow_depth  \\\n",
       "52584         5.3       25.1        10.0    1014.6            0.0         0.0   \n",
       "52585         5.3       25.1        10.0    1014.6            0.0         0.0   \n",
       "52586         5.3       25.1        10.0    1014.6            0.0         0.0   \n",
       "52587         5.3       25.1        10.0    1014.6            0.0         0.0   \n",
       "52588         5.3       25.1        10.0    1014.6            0.0         0.0   \n",
       "\n",
       "       fog  rain_drizzle  snow_ice  thunder  dow  tod  \n",
       "52584    0             0         0        0    3    0  \n",
       "52585    0             0         0        0    3    1  \n",
       "52586    0             0         0        0    3    2  \n",
       "52587    0             0         0        0    3    3  \n",
       "52588    0             0         0        0    3    4  "
      ]
     },
     "execution_count": 4,
     "metadata": {},
     "output_type": "execute_result"
    }
   ],
   "source": [
    "# convert datetime column to datetime object\n",
    "df[\"datetime\"] = pd.to_datetime(df[\"datetime\"], format=\"%Y-%m-%d\")\n",
    "\n",
    "# filter: use only data from 2015\n",
    "df = df[df.datetime.dt.year == 2015]\n",
    "\n",
    "# add column with day of week (dow) and time of day (tod)\n",
    "df[\"dow\"] = df[\"datetime\"].dt.weekday\n",
    "df[\"tod\"] = df[\"datetime\"].dt.hour\n",
    "\n",
    "df.head()  #let's see how the dataframe looks like now (notice new columns!)"
   ]
  },
  {
   "cell_type": "markdown",
   "metadata": {},
   "source": [
    "We wish to model the number of taxi pickups in the Wall Street area as a function of features such as the day of the week, time of the day and weather condtitions. \n",
    "\n"
   ]
  },
  {
   "cell_type": "markdown",
   "metadata": {},
   "source": [
    "\n",
    "However, the number of pickups is clearly not a linear function of these variables directly! For example, for time of the day - a discrete variable ranging from 0 to 23 - there's no reason to believe pickups to be proportional to the hour number! \n",
    "\n",
    "In order to allow for non-linear relationships, we shall consider a 1-of-K encoding of the day of week and time of day variables.\n",
    "\n",
    "The Pandas method \"get_dummies\" exists just for that!"
   ]
  },
  {
   "cell_type": "code",
   "execution_count": 5,
   "metadata": {},
   "outputs": [
    {
     "name": "stdout",
     "output_type": "stream",
     "text": [
      "(8760, 24)\n",
      "[[1 0 0 ... 0 0 0]\n",
      " [0 1 0 ... 0 0 0]\n",
      " [0 0 1 ... 0 0 0]\n",
      " ...\n",
      " [0 0 0 ... 0 0 1]\n",
      " [1 0 0 ... 0 0 0]\n",
      " [0 1 0 ... 0 0 0]]\n"
     ]
    }
   ],
   "source": [
    "# a short demo of the one_of_K_enc function\n",
    "enc=np.array(pd.get_dummies(df[\"tod\"]))\n",
    "print(enc.shape)\n",
    "print(enc[:50,:]) # first 50 rows of tod. Notice that ech row has 24 numbers (1 one and 23 zeros) "
   ]
  },
  {
   "cell_type": "markdown",
   "metadata": {},
   "source": [
    "So, let's do it for the two variables:"
   ]
  },
  {
   "cell_type": "code",
   "execution_count": 6,
   "metadata": {},
   "outputs": [
    {
     "name": "stdout",
     "output_type": "stream",
     "text": [
      "(8760, 31)\n"
     ]
    }
   ],
   "source": [
    "# prepare matrix with time features\n",
    "X_time = np.concatenate([pd.get_dummies(df[x]) for x in [\"dow\", \"tod\"]], axis=1)\n",
    "print(X_time.shape)"
   ]
  },
  {
   "cell_type": "code",
   "execution_count": 7,
   "metadata": {},
   "outputs": [
    {
     "name": "stdout",
     "output_type": "stream",
     "text": [
      "(8760, 3)\n"
     ]
    },
    {
     "name": "stderr",
     "output_type": "stream",
     "text": [
      "/home/chechgm/Projects/ModelBasedDTU/env_MBDTU/lib/python3.6/site-packages/ipykernel_launcher.py:4: FutureWarning: Method .as_matrix will be removed in a future version. Use .values instead.\n",
      "  after removing the cwd from sys.path.\n",
      "/home/chechgm/Projects/ModelBasedDTU/env_MBDTU/lib/python3.6/site-packages/ipykernel_launcher.py:5: FutureWarning: Method .as_matrix will be removed in a future version. Use .values instead.\n",
      "  \"\"\"\n"
     ]
    }
   ],
   "source": [
    "# prepare matrix with weather features\n",
    "X_weather = df[[\"min_temp\",\"max_temp\",\"wind_speed\",\"wind_gust\",\n",
    "                \"visibility\",\"pressure\",\"precipitation\",\"snow_depth\",\n",
    "                \"fog\",\"rain_drizzle\",\"snow_ice\"]].as_matrix()\n",
    "X_weather = df[[\"min_temp\",\"snow_depth\",\"precipitation\"]].as_matrix()\n",
    "print(X_weather.shape)"
   ]
  },
  {
   "cell_type": "code",
   "execution_count": 8,
   "metadata": {},
   "outputs": [
    {
     "name": "stdout",
     "output_type": "stream",
     "text": [
      "(8760, 34)\n"
     ]
    }
   ],
   "source": [
    "# create matrix with time and weather features\n",
    "X = np.concatenate([X_time, X_weather], axis=1)\n",
    "print(X.shape)\n",
    "\n",
    "# standardize input features\n",
    "X_mean = X.mean(axis=0)\n",
    "X_std = X.std(axis=0)\n",
    "X = (X - X_mean) / X_std"
   ]
  },
  {
   "cell_type": "code",
   "execution_count": 9,
   "metadata": {},
   "outputs": [
    {
     "name": "stdout",
     "output_type": "stream",
     "text": [
      "(8760,)\n"
     ]
    },
    {
     "name": "stderr",
     "output_type": "stream",
     "text": [
      "/home/chechgm/Projects/ModelBasedDTU/env_MBDTU/lib/python3.6/site-packages/ipykernel_launcher.py:2: FutureWarning: Method .as_matrix will be removed in a future version. Use .values instead.\n",
      "  \n"
     ]
    }
   ],
   "source": [
    "# prepare vector of target taxi pickups\n",
    "y = df[\"pickups\"].as_matrix()\n",
    "\n",
    "# standardize pickups\n",
    "y_mean = y.mean()\n",
    "y_std = y.std()\n",
    "y = (y - y_mean) / y_std\n",
    "print(y.shape)"
   ]
  },
  {
   "cell_type": "markdown",
   "metadata": {},
   "source": [
    "We now have all our data prepared and standardized. Note that it is often very important to have your data properly standardized (can you think of potential problems if your data is not standardized?).\n",
    "\n",
    "The X matrix now contain all the input data for the model, and the y vector contains all the corresponding targets (number of taxi pickups).\n",
    "\n",
    "The next step is to split our data into a train and test set. Alternatively, we could have used something like cross-validation, but for the sake of simplicity, a train/test split will do just fine for this example."
   ]
  },
  {
   "cell_type": "code",
   "execution_count": 10,
   "metadata": {},
   "outputs": [
    {
     "name": "stdout",
     "output_type": "stream",
     "text": [
      "num train: 5781\n",
      "num test: 2979\n"
     ]
    }
   ],
   "source": [
    "train_perc = 0.66 # percentage of training data\n",
    "split_point = int(train_perc*len(y))\n",
    "perm = np.random.permutation(len(y))\n",
    "ix_train = perm[:split_point]\n",
    "ix_test = perm[split_point:]\n",
    "X_time_train = X_time[ix_train,:]\n",
    "X_time_test = X_time[ix_test,:]\n",
    "X_train = X[ix_train,:]\n",
    "X_test = X[ix_test,:]\n",
    "y_train = y[ix_train]\n",
    "y_test = y[ix_test]\n",
    "print(\"num train: %d\" % len(y_train))\n",
    "print(\"num test: %d\" % len(y_test))"
   ]
  },
  {
   "cell_type": "markdown",
   "metadata": {},
   "source": [
    "A crucial step in developing a experimental setup in machine learning is establishing how to access the quality of the models that we learn. For this purpose, we developed a funciton which already constains a series of popular metrics for evaluating the quality of the predictions of a regression model (continuous output variables!)."
   ]
  },
  {
   "cell_type": "code",
   "execution_count": 11,
   "metadata": {},
   "outputs": [],
   "source": [
    "def compute_error(trues, predicted):\n",
    "    corr = np.corrcoef(predicted, trues)[0,1]\n",
    "    mae = np.mean(np.abs(predicted - trues))\n",
    "    rae = np.sum(np.abs(predicted - trues)) / np.sum(np.abs(trues - np.mean(trues)))\n",
    "    rmse = np.sqrt(np.mean((predicted - trues)**2))\n",
    "    r2 = max(0, 1 - np.sum((trues-predicted)**2) / np.sum((trues - np.mean(trues))**2))\n",
    "    return corr, mae, rae, rmse, r2"
   ]
  },
  {
   "cell_type": "markdown",
   "metadata": {},
   "source": [
    "Just for the sake of comparision (and for fun!), lets run linear regression (or Ridge regression) from the popular sklearn package."
   ]
  },
  {
   "cell_type": "code",
   "execution_count": 12,
   "metadata": {
    "scrolled": true
   },
   "outputs": [
    {
     "name": "stdout",
     "output_type": "stream",
     "text": [
      "CorrCoef: 0.803\n",
      "MAE: 19.323\n",
      "RMSE: 25.906\n",
      "R2: 0.644\n"
     ]
    }
   ],
   "source": [
    "#regr = linear_model.LinearRegression()\n",
    "regr = linear_model.Ridge()\n",
    "regr.fit(X_train, y_train)\n",
    "y_hat = regr.predict(X_test)\n",
    "\n",
    "# convert back to the original scale\n",
    "preds = y_hat * y_std + y_mean\n",
    "y_true = y_test * y_std + y_mean\n",
    "\n",
    "corr, mae, rae, rmse, r2 = compute_error(y_true, preds)\n",
    "print(\"CorrCoef: %.3f\\nMAE: %.3f\\nRMSE: %.3f\\nR2: %.3f\" % (corr, mae, rmse, r2))"
   ]
  },
  {
   "cell_type": "markdown",
   "metadata": {},
   "source": [
    "### STAN: Train on a small subset of the data\n",
    "\n",
    "Time to implement Bayesian linear regression in STAN! (go back to the lecture slides, if necessary)\n",
    "\n",
    "Note: since the input matrix X does not include a column with all 1's, we need to model the intercept term explicitly! We therefore shall include a alpha variable (the intercept) in the model for this purpose. The likelihood of the model is then as follows:\n",
    "\n",
    "$y_n \\sim \\mathcal{N}(\\alpha + \\boldsymbol\\beta^T \\textbf{x}_n , \\sigma^2)$\n",
    "\n",
    "Can you implement the full model in STAN?"
   ]
  },
  {
   "cell_type": "code",
   "execution_count": 1,
   "metadata": {},
   "outputs": [],
   "source": [
    "# define Stan model\n",
    "model_definition = \"\"\"\n",
    "// your model here\n",
    "\"\"\"\n"
   ]
  },
  {
   "cell_type": "markdown",
   "metadata": {},
   "source": [
    "We begin by doing inference on the model using MCMC (NUTS) and using only a small subsample of the dataset."
   ]
  },
  {
   "cell_type": "code",
   "execution_count": 56,
   "metadata": {},
   "outputs": [],
   "source": [
    "# prepare data for Stan model\n",
    "X_train_small = X_train[:100,:]\n",
    "y_train_small = y_train[:100]\n",
    "N, D = X_train_small.shape\n",
    "data = {'N': N, 'D': D, 'x': X_train_small, 'y': y_train_small}"
   ]
  },
  {
   "cell_type": "markdown",
   "metadata": {},
   "source": [
    "Please run the above model, with the corresponding data"
   ]
  },
  {
   "cell_type": "code",
   "execution_count": null,
   "metadata": {},
   "outputs": [],
   "source": []
  },
  {
   "cell_type": "markdown",
   "metadata": {},
   "source": [
    "Plot the posterior distribution of all the latent variables in the model (alpha, betas and sigma)."
   ]
  },
  {
   "cell_type": "code",
   "execution_count": null,
   "metadata": {},
   "outputs": [],
   "source": []
  },
  {
   "cell_type": "markdown",
   "metadata": {},
   "source": [
    "Given the posterior distributions over the variables alpha and beta, we can make predictions for the test set. In this case there are multiple ways to do this! Lets see...\n",
    "\n",
    "First, recall that the output of STAN consists of samples from the posterior distribution of the latent variables (\"parameters\" block in the STAN program). We can use these samples to compute the mean (or mode!) of the posterior distribution over alpha and beta ($\\hat{\\alpha}$ and $\\hat{\\boldsymbol\\beta}$, respectively), and then use that mean/mode to make predictions $\\hat{y}$ as follows:\n",
    "\n",
    "$\\hat{y}_n = \\hat{\\alpha} + \\hat{\\boldsymbol\\beta}^T \\textbf{x}_n$\n",
    "\n",
    "Can you create a vector called \"y_hat\" with the predictions for the test set?"
   ]
  },
  {
   "cell_type": "code",
   "execution_count": null,
   "metadata": {},
   "outputs": [],
   "source": []
  },
  {
   "cell_type": "code",
   "execution_count": null,
   "metadata": {},
   "outputs": [],
   "source": []
  },
  {
   "cell_type": "markdown",
   "metadata": {},
   "source": [
    "Since we standardized the target variable $y$ (number of taxi pickups) before feeding it to the STAN model, we need to convert the predictions back to original scale before evaluating their quality:"
   ]
  },
  {
   "cell_type": "code",
   "execution_count": 127,
   "metadata": {},
   "outputs": [
    {
     "name": "stdout",
     "output_type": "stream",
     "text": [
      "CorrCoef: 0.707\n",
      "MAE: 24.298\n",
      "RMSE: 31.213\n",
      "R2: 0.484\n"
     ]
    }
   ],
   "source": [
    "# convert back to the original scale\n",
    "preds = y_hat * y_std + y_mean\n",
    "y_true = y_test * y_std + y_mean\n",
    "\n",
    "corr, mae, rae, rmse, r2 = compute_error(y_true, preds)\n",
    "print(\"CorrCoef: %.3f\\nMAE: %.3f\\nRMSE: %.3f\\nR2: %.3f\" % (corr, mae, rmse, r2))"
   ]
  },
  {
   "cell_type": "markdown",
   "metadata": {},
   "source": [
    "What we just did for making predictions seems a bit wasteful. STAN just computed for us the (whole!) posterior distribution for alpha and beta, and we completely ignored it by looking at its mean (or mode) and using that to make predictions. Furthermore, why use the mean instead of the mode (or vice-versa)? For sure there must be a better way...\n",
    "\n",
    "Indeed, the proper Bayesian way of making predictions for our Bayesian linear regression model is to follow the rules of probability. Namely, our goal in prediction is to use the posterior over $\\alpha$ and $\\boldsymbol\\beta$ given the observed data, $p(\\alpha | \\textbf{y}, \\textbf{X})$ and $p(\\boldsymbol\\beta | \\textbf{y}, \\textbf{X})$ respectively, to compute the posterior distribution of the target variable $y_*$ for a new input vector $\\textbf{x}_*$ as follows:\n",
    "\n",
    "$p(y_* | \\textbf{x}_*, \\textbf{y}, \\textbf{X}, \\sigma) = \\int \\int \\mathcal{N}(y_* | \\alpha + \\boldsymbol\\beta^T \\textbf{x}_*, \\sigma^2) \\, p(\\alpha | \\textbf{y}, \\textbf{X}) \\, p(\\boldsymbol\\beta | \\textbf{y}, \\textbf{X}) \\, d\\alpha \\, d\\boldsymbol\\beta$\n",
    "\n",
    "Notice that we are integrating (or marginalizing) over all values of $\\alpha$ and $\\boldsymbol\\beta$. We can think of this as averaging over the values of $\\alpha$ and $\\boldsymbol\\beta$ according to their posterior distributions.\n",
    "\n",
    "Since STAN outputs a set of $S$ samples from the posteriors, $\\{\\alpha^{(s)}, \\boldsymbol\\beta^{(s)}\\}_{s=1}^S$, we can easily use them to approximate the expected value of $y_*$ as follows:\n",
    "\n",
    "$\\mathbb{E}[y_*] \\approx \\frac{1}{S} \\sum_{s=1}^S \\alpha^{(s)} + (\\boldsymbol\\beta^{(s)})^T \\textbf{x}_*$\n",
    "\n",
    "So lets do that!"
   ]
  },
  {
   "cell_type": "code",
   "execution_count": 128,
   "metadata": {},
   "outputs": [],
   "source": [
    "y_hat = np.mean(samples[\"alpha\"].T + np.dot(X_test, samples[\"beta\"].T), axis=1)"
   ]
  },
  {
   "cell_type": "markdown",
   "metadata": {},
   "source": [
    "We can evaluate the (new) predictions:"
   ]
  },
  {
   "cell_type": "code",
   "execution_count": 129,
   "metadata": {},
   "outputs": [
    {
     "name": "stdout",
     "output_type": "stream",
     "text": [
      "CorrCoef: 0.707\n",
      "MAE: 24.298\n",
      "RMSE: 31.213\n",
      "R2: 0.484\n"
     ]
    }
   ],
   "source": [
    "# convert back to the original scale\n",
    "preds = y_hat * y_std + y_mean\n",
    "y_true = y_test * y_std + y_mean\n",
    "\n",
    "corr, mae, rae, rmse, r2 = compute_error(y_true, preds)\n",
    "print(\"CorrCoef: %.3f\\nMAE: %.3f\\nRMSE: %.3f\\nR2: %.3f\" % (corr, mae, rmse, r2))"
   ]
  },
  {
   "cell_type": "markdown",
   "metadata": {},
   "source": [
    "Did you get similar error values as before? Probably they didn't change much in this case, because the posteriors of $\\alpha$ and $\\boldsymbol\\beta$ look very Gaussian and also because our likelihood is Gaussian too! But if the posteriors were skewed or multimodal, then this approximation to the Bayesian integral would likely yield quite different results from the ones obtained by using the mean or the mode of the posterior distribution. Therefore, this is something important to be aware of!"
   ]
  },
  {
   "cell_type": "markdown",
   "metadata": {},
   "source": [
    "### STAN: Train on a slightly larger subset of the data\n",
    "\n",
    "We will now do inference on a slightly larget subset of the data, and see what happens..."
   ]
  },
  {
   "cell_type": "code",
   "execution_count": 138,
   "metadata": {},
   "outputs": [],
   "source": [
    "# prepare data for Stan model\n",
    "X_train_small = X_train[:1000,:]\n",
    "y_train_small = y_train[:1000]\n",
    "N, D = X_train_small.shape\n",
    "data = {'N': N, 'D': D, 'x': X_train_small, 'y': y_train_small}"
   ]
  },
  {
   "cell_type": "code",
   "execution_count": 139,
   "metadata": {},
   "outputs": [
    {
     "name": "stderr",
     "output_type": "stream",
     "text": [
      "INFO:pystan:COMPILING THE C++ CODE FOR MODEL anon_model_b1511d20bf91ff9ca54ff2adc5ccd233 NOW.\n"
     ]
    },
    {
     "name": "stdout",
     "output_type": "stream",
     "text": [
      "Inference for Stan model: anon_model_b1511d20bf91ff9ca54ff2adc5ccd233.\n",
      "4 chains, each with iter=1000; warmup=500; thin=1; \n",
      "post-warmup draws per chain=500, total post-warmup draws=2000.\n",
      "\n",
      "           mean se_mean     sd   2.5%    25%    50%    75%  97.5%  n_eff   Rhat\n",
      "alpha     -0.04  5.0e-4   0.02  -0.07  -0.05  -0.04  -0.02 1.2e-3   1521    1.0\n",
      "beta[0]   -0.04    0.02   0.37  -0.77   -0.3  -0.04   0.22   0.68    553    1.0\n",
      "beta[1]    0.03    0.02   0.38  -0.71  -0.23   0.03   0.29   0.77    551    1.0\n",
      "beta[2]    0.08    0.02   0.38  -0.65  -0.18   0.08   0.34   0.82    550    1.0\n",
      "beta[3]    0.06    0.02   0.38  -0.68   -0.2   0.06   0.32    0.8    551    1.0\n",
      "beta[4]    0.07    0.02   0.38  -0.66  -0.19   0.07   0.33   0.79    551    1.0\n",
      "beta[5]    0.03    0.02   0.38  -0.69  -0.23   0.03    0.3   0.77    555    1.0\n",
      "beta[6]   -0.22    0.02   0.38  -0.95  -0.48  -0.22   0.05    0.5    551    1.0\n",
      "beta[7]   -0.06    0.01   0.22  -0.47  -0.21  -0.07   0.09   0.38    254   1.01\n",
      "beta[8]   -0.17    0.01   0.22  -0.59  -0.32  -0.17  -0.02   0.28    253   1.01\n",
      "beta[9]   -0.27    0.01   0.22  -0.68  -0.41  -0.28  -0.12   0.17    253   1.01\n",
      "beta[10]   -0.3    0.01   0.22  -0.71  -0.45  -0.31  -0.15   0.14    253   1.01\n",
      "beta[11]  -0.28    0.01   0.22  -0.69  -0.43  -0.29  -0.13   0.16    251   1.01\n",
      "beta[12]  -0.24    0.01   0.22  -0.65  -0.39  -0.25   -0.1    0.2    254   1.01\n",
      "beta[13]  -0.13    0.01   0.22  -0.54  -0.27  -0.14   0.02   0.31    252   1.01\n",
      "beta[14]   0.02    0.01   0.22   -0.4  -0.13   0.01   0.16   0.45    253   1.01\n",
      "beta[15]   0.12    0.01   0.22   -0.3  -0.02   0.12   0.27   0.57    251   1.01\n",
      "beta[16]   0.05    0.01   0.22  -0.36   -0.1   0.04   0.19   0.48    252   1.01\n",
      "beta[17]   0.05    0.01   0.22  -0.37   -0.1   0.04    0.2   0.48    252   1.01\n",
      "beta[18]   0.04    0.01   0.22  -0.37  -0.11   0.03   0.19   0.47    253   1.01\n",
      "beta[19]   0.07    0.01   0.22  -0.33  -0.07   0.07   0.22   0.51    252   1.01\n",
      "beta[20]   0.09    0.01   0.22  -0.32  -0.05   0.08   0.24   0.53    253   1.01\n",
      "beta[21]   0.09    0.01   0.22  -0.32  -0.06   0.09   0.24   0.53    250   1.01\n",
      "beta[22] 3.9e-3    0.01   0.22  -0.41  -0.15-5.3e-3   0.15   0.45    254   1.01\n",
      "beta[23]-8.6e-3    0.01   0.22  -0.41  -0.16  -0.01   0.14   0.43    251   1.01\n",
      "beta[24]   0.07    0.01   0.22  -0.34  -0.08   0.06   0.21   0.51    250   1.01\n",
      "beta[25]   0.18    0.01   0.22  -0.22   0.03   0.17   0.33   0.62    252   1.01\n",
      "beta[26]   0.21    0.01   0.22   -0.2   0.06    0.2   0.36   0.66    253   1.01\n",
      "beta[27]   0.23    0.01   0.22  -0.17   0.09   0.23   0.38   0.68    251   1.01\n",
      "beta[28]    0.2    0.01   0.22  -0.21   0.06   0.19   0.35   0.64    252   1.01\n",
      "beta[29]   0.13    0.01   0.22  -0.28  -0.01   0.13   0.28   0.58    252   1.01\n",
      "beta[30]   0.06    0.01   0.22  -0.35  -0.08   0.06   0.21   0.51    254   1.01\n",
      "beta[31]10.0e-3  6.7e-4   0.02  -0.04-5.2e-3   0.01   0.03   0.06   1219    1.0\n",
      "beta[32]   0.06  6.3e-4   0.02   0.02   0.04   0.06   0.07    0.1   1131    1.0\n",
      "beta[33]  -0.05  5.5e-4   0.02  -0.08  -0.06  -0.05  -0.03-5.2e-3   1352    1.0\n",
      "sigma      0.59  3.3e-4   0.01   0.56   0.58   0.58   0.59   0.61   1492    1.0\n",
      "lp__      35.11    0.17   4.37  25.67  32.32  35.47  38.17  42.63    664   1.01\n",
      "\n",
      "Samples were drawn using NUTS at Thu Mar  1 10:52:13 2018.\n",
      "For each parameter, n_eff is a crude measure of effective sample size,\n",
      "and Rhat is the potential scale reduction factor on split chains (at \n",
      "convergence, Rhat=1).\n",
      "CPU times: user 1.68 s, sys: 136 ms, total: 1.81 s\n",
      "Wall time: 1min 41s\n"
     ]
    }
   ],
   "source": [
    "%%time\n",
    "# create Stan model object\n",
    "sm = pystan.StanModel(model_code=model_definition)\n",
    "fit = sm.sampling(data=data, iter=1000, chains=4, algorithm=\"NUTS\", seed=42, verbose=True)\n",
    "print(fit)"
   ]
  },
  {
   "cell_type": "markdown",
   "metadata": {},
   "source": [
    "Plot the posterior distribution of all the latent variables in the model (alpha, betas and sigma)."
   ]
  },
  {
   "cell_type": "code",
   "execution_count": null,
   "metadata": {},
   "outputs": [],
   "source": []
  },
  {
   "cell_type": "markdown",
   "metadata": {},
   "source": [
    "Compare the new posterior distributions with the ones obtained by using only 100 data points from the dataset (above). Be careful with the scales of the plots...\n",
    "\n",
    "Notice how the model is now much more confident about the posterior distribution of the latent variables in the model (narrower distributions; lower uncertainty in the estimates). This makes sense! The more data we observe, the more confident we become about our estimates."
   ]
  },
  {
   "cell_type": "markdown",
   "metadata": {},
   "source": [
    "Now, lets extract the samples from STAN and make predictions for the test set"
   ]
  },
  {
   "cell_type": "code",
   "execution_count": 141,
   "metadata": {},
   "outputs": [],
   "source": [
    "samples = fit.extract(permuted=True)  # return a dictionary of arrays\n",
    "y_hat = np.mean(samples[\"alpha\"].T + np.dot(X_test, samples[\"beta\"].T), axis=1)"
   ]
  },
  {
   "cell_type": "markdown",
   "metadata": {},
   "source": [
    "And lets check the error statistics..."
   ]
  },
  {
   "cell_type": "code",
   "execution_count": 142,
   "metadata": {},
   "outputs": [
    {
     "name": "stdout",
     "output_type": "stream",
     "text": [
      "CorrCoef: 0.794\n",
      "MAE: 19.727\n",
      "RMSE: 26.553\n",
      "R2: 0.626\n"
     ]
    }
   ],
   "source": [
    "# convert back to the original scale\n",
    "preds = y_hat * y_std + y_mean\n",
    "y_true = y_test * y_std + y_mean\n",
    "\n",
    "corr, mae, rae, rmse, r2 = compute_error(y_true, preds)\n",
    "print(\"CorrCoef: %.3f\\nMAE: %.3f\\nRMSE: %.3f\\nR2: %.3f\" % (corr, mae, rmse, r2))\n"
   ]
  },
  {
   "cell_type": "markdown",
   "metadata": {},
   "source": [
    "Better, right? But this took quite longer to run, and in this case didn't necessarily beat \"sklearn\"...\n",
    "\n",
    "MCMC methods have great properties, namely the fact that in the limit of infinite computation time they will converge to the true posterior distribution. However, they often have difficulty scaling to larger datasets. \n",
    "\n",
    "### STAN: Train on full dataset using ADVI\n",
    "\n",
    "ADVI on the other hand is much more scalable. Let us now try to use ADVI to perform inference in our model."
   ]
  },
  {
   "cell_type": "code",
   "execution_count": 143,
   "metadata": {},
   "outputs": [],
   "source": [
    "# prepare data for Stan model\n",
    "N, D = X_train.shape\n",
    "data = {'N': N, 'D': D, 'x': X_train, 'y': y_train}"
   ]
  },
  {
   "cell_type": "code",
   "execution_count": 144,
   "metadata": {},
   "outputs": [
    {
     "name": "stderr",
     "output_type": "stream",
     "text": [
      "INFO:pystan:COMPILING THE C++ CODE FOR MODEL anon_model_b1511d20bf91ff9ca54ff2adc5ccd233 NOW.\n",
      "WARNING:pystan:Automatic Differentiation Variational Inference (ADVI) is an EXPERIMENTAL ALGORITHM.\n",
      "WARNING:pystan:ADVI samples may be found on the filesystem in the file `/var/folders/7r/ltghlc050259z5fvh_z1xng00000gn/T/tmp5cs0wx0z/output.csv`\n"
     ]
    },
    {
     "name": "stdout",
     "output_type": "stream",
     "text": [
      "CPU times: user 18.9 s, sys: 443 ms, total: 19.3 s\n",
      "Wall time: 1min 17s\n"
     ]
    }
   ],
   "source": [
    "%%time\n",
    "# create Stan model object\n",
    "sm = pystan.StanModel(model_code=model_definition)\n",
    "fit = sm.vb(data=data, iter=10000, algorithm=\"fullrank\", grad_samples=10, seed=42, verbose=True)"
   ]
  },
  {
   "cell_type": "markdown",
   "metadata": {},
   "source": [
    "Lets look at the posterior distribution. This is where the \"pystan_utils\" package that we developed will be useful..."
   ]
  },
  {
   "cell_type": "code",
   "execution_count": 145,
   "metadata": {},
   "outputs": [
    {
     "data": {
      "image/png": "[encoded data removed]",
      "text/plain": [
       "<matplotlib.figure.Figure at 0x1130fd438>"
      ]
     },
     "metadata": {},
     "output_type": "display_data"
    }
   ],
   "source": [
    "pystan_utils.vb_plot_variables(fit, \"beta\")"
   ]
  },
  {
   "cell_type": "markdown",
   "metadata": {},
   "source": [
    "We can also use pystan_utils to extract the mean values of the posteriors:"
   ]
  },
  {
   "cell_type": "code",
   "execution_count": 155,
   "metadata": {},
   "outputs": [
    {
     "name": "stdout",
     "output_type": "stream",
     "text": [
      "alpha: -0.004536950156822813\n",
      "beta: [-0.13626668 -0.05125764 -0.01980351 -0.00167323 -0.0216517  -0.08958646\n",
      " -0.23792096 -0.15717437 -0.26826602 -0.33088375 -0.37727368 -0.36988382\n",
      " -0.352008   -0.2139543  -0.09545579  0.03160239 -0.0381963  -0.05958526\n",
      " -0.03589838 -0.01319942 -0.01312201 -0.01448022 -0.06982286 -0.1217818\n",
      " -0.02204695  0.08494954  0.13771625  0.14160317  0.13182538  0.0673858\n",
      " -0.03396732 -0.01065079  0.05135581 -0.03171427]\n"
     ]
    }
   ],
   "source": [
    "alpha = pystan_utils.vb_extract_variable(fit, \"alpha\", var_type=\"real\")\n",
    "print(\"alpha:\", alpha)\n",
    "\n",
    "beta = pystan_utils.vb_extract_variable(fit, \"beta\", var_type=\"vector\")\n",
    "print(\"beta:\", beta)\n"
   ]
  },
  {
   "cell_type": "markdown",
   "metadata": {},
   "source": [
    "We also made a more direct way (but more verbose) option for you"
   ]
  },
  {
   "cell_type": "code",
   "execution_count": 156,
   "metadata": {},
   "outputs": [
    {
     "name": "stdout",
     "output_type": "stream",
     "text": [
      "alpha = -0.004536950156822813\n",
      "beta.1 = -0.13626668155545338\n",
      "beta.2 = -0.05125764487473076\n",
      "beta.3 = -0.019803510578520967\n",
      "beta.4 = -0.0016732320401627839\n",
      "beta.5 = -0.021651702337807152\n",
      "beta.6 = -0.08958646153584927\n",
      "beta.7 = -0.23792096398025872\n",
      "beta.8 = -0.15717437191073874\n",
      "beta.9 = -0.26826601701139047\n",
      "beta.10 = -0.33088375393362873\n",
      "beta.11 = -0.37727368306088943\n",
      "beta.12 = -0.36988382182350693\n",
      "beta.13 = -0.35200799846832376\n",
      "beta.14 = -0.21395429974458124\n",
      "beta.15 = -0.09545578859448252\n",
      "beta.16 = 0.03160239459055101\n",
      "beta.17 = -0.03819629717433297\n",
      "beta.18 = -0.05958525828695271\n",
      "beta.19 = -0.035898378213685495\n",
      "beta.20 = -0.01319941567917595\n",
      "beta.21 = -0.013122008010879186\n",
      "beta.22 = -0.014480224449769449\n",
      "beta.23 = -0.06982285802242016\n",
      "beta.24 = -0.12178179799049524\n",
      "beta.25 = -0.022046949252035035\n",
      "beta.26 = 0.08494954283281256\n",
      "beta.27 = 0.13771625263848516\n",
      "beta.28 = 0.1416031739608061\n",
      "beta.29 = 0.13182538238286798\n",
      "beta.30 = 0.06738580031744952\n",
      "beta.31 = -0.03396732382868119\n",
      "beta.32 = -0.010650794534575677\n",
      "beta.33 = 0.05135581009722566\n",
      "beta.34 = -0.03171427308024136\n"
     ]
    }
   ],
   "source": [
    "pystan_utils.report(fit, 'alpha')\n",
    "pystan_utils.report(fit, 'beta')"
   ]
  },
  {
   "cell_type": "markdown",
   "metadata": {},
   "source": [
    "Using the estimated values, we can make predictions for the test set:"
   ]
  },
  {
   "cell_type": "code",
   "execution_count": 157,
   "metadata": {},
   "outputs": [
    {
     "name": "stdout",
     "output_type": "stream",
     "text": [
      "CorrCoef: 0.804\n",
      "MAE: 19.292\n",
      "RMSE: 25.879\n",
      "R2: 0.645\n"
     ]
    }
   ],
   "source": [
    "y_hat = alpha + np.dot(X_test, beta)\n",
    "\n",
    "# convert back to the original scale\n",
    "preds = y_hat * y_std + y_mean\n",
    "y_true = y_test * y_std + y_mean\n",
    "\n",
    "corr, mae, rae, rmse, r2 = compute_error(y_true, preds)\n",
    "print(\"CorrCoef: %.3f\\nMAE: %.3f\\nRMSE: %.3f\\nR2: %.3f\" % (corr, mae, rmse, r2))\n"
   ]
  },
  {
   "cell_type": "markdown",
   "metadata": {},
   "source": [
    "If we now compare these results with the ones from the \"sklearn\" package, we can see that we are now doing slightly better..."
   ]
  },
  {
   "cell_type": "markdown",
   "metadata": {},
   "source": [
    "## 2.2. STAN: Poisson regression\n",
    "\n",
    "In our previous STAN model, we assumed that the target variable $y$ is Gaussian distributed. However, this might not be the most reasonable choice. Where are modeling the number of taxi pickups (counts!). Perhaps a much more reasonable likelihood is the Poisson distribution:\n",
    "\n",
    "$y_n \\sim \\mbox{Poisson}(\\exp(\\alpha + \\boldsymbol\\beta^T \\textbf{x}_n))$\n",
    "\n",
    "Notice that we included a log link function to ensure that the rate of the Poisson (the parameter of the Poisson) is non-negative, as required by the definition of the Poisson.\n",
    "\n",
    "Lets implement this model in STAN!\n",
    "\n",
    "Hint: STAN offers a more numerically stable version of a Poisson distribution with a log link function (when compared to a naive implementation). Check out the function \"poisson_log()\" in the documentation!"
   ]
  },
  {
   "cell_type": "code",
   "execution_count": 2,
   "metadata": {},
   "outputs": [],
   "source": [
    "# define Stan model\n",
    "model_definition = \"\"\"\n",
    "// your model here\n",
    "\"\"\"\n"
   ]
  },
  {
   "cell_type": "markdown",
   "metadata": {},
   "source": [
    "Prepare data for STAN and run inference:"
   ]
  },
  {
   "cell_type": "code",
   "execution_count": 159,
   "metadata": {},
   "outputs": [],
   "source": [
    "# prepare data for Stan model\n",
    "N, D = X_train.shape\n",
    "data = {'N': N, 'D': D, 'x': X_train, 'y': (y_train * y_std + y_mean).astype(np.int)} # y must be original counts"
   ]
  },
  {
   "cell_type": "code",
   "execution_count": 160,
   "metadata": {},
   "outputs": [
    {
     "name": "stderr",
     "output_type": "stream",
     "text": [
      "INFO:pystan:COMPILING THE C++ CODE FOR MODEL anon_model_3dd48872bb43deb7dffeaf0d407456bf NOW.\n",
      "WARNING:pystan:Automatic Differentiation Variational Inference (ADVI) is an EXPERIMENTAL ALGORITHM.\n",
      "WARNING:pystan:ADVI samples may be found on the filesystem in the file `/var/folders/7r/ltghlc050259z5fvh_z1xng00000gn/T/tmpmubkv3f5/output.csv`\n"
     ]
    }
   ],
   "source": [
    "# create Stan model object\n",
    "sm = pystan.StanModel(model_code=model_definition)\n",
    "fit = sm.vb(data=data, iter=10000, algorithm=\"meanfield\", elbo_samples=100, grad_samples=20, seed=42, verbose=True)"
   ]
  },
  {
   "cell_type": "markdown",
   "metadata": {},
   "source": [
    "Extract results and compute error statistics:"
   ]
  },
  {
   "cell_type": "code",
   "execution_count": 50,
   "metadata": {},
   "outputs": [
    {
     "name": "stdout",
     "output_type": "stream",
     "text": [
      "CorrCoef: 0.823\n",
      "MAE: 18.128\n",
      "RMSE: 24.711\n",
      "R2: 0.676\n"
     ]
    }
   ],
   "source": [
    "alpha = pystan_utils.vb_extract_variable(fit, \"alpha\", var_type=\"real\")\n",
    "beta = pystan_utils.vb_extract_variable(fit, \"beta\", var_type=\"vector\")\n",
    "y_hat = np.exp(alpha + np.dot(X_test, beta))\n",
    "\n",
    "# convert back to the original scale\n",
    "preds = y_hat # no need for this one\n",
    "y_true = y_test * y_std + y_mean\n",
    "\n",
    "corr, mae, rae, rmse, r2 = compute_error(y_true, preds)\n",
    "print(\"CorrCoef: %.3f\\nMAE: %.3f\\nRMSE: %.3f\\nR2: %.3f\" % (corr, mae, rmse, r2))"
   ]
  },
  {
   "cell_type": "markdown",
   "metadata": {},
   "source": [
    "Now this is a significative improvement!\n",
    "\n",
    "By freeing us from predefined standard machine learning algorithms through the use of probability theory, PGMs and approximate Bayesian inference (thanks to STAN, in this case), the model-based machine learning approach gives us the flexibility to develop machine learning models that are specifically tailored to our particular problems! In this case, we know that the target variables is a count (number of taxi pickups), and can revise our model accordingly, so that it encodes our knowledge of the domain."
   ]
  },
  {
   "cell_type": "markdown",
   "metadata": {},
   "source": [
    "## 2.3 STAN: Heteroscedastic regression\n",
    "\n",
    "Ok, let us now assume again that the Gaussian likelihood was indeed the most appropriate choice. In many problems of interest, it is often the case that constant observation variance ($\\sigma^2$) is too limiting or inadequate. We can relax this assumption by considering heteroscedastic models, in which the observation variance is assumed to be non-constant and dependent on any other variables. In this particular case, we shall assume that the observation variance is also linearly dependent on the inputs $\\textbf{x}$. \n",
    "\n",
    "Lets implement this model in STAN (check the lecture slides, if necessary)!"
   ]
  },
  {
   "cell_type": "code",
   "execution_count": 3,
   "metadata": {},
   "outputs": [],
   "source": [
    "# define Stan model\n",
    "model_definition = \"\"\"\n",
    "// Your model here\n",
    "\"\"\""
   ]
  },
  {
   "cell_type": "markdown",
   "metadata": {},
   "source": [
    "Prepare data for STAN and run inference:"
   ]
  },
  {
   "cell_type": "code",
   "execution_count": null,
   "metadata": {},
   "outputs": [],
   "source": [
    "# prepare data for Stan model\n",
    "N, D = X_train.shape\n",
    "data = {'N': N, 'D': D, 'x': X_train, 'y': y_train}"
   ]
  },
  {
   "cell_type": "code",
   "execution_count": null,
   "metadata": {},
   "outputs": [
    {
     "name": "stderr",
     "output_type": "stream",
     "text": [
      "INFO:pystan:COMPILING THE C++ CODE FOR MODEL anon_model_5f217807f27b6dc6ad9d56445c85f0e4 NOW.\n"
     ]
    }
   ],
   "source": [
    "%%time\n",
    "# create Stan model object\n",
    "sm = pystan.StanModel(model_code=model_definition)\n",
    "#fit = sm.vb(data=data, iter=1000, algorithm=\"meanfield\", grad_samples=10, seed=42, verbose=True)\n",
    "fit = sm.sampling(data=data, iter=1000, chains=4, algorithm=\"NUTS\", seed=42, verbose=True)"
   ]
  },
  {
   "cell_type": "code",
   "execution_count": null,
   "metadata": {},
   "outputs": [],
   "source": [
    "#\n",
    "print(fit)"
   ]
  },
  {
   "cell_type": "markdown",
   "metadata": {},
   "source": [
    "Extract results and compute error statistics:"
   ]
  },
  {
   "cell_type": "code",
   "execution_count": null,
   "metadata": {},
   "outputs": [],
   "source": [
    "#\n",
    "samples = fit.extract(permuted=True)  # return a dictionary of arrays\n",
    "y_hat = np.mean(samples[\"alpha\"].T + np.dot(X_test, samples[\"beta\"].T), axis=1)\n",
    "\n",
    "# convert back to the original scale\n",
    "preds = y_hat * y_std + y_mean\n",
    "y_true = y_test * y_std + y_mean\n",
    "\n",
    "corr, mae, rae, rmse, r2 = compute_error(y_true, preds)\n",
    "print(\"CorrCoef: %.3f\\nMAE: %.3f\\nRMSE: %.3f\\nR2: %.3f\" % (corr, mae, rmse, r2))"
   ]
  },
  {
   "cell_type": "markdown",
   "metadata": {},
   "source": [
    "In this case, probably you weren't able to improve the results. This is because for this particular problem - taxi pickups - modelling the observation noise as dependent on the inputs $\\textbf{x}$ does not make a big difference. But for many problems it does! Think of problems in finance or many problems related to road traffic...\n",
    "\n",
    "Although the mean predictions of the heteroscedastic model are not better than before, we can now estimate the non-constant observation uncertainty for the data points in the dataset."
   ]
  },
  {
   "cell_type": "code",
   "execution_count": 57,
   "metadata": {
    "collapsed": true
   },
   "outputs": [],
   "source": [
    "sigma_hat = np.mean(np.exp(samples[\"alpha2\"].T + np.dot(X_test, samples[\"beta2\"].T)), axis=1)"
   ]
  },
  {
   "cell_type": "code",
   "execution_count": null,
   "metadata": {},
   "outputs": [],
   "source": [
    "len(sigma_hat)"
   ]
  },
  {
   "cell_type": "markdown",
   "metadata": {},
   "source": [
    "Notice how it changes over time. We can use these values to estimate prediction intervals (e.g. 95% prediction intervals) that are time-varying. Can you think of real-world problems where this information would be useful?"
   ]
  }
 ],
 "metadata": {
  "kernelspec": {
   "display_name": "Python 3",
   "language": "python",
   "name": "python3"
  },
  "language_info": {
   "codemirror_mode": {
    "name": "ipython",
    "version": 3
   },
   "file_extension": ".py",
   "mimetype": "text/x-python",
   "name": "python",
   "nbconvert_exporter": "python",
   "pygments_lexer": "ipython3",
   "version": "3.6.7"
  }
 },
 "nbformat": 4,
 "nbformat_minor": 2
}

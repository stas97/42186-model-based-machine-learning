{
 "cells": [
  {
   "cell_type": "markdown",
   "metadata": {},
   "source": [
    "# Week 5 - Regression models\n",
    "\n",
    "Hello again. Welcome to week 5! In this week, we will focus on how to model continuous response (or target) variables in STAN.\n",
    "\n",
    "The usual imports..."
   ]
  },
  {
   "cell_type": "code",
   "execution_count": 9,
   "metadata": {},
   "outputs": [],
   "source": [
    "import numpy as np\n",
    "from matplotlib import pyplot as plt\n",
    "\n",
    "# fix random generator seed (for reproducibility of results)\n",
    "np.random.seed(42)\n",
    "\n",
    "# matplotlib options\n",
    "plt.style.use('ggplot')\n",
    "%matplotlib inline\n",
    "plt.rcParams['figure.figsize'] = (16, 10)"
   ]
  },
  {
   "cell_type": "markdown",
   "metadata": {},
   "source": [
    "## Part 1 - Linear regression - Ancestral sampling\n",
    "\n",
    "In this first part, we will look at a Bayesian linear regression model. Particularly, we shall try to understand it better (e.g. its assumptions, modelling choices, etc.) by sampling from the model using ancestral sampling.\n",
    "\n",
    "We start by creating N data points corresponding to the inputs (X). Of course, these are assumed to be always given (i.e. we do not model them explicitly)! In this case, we use a simple normal distribution to generate some artificial X's."
   ]
  },
  {
   "cell_type": "code",
   "execution_count": 10,
   "metadata": {
    "scrolled": true
   },
   "outputs": [
    {
     "name": "stdout",
     "output_type": "stream",
     "text": [
      "Vector of 20 x 1\n",
      "[[ 0.79671415]\n",
      " [ 0.1617357 ]\n",
      " [ 0.94768854]\n",
      " [ 1.82302986]\n",
      " [ 0.06584663]\n",
      " [ 0.06586304]\n",
      " [ 1.87921282]\n",
      " [ 1.06743473]\n",
      " [-0.16947439]\n",
      " [ 0.84256004]\n",
      " [-0.16341769]\n",
      " [-0.16572975]\n",
      " [ 0.54196227]\n",
      " [-1.61328024]\n",
      " [-1.42491783]\n",
      " [-0.26228753]\n",
      " [-0.71283112]\n",
      " [ 0.61424733]\n",
      " [-0.60802408]\n",
      " [-1.1123037 ]]\n"
     ]
    }
   ],
   "source": [
    "# X's are fixed (1D points)\n",
    "X = np.random.normal(0.3, 1, size=20)[:,np.newaxis] # 20 points\n",
    "N, D = X.shape\n",
    "print(\"Vector of\", N, \"x\", D)\n",
    "print(X)"
   ]
  },
  {
   "cell_type": "markdown",
   "metadata": {},
   "source": [
    "Now that we have the X's, it is time to sample from our Bayesian linear regression model using ancestral sampling. In ancestral sampling, we sample from each of the variables in turn, following the generative process of the model. In this case, we assume our model to have an intercept $\\alpha$ and a 1D slope $\\beta$. The generative process is as follows:\n",
    "\n",
    "1. Draw intercept $\\alpha \\sim \\mathcal{N}(0,1)$\n",
    "\n",
    "2. Draw slope $\\beta \\sim \\mathcal{N}(0,1)$\n",
    "\n",
    "3. For each input point $x_n$:\n",
    "\n",
    "    A. Draw target $y_n \\sim \\mathcal{N}(\\alpha + \\beta * x_n, \\sigma^2)$\n"
   ]
  },
  {
   "cell_type": "code",
   "execution_count": 11,
   "metadata": {},
   "outputs": [
    {
     "name": "stdout",
     "output_type": "stream",
     "text": [
      "sigma^2: 0.1\n"
     ]
    }
   ],
   "source": [
    "# we assume sigma^2 to be fixed\n",
    "sigma2 = 0.1\n",
    "print(\"sigma^2:\", sigma2)"
   ]
  },
  {
   "cell_type": "markdown",
   "metadata": {},
   "source": [
    "Please perform ancestral sampling of the model described above:"
   ]
  },
  {
   "cell_type": "code",
   "execution_count": null,
   "metadata": {},
   "outputs": [],
   "source": []
  },
  {
   "cell_type": "markdown",
   "metadata": {},
   "source": [
    "Now that we have sampled some outputs, lets look at them and compare them with the underlying regression line defined by the sampled values of $\\alpha$ and $\\beta$. "
   ]
  },
  {
   "cell_type": "code",
   "execution_count": 14,
   "metadata": {},
   "outputs": [
    {
     "data": {
      "image/png": "[encoded data removed]",
      "text/plain": [
       "<matplotlib.figure.Figure at 0x10f688b70>"
      ]
     },
     "metadata": {},
     "output_type": "display_data"
    }
   ],
   "source": [
    "plt.plot(X, y, \"rx\")\n",
    "plt.plot(X, alpha + beta * X)\n",
    "plt.legend([\"noisy data points\", \"underlying regression line\"])\n",
    "plt.show()"
   ]
  },
  {
   "cell_type": "markdown",
   "metadata": {},
   "source": [
    "Notice how the different observed y's are scattered around the (true) underlying regression line. \n",
    "\n",
    "Try running the ancestral sampling code multiple times and look at how your results differ. Notice how, depending on the values of $\\alpha$ and $\\beta$ that you sample, the N sampled targets $\\{y_n\\}_{n=1}^N$ vary dramatically. In the next sections/parts of this notebook, we will do inference in the Bayesian linear regression model (using STAN!), where the goal is to reverse this process, i.e. given the observed values of $y$, compute the posterior distribution of $\\alpha$ and $\\beta$. But more on that later...\n",
    "\n",
    "For now, go back to the ancestral samplig code and play with the parameters. Specifically, try changing the values of $\\sigma^2$ and look at the consequence in the generated targets y.\n",
    "\n"
   ]
  },
  {
   "cell_type": "code",
   "execution_count": null,
   "metadata": {},
   "outputs": [],
   "source": []
  }
 ],
 "metadata": {
  "kernelspec": {
   "display_name": "Python 3",
   "language": "python",
   "name": "python3"
  },
  "language_info": {
   "codemirror_mode": {
    "name": "ipython",
    "version": 3
   },
   "file_extension": ".py",
   "mimetype": "text/x-python",
   "name": "python",
   "nbconvert_exporter": "python",
   "pygments_lexer": "ipython3",
   "version": "3.6.2"
  }
 },
 "nbformat": 4,
 "nbformat_minor": 2
}

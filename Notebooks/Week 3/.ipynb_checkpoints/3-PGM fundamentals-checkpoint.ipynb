{
 "cells": [
  {
   "cell_type": "markdown",
   "metadata": {},
   "source": [
    "# Part 1 - The most common continuous model - the Gaussian "
   ]
  },
  {
   "cell_type": "markdown",
   "metadata": {},
   "source": [
    "Welcome back! Today, we will now focus on how to incorporate continuous variables in your graphical model, and on how to estimate the parameters (e.g. to generate predictions later)"
   ]
  },
  {
   "cell_type": "markdown",
   "metadata": {},
   "source": [
    "As usual, we'll start with the imports. "
   ]
  },
  {
   "cell_type": "code",
   "execution_count": 1,
   "metadata": {},
   "outputs": [],
   "source": [
    "import matplotlib.pyplot as plt\n",
    "import numpy as np\n",
    "from math import log\n",
    "%matplotlib inline"
   ]
  },
  {
   "cell_type": "markdown",
   "metadata": {},
   "source": [
    "One thing we will do a lot in this course, is create some \"toy data\". The idea is to have datasets that we know so well, that we even know the true parameters. It is important for you to understand how well your PGM is able to learn them!\n",
    "\n",
    "...of course, in the real world, you don't know the true parameters. That's what makes it hard and interesting!\n",
    "\n"
   ]
  },
  {
   "cell_type": "code",
   "execution_count": 2,
   "metadata": {},
   "outputs": [],
   "source": [
    "mu_true=7         #True parameters. Feel free to mess around with them... \n",
    "sigma_true=100\n",
    "X=np.random.normal(mu_true,sigma_true,1000)   #generate 1000 samples from this gaussian "
   ]
  },
  {
   "cell_type": "markdown",
   "metadata": {},
   "source": [
    "It is always useful to plot the distribution, whenever it's possible..."
   ]
  },
  {
   "cell_type": "code",
   "execution_count": 3,
   "metadata": {},
   "outputs": [
    {
     "data": {
      "image/png": "[encoded data removed]",
      "text/plain": [
       "<Figure size 432x288 with 1 Axes>"
      ]
     },
     "metadata": {
      "needs_background": "light"
     },
     "output_type": "display_data"
    }
   ],
   "source": [
    "plt.hist(X, bins=50);"
   ]
  },
  {
   "cell_type": "markdown",
   "metadata": {},
   "source": [
    "## 1.1 Maximum Log Likelihood\n",
    "\n",
    "So, we're ready to start..."
   ]
  },
  {
   "cell_type": "markdown",
   "metadata": {},
   "source": [
    "In the last lecture, you played with the log likelihood function:"
   ]
  },
  {
   "cell_type": "markdown",
   "metadata": {},
   "source": [
    "$ln\\text{ }L(\\mu, \\sigma^2)=-\\frac{n}{2}ln(2\\pi)-\\frac{n}{2}ln(\\sigma^2)-\\frac{1}{2\\sigma^2}\\sum_i^N (x_i-\\mu)^2$"
   ]
  },
  {
   "cell_type": "markdown",
   "metadata": {},
   "source": [
    "We still assume that the standard deviation, $\\sigma$ is given. The  program below finds the (approximate) maximum log likelihood estimate for the mean ($\\mu$)"
   ]
  },
  {
   "cell_type": "code",
   "execution_count": 4,
   "metadata": {},
   "outputs": [],
   "source": [
    "def Gaussian_loglikelihood(X, mu, sigma):\n",
    "    n = 1 if isinstance(X, (float, np.float)) else len(X) # Set the length of X, in case it is a single value\n",
    "    X = [X] if n==1 else X                                # Set X as an iterable in case it is a single value\n",
    "    return -n/2*log(2*np.pi)-n/2*log(sigma**2)-1/(2*sigma**2)*sum([(x-mu)**2 for x in iter(X)])\n",
    "\n",
    "def MLE(X, sigma):\n",
    "    l=[]\n",
    "    maxll=-9999999\n",
    "    bestmu=-9999999\n",
    "    mus=np.arange(-100, 100, 0.01)\n",
    "    for mu in mus:\n",
    "        ll=Gaussian_loglikelihood(X, mu, sigma)\n",
    "        l.append(ll)\n",
    "        if ll>maxll:\n",
    "            bestmu=mu\n",
    "            maxll=ll\n",
    "    return bestmu, mus, l"
   ]
  },
  {
   "cell_type": "markdown",
   "metadata": {},
   "source": [
    "Please test your program (e.g. choose $\\sigma=5$)"
   ]
  },
  {
   "cell_type": "code",
   "execution_count": 5,
   "metadata": {},
   "outputs": [],
   "source": [
    "bestmu, mus, l = MLE(X, sigma=100)"
   ]
  },
  {
   "cell_type": "code",
   "execution_count": 6,
   "metadata": {},
   "outputs": [
    {
     "name": "stdout",
     "output_type": "stream",
     "text": [
      "9.800000000056173\n"
     ]
    }
   ],
   "source": [
    "print(bestmu)"
   ]
  },
  {
   "cell_type": "markdown",
   "metadata": {},
   "source": [
    "## 1.2. Bayesian model"
   ]
  },
  {
   "cell_type": "markdown",
   "metadata": {},
   "source": [
    "In this case, the difference in our model is that we also have priors. Since we're only estimating $\\mu$, we only need to add that prior. Let's assume it is:\n",
    "\n",
    "$\\mu \\sim \\mathcal{N}(\\alpha, \\gamma)$\n",
    "\n",
    "Our log probability formula then becomes:\n",
    "\n",
    "$ln\\text{ }L(\\mu, \\sigma, \\alpha, \\gamma)=-\\frac{n}{2}ln(2\\pi)-\\frac{n}{2}ln(\\sigma^2)-\\frac{1}{2\\sigma^2}\\sum_i^N (x_i-\\mu)^2-\\frac{ln(2\\pi)}{2}-\\frac{ln(\\gamma^2)}{2}-\\frac{(\\alpha-\\mu)^2}{2\\gamma^2}$\n"
   ]
  },
  {
   "cell_type": "markdown",
   "metadata": {},
   "source": [
    "Essentially, we only added the last three terms to the earlier formula. Can you estimate now the value for $\\mu$ (you can reuse the function given above if you want)?"
   ]
  },
  {
   "cell_type": "code",
   "execution_count": 7,
   "metadata": {},
   "outputs": [],
   "source": [
    "def MAP(X, sigma, alpha, gamma):\n",
    "    l=[]\n",
    "    maxll=-9999999\n",
    "    bestmu=-9999999\n",
    "    mus=np.arange(-100, 100, 0.01)\n",
    "    for mu in mus:\n",
    "        ll=Gaussian_loglikelihood(X, mu, sigma) + Gaussian_loglikelihood(mu, alpha, gamma)\n",
    "        l.append(ll)\n",
    "        if ll>maxll:\n",
    "            bestmu=mu\n",
    "            maxll=ll\n",
    "    return bestmu, mus, l"
   ]
  },
  {
   "cell_type": "code",
   "execution_count": 8,
   "metadata": {},
   "outputs": [],
   "source": [
    "# Use a lot of samples because the sd of the generating normal is 100!!!\n",
    "n_samples_used = 1000\n",
    "bestmu, mus, l = MAP(X[:n_samples_used], sigma=100, alpha=0, gamma=20)"
   ]
  },
  {
   "cell_type": "code",
   "execution_count": 9,
   "metadata": {},
   "outputs": [
    {
     "name": "stdout",
     "output_type": "stream",
     "text": [
      "Best mu is: 9.56, with a loglikelihood of: -6037.35\n"
     ]
    }
   ],
   "source": [
    "print(\"Best mu is: %.2f, with a loglikelihood of: %.2f\" % (bestmu, np.max(l)))"
   ]
  },
  {
   "cell_type": "markdown",
   "metadata": {},
   "source": [
    "Can you visualize the log probability, as a function $\\mu$?"
   ]
  },
  {
   "cell_type": "code",
   "execution_count": 10,
   "metadata": {},
   "outputs": [
    {
     "data": {
      "image/png": "[encoded data removed]",
      "text/plain": [
       "<Figure size 432x288 with 1 Axes>"
      ]
     },
     "metadata": {
      "needs_background": "light"
     },
     "output_type": "display_data"
    }
   ],
   "source": [
    "plt.plot(mus, l);"
   ]
  },
  {
   "cell_type": "markdown",
   "metadata": {},
   "source": [
    "Hmmm... the value is not that different, indeed. Why didn't the Bayesian model work better? To answer this, try varying the number of datapoints. The lower it is, the more important your prior becomes!\n",
    "\n"
   ]
  },
  {
   "cell_type": "markdown",
   "metadata": {},
   "source": [
    "Challenge to take home: make it an online learning process (you can even make it a movie! :-) )... "
   ]
  },
  {
   "cell_type": "code",
   "execution_count": 45,
   "metadata": {},
   "outputs": [],
   "source": [
    "import matplotlib\n",
    "from matplotlib import animation, rc\n",
    "from IPython.display import HTML, Image"
   ]
  },
  {
   "cell_type": "code",
   "execution_count": 46,
   "metadata": {},
   "outputs": [],
   "source": [
    "rc('animation', html='html5')"
   ]
  },
  {
   "cell_type": "code",
   "execution_count": 57,
   "metadata": {},
   "outputs": [
    {
     "data": {
      "image/png": "[encoded data removed]",
      "text/plain": [
       "<Figure size 432x288 with 1 Axes>"
      ]
     },
     "metadata": {
      "needs_background": "light"
     },
     "output_type": "display_data"
    }
   ],
   "source": [
    "# First set up the figure, the axis, and the plot element we want to animate\n",
    "fig, ax = plt.subplots()\n",
    "\n",
    "ax.set_xlim(( -105, 105))\n",
    "ax.set_ylim(( -1500, 0))\n",
    "\n",
    "line, = ax.plot([], [], lw=2)"
   ]
  },
  {
   "cell_type": "code",
   "execution_count": 58,
   "metadata": {},
   "outputs": [],
   "source": [
    "# initialization function: plot the background of each frame\n",
    "def init():\n",
    "    line.set_data([], [])\n",
    "    return (line,)"
   ]
  },
  {
   "cell_type": "code",
   "execution_count": 59,
   "metadata": {},
   "outputs": [],
   "source": [
    "# animation function. This is called sequentially\n",
    "def animate(n_samples_used):\n",
    "    n_samples_used = int(n_samples_used)\n",
    "    bestmu, mus, ll = MAP(X[:n_samples_used], sigma=100, alpha=0, gamma=150)\n",
    "    line.set_data(mus, ll)\n",
    "    return (line,)"
   ]
  },
  {
   "cell_type": "code",
   "execution_count": 60,
   "metadata": {},
   "outputs": [],
   "source": [
    "# call the animator. blit=True means only re-draw the parts that \n",
    "# have changed.\n",
    "anim = animation.FuncAnimation(fig=fig, func=animate, init_func=init,\n",
    "                               frames=list(np.geomspace(1, 1000, 50)), interval=100, blit=True)"
   ]
  },
  {
   "cell_type": "code",
   "execution_count": 61,
   "metadata": {},
   "outputs": [
    {
     "data": {
      "text/html": [
       "<video width=\"432\" height=\"288\" controls autoplay loop>\n",
       "  <source type=\"video/mp4\" src=\"data:video/mp4;base64,AAAAHGZ0eXBNNFYgAAACAGlzb21pc28yYXZjMQAAAAhmcmVlAAAzpG1kYXQAAAKuBgX//6rcRem9\n",
       "5tlIt5Ys2CDZI+7veDI2NCAtIGNvcmUgMTUyIHIyODU0IGU5YTU5MDMgLSBILjI2NC9NUEVHLTQg\n",
       "QVZDIGNvZGVjIC0gQ29weWxlZnQgMjAwMy0yMDE3IC0gaHR0cDovL3d3dy52aWRlb2xhbi5vcmcv\n",
       "eDI2NC5odG1sIC0gb3B0aW9uczogY2FiYWM9MSByZWY9MyBkZWJsb2NrPTE6MDowIGFuYWx5c2U9\n",
       "MHgzOjB4MTEzIG1lPWhleCBzdWJtZT03IHBzeT0xIHBzeV9yZD0xLjAwOjAuMDAgbWl4ZWRfcmVm\n",
       "PTEgbWVfcmFuZ2U9MTYgY2hyb21hX21lPTEgdHJlbGxpcz0xIDh4OGRjdD0xIGNxbT0wIGRlYWR6\n",
       "b25lPTIxLDExIGZhc3RfcHNraXA9MSBjaHJvbWFfcXBfb2Zmc2V0PS0yIHRocmVhZHM9NiBsb29r\n",
       "YWhlYWRfdGhyZWFkcz0xIHNsaWNlZF90aHJlYWRzPTAgbnI9MCBkZWNpbWF0ZT0xIGludGVybGFj\n",
       "ZWQ9MCBibHVyYXlfY29tcGF0PTAgY29uc3RyYWluZWRfaW50cmE9MCBiZnJhbWVzPTMgYl9weXJh\n",
       "bWlkPTIgYl9hZGFwdD0xIGJfYmlhcz0wIGRpcmVjdD0xIHdlaWdodGI9MSBvcGVuX2dvcD0wIHdl\n",
       "aWdodHA9MiBrZXlpbnQ9MjUwIGtleWludF9taW49MTAgc2NlbmVjdXQ9NDAgaW50cmFfcmVmcmVz\n",
       "aD0wIHJjX2xvb2thaGVhZD00MCByYz1jcmYgbWJ0cmVlPTEgY3JmPTIzLjAgcWNvbXA9MC42MCBx\n",
       "cG1pbj0wIHFwbWF4PTY5IHFwc3RlcD00IGlwX3JhdGlvPTEuNDAgYXE9MToxLjAwAIAAAA0LZYiE\n",
       "ABH//veIHzLLafk613IR560urR9Q7kZxXqS9/iAAAAMAFpyu1/CUu/mA8wqdx7s5oYoImr6DAP+6\n",
       "8WeXXYhHUyml2YejdvieQABLFS6vw8wsbRGfsdWEuDyOEWsoON9BF7tSv6s9dW7Ykz8Z5rqtUelU\n",
       "k6WDckivFKDAjvK0YX1BhOhlZvquD2IGFjt+f/m9d89zWbgjiVE9inoLTK7WsAnOH2f7bJMqMzxa\n",
       "WepyyRVAexeSF+QbJIJ2iA0SDCH+QW6WMMsiHaQtBovaVpGNklOy8KVAL/ZxVRYRx4BaL60yEkte\n",
       "ocb8/La/oFJKt2OuORkfdxUVEL0JcnJ5qdzBbUiu2ubVDSB9smhZumHoo9r0+5ztIznrGWFsMrqH\n",
       "dmNzP/OUtlQvbnXq+xjGcQ6yZND86zl0AVLWzYiCFDSev+1r4BSFp1XbIgnb55rzVJEWTIIfVDAY\n",
       "Hs/3YAALfy2ayaipNWoE9sTRP66GF2PQzuUB8jqX4EEiEHAonl3EGuAeRoobD9tYqORkT1xX/Lud\n",
       "qSdYe8TgFkV5QV8l2Vqex84YAAv6ZwBXO9KBzu2f63aPHmTEnfBG+iCpS7nEPiplgarOrPAv94IW\n",
       "reByJ0sBGY/YncnO5nfSQlxsAAVUcUHOzJi7CULZlHvfI2CPqcReVRkhNhD+4bQtkpbuGPJMXl+2\n",
       "AkxFOJfJU7pXaby7iEqmFpcPuF2h9n1ur6yirhfTtFKUm2w1orp6ArjMVoc3AQBIRaL3n5z3bLEu\n",
       "I1lV6liIwxGSXD45bbGWmJtYJmry/h8w3e3a5ePijn1VA78hfJ1Dwn4axPnO+ABVy2A5LcPrjxbY\n",
       "x/dv/RRf+FewEE9Cw+sQqZnXAAddqcgHMjxxAJ4qoTwrc9ldHp41LCJyZsN7CVhkrGtdl9xudmU6\n",
       "FT3V9kPwmRI/o8xfCRybYXY9djL4AAZifBPt8Lr8nmCeSx7nEgbHcv00/z16PAjyjeO3ni4bS6EW\n",
       "bhs0cp5HgBbBjTh7RcsPUNA4Fw4ZTYsAAlztmKY8x6lr7EJJtgy0xn1Nm0TjJRwr7hkImODe1lpt\n",
       "v7BUtKa3WIuKLbrbg0EvhZf9GeI6HM2qBPfV9pSIkuauUA/225hEo9HvMTw4JMTOarFp0W8kR1Nt\n",
       "FWJCP2trtteIzvXOkTSUl423+8BwzT6IIO2NMppdp/NikDb076PvJknPPkMm2GRuDUFoe7Zxu/e+\n",
       "G7wisVo/j3oykUgAE322gSKp3uFmKPDl37W3kxpFbuMrHiMln2qdguDVPGzWBBfojAntvVd7Q6cl\n",
       "WBEjA8G76EfDJL8MiDF9Ak8X9bZmkI9/GCWBuRlMEtRxmEVHC3XYfgmU4d4VstSv3ZsbavYT3Jna\n",
       "gTTWc9zCbYb2MKUXdyIws1b3pVkhJdb/Sb+WxspHzHi1eSjEpfFYLJXkWFArdL5RWQZK0fV/fO9L\n",
       "k/RLCV4AiHvGOa7YoTKmf4RVagFxnzD11FHrHBUcN5rq+AolTGHQ9VW7dxGNi1hgofGg5czJAbrJ\n",
       "3e1wNWEqE48cXflQ4hWDTZzO+XwVYLq4uL3qMLFAEkF4mQYdosz1KNu3FkUMc6jOaDVfNLZV/Ewy\n",
       "OWJy45vU0PrVRX//424Ko/9Bve7QPozQrW5UVi8msbLoTYc4mJpvdRW/WQoq5vWQ9MHE0gbCq2FP\n",
       "AGpBFf8Xo8azG9kcBWxuehhKstznTu3VVVe5NnZYJvxKkjVtYpTO78BABdjTHbkwRu2IzYylbneQ\n",
       "s+RbdrTm6y3x+tMj1KbJsw9r/ZtznIclMzYYzF/xNcYtLuAAAJmHNhmY7LYhibtZE32Ocq14tukX\n",
       "riuU0jAFWCb+ME7pBy7G3ZsO0YYqtaaDtFK2lw36VViNuzoIlqYHVV/fM34zgUgm3QSGtbLvLoBQ\n",
       "m9/NrFC5cpjTWNWt0/w1qOj+oAnjRg2aTd8olrcWxcYf7HX20KB+4AIGo1W4Z8LURfVw9c1w3j50\n",
       "vb+lfgcwvkNrsndNoR052cxnuhOx+BAbEoFlBTmxdR2rJMCyMDv0dAM7NZicDq61HshG/dA5PrRM\n",
       "UmmfSefBxg3oHXXaroJ0prabtIJixGJQejxDaeTE4DZg/jkrH9Vg4tUVHMrzg48/Nw5HFWf00tUE\n",
       "qPBaeKbrNWCqQYFxg0YCU1JUg41Z9/XtEfhRapdLJcjzrc3rsKNcAUhcGotDsMaZAY/53z1JvM4O\n",
       "b8DQcwTaj0YJQCqL88EZwD//1TkdWEbtAbK7upqu107+YgfKQ05N/DKhbUkngWsc6dOdXuQYcklT\n",
       "R9WqMyFMn3xdEUD3lQBpi5weC21HSsDG7NB8HeZLMFkxLJQskd8EKR4VS0XruvX/1r8dLpCPji6g\n",
       "L+Ew+5jLy3vm9jf5tFEgtNOX1JDi796+NOBGh+cr8Bky9YBMDDqLYD6XKISJsJtoTzKaailAk9xV\n",
       "hHbnQAEdvS0CBal34w8TiYbWpHG9PzdLfRZTyhNQtldrXcUI7DrbxSV0dbP1U9Y9ZFQiZSnTCVo8\n",
       "NI5pTVrcxQFLf8wcLZDwzQNtgCGGPVpqKIC+D7AVkZ41bUNb4971Ez56ZZbFSzErjGS8JSPqij+n\n",
       "/riw29CX0hh6d6GOjTHk9HviPPDqtd9ojOpWBlX3jqPO3L1Fp61vjxWPL2SqkWdU5hLNReJQGEMg\n",
       "6y+RyVvzGQPNdsn4A/7blG7hjEEWe0HP3JZO3hn230N5nGqa9ftB0ENpQ//txqcOlVav7q9oOght\n",
       "KH/9uNTiFthfbeMp+6IK2WRoj6e30Id/l2jG0MFqun0RVD0Ue2+gZdZTQ2Q+ZllaRIyhgY8EAGox\n",
       "5zAMeyp79lCtEUmithnQrexFVya/7O9oeVYAlRQRTSeB+r7yjnoNR6xIYhEyocZmZVFJYi2qSo04\n",
       "7HqS7+7KOPHFqmX7dUZNGeb6SLeRgOurzC+SzIG1c+l/9D1VwY8hdr25PzZAUZc3sYrlaQa5tvRT\n",
       "Pm/X6mqUfu8gZQbHECsVTgJKJJ9GvQl4H75LnEURoFpUPz1mQQK7tUBeSFx318OSNJsouwtitjNi\n",
       "I1GjAv1jrgH/WSlTQsn31y+L0hBHUO3OrfN1gs/CqNpTmfdP3JJRma2Q2+sL7MTlRrwL/wcOVRZ6\n",
       "v3xxufTjVgfA4qM3uBAZViSq31QZSz/HQDlLqEhM2idWxL2HYnr0P1UY/9dVNjl7tvI0T/gQA0SZ\n",
       "es5N4wUmrZSRAK3HO/8M4gdDng3C/9mjniPrN8/8zjKQ+8Isg7Xlc2yNOkkfMB/EvEgYYAZ13F7J\n",
       "T1WvkKE0n4fbt6Ww1P3xxoHNx7+WNYNgVcyqd1PC8Ks94KO2NWpg/liEnN5/HG/db4l2fWUf+nmY\n",
       "RA0i7bN8fe526Nr3CampYd4gJjX7YaGZ8kR7NPfgXSH3kQH+cg+WOpkCOXNv8xDaDEYR2BU5YQDL\n",
       "hCK+KhncDjrJjeATCiBKCQMDOdFm4lKA2ke1OaUHo1HIF1NSeClCUpDZbBcdB8Hzu+TLVNrWqfL/\n",
       "SW8CRVS+uvaroHIoDUt9ksm/NN9IfofYR7DtcesGQRUCHnyLb7xZHeFzb4momyd/tH6eYVzbILhS\n",
       "6RVc27FDveet4Tvb5OpHIsY+rEPRckuQojXbBJ6z7bxHmS/iYnvZtj93ZZ5yVqH9UrCIugugoITe\n",
       "QOdHxYTxmF1JdVHXo0cy6MkxvFGuvOnnvU2yNn+hUWTJO6mR2f9D4PLiWqzfrTD8H7iDSqVlK8kC\n",
       "kgt4Zt3PiuA0R4StDouVXnkbjiYwcBVcmyp5uAIS5cwNMj7XO+V77I7BDrKlmnfkM1BOP1BDptXZ\n",
       "+NrsMuJncON8EwKP5cODCCyrEqE2lzmV9WNYIVJKIiL1gIeRNEpIL375e2hBwkVcrKPy3yZP+D+U\n",
       "icmvshr+7/1pIMgFY/MEtbQPqCLNybWSuWTFCZ10SoOLTucKWGGcgfLpQPQ2+xPr7VJLb6segtmv\n",
       "J3RWKTH8DywA0PZKWDls4B2ZEq4hTruPuMLe/WstvKzlAwXBqFLstECs6OiVBPU8i2uzmQg2/BBd\n",
       "ko8wbPaW2z4fN6PIyZQj2I/bqGgHSr7EXrRDihJ7ruehm1AWfy3ATRgh6mx+Q2XBWrsrgZjL8oTN\n",
       "69s7c45w4iZxsClCzXNWFgqP5JlHpjp3heKAx8BEKBrr+GsMqHPr3qJdaRLQ3xKVdh6oJVpO5M0O\n",
       "DYWG0iWYG1TMwSWp+XjdTyHVFtZJbVxsIQ4gcIMEHiuNYWV5/6CMpG3F8FdOsNMYtnybUBxofyis\n",
       "Qj4VO3/kO2+WkKjbEdQm1cz86g2vLpqGa1VZ65uvGmcKJ93MzQJL085GIYMDR2Fe0h6KZpQbVg1F\n",
       "haydl8nLKg1OYkjzWoBw342i4vvScDYan0iRiju+xiMYl9QRbvisdcGG+8EdviZCcDmCtifsmVXt\n",
       "wxQ04V4JwgBHO4umHoAmK6sBbancgAcnDAAAAwOfAAABNUGaJGxBD/6qVQAdJmEACkzHxq0yoSk4\n",
       "60wARWGL8GaFG83nt0+VVrl0Cppw0PS+7AqSDjfSwMkBfcL+/xDMWAgNk5LHz4OPMaCuDH95huJA\n",
       "PnGMamUdFx0wGSsWQImzeJUmPVXnxJn/wKL5ZPdpKnUD7kUfJIGYyC2S559mgJHgbK1jBlt8HAbA\n",
       "BUBW6xAEj8wVxjYkmgfXPoPLMyrKZ9nc/f8PQMGUmr+3ETUkwOuxbMWCKyBv0qodC3MMj5Aj7NOT\n",
       "Lp6Al0XDbYKWt05Nz51EZguxxo13Ni5EWkvyVEMtxeO/P/g0d0vEJ1Xj9TUnvg8vCqIqNUD/0sp+\n",
       "dM0MzBF4H9+3NIGxWdnxRU843Ou4NuCnhAg+HGT2MNEGsVKoVepiGGenJtgdT0AFuaTyU3utSGUZ\n",
       "EAAAACpBnkJ4h38AgsAFqwuFYlBijaXPtqgD2aZm9LCAVm0uV4IkN9drhyKJQsEAAAAhAZ5hdEN/\n",
       "AAKOd9d2zhQ/lOMudGB9FbU4wSvaylT83mXkAAAAFgGeY2pDfwACjvQlJRWjk0Sg2lzXPoEAAACC\n",
       "QZpnSahBaJlMCCH//qpVAEUEHAABwlZnA2m0Jx+Y7JdEwRQugYMfIi2qDxn3J/9ddmY+0kPAYV6w\n",
       "4BzKaqlPhPiWcTaUwXrgAVBJyYGch+Qxt50U7er0P9bo11YrUdGWSFksZFkt5H+2qZYAKse9+46i\n",
       "ZerEaQY4lIXZtfUoZDDWgQAAAC1BnoVFESw3/wDAKVtJx+HK3shy3mQCNd0QAleoBPJDUqgShkCa\n",
       "GVNvV4Y38dsAAAAZAZ6makN/ANe84qMEzZlBJr0D459TDdAB9wAAAIRBmqlJqEFsmUwUTBD//qpV\n",
       "AEUEBqABxt6r2D3mIiCVvoJn/4XHAtvH7KHjl/vNrFcUnzj53G31TmD8fpfYIXgHtdZAweOXUGAb\n",
       "2Y4OjmxUrU2IatAAPNpz/8Gbe1c5BJe8+zEDZgUd+Qbapmckt0AkWn38BqNIPAd0c20hCTdZujwF\n",
       "+bsAAAArAZ7IakN/AbF9AOc9GkIdYRj3oAAWnTr6NPCgADpSqVQADS3AM3c6zvk4oAAAALFBmstJ\n",
       "4QpSZTBSw//+qZYQnMS4jmd+67NhxFLpWVj6AAAzESfL80ABGV2CNCBGo3b7VRZ5BrcYHDfYY6lD\n",
       "/YqoMQSY782v9eJ1GWNhZxfq3ZTPDPHV9AAUDXnIKA+lgQKPfu8ZaieftTyTk/iPvj4a9HszxIZi\n",
       "df9LCfSwbfc30RNnsRjihUg4ayIKBiW6YilMfrUSm+/OFtM2qZYABWTNW3S3uAaexWrl/dpMH8qy\n",
       "EakAAACPAZ7qakN/AbHi5xn47O1fB9OwAHq8oosAHr7/PYWzIfNY3U0a28VakfZ1MfWmAIRNF6J4\n",
       "TPYyZfhGswQCCtMLY0+GQvbgzw0o45RFi6tQ6zYM/7YQQr90QtKTrrsruZWcS91JrMcmDzaJSxzo\n",
       "ausRf71v+K/7HfFt30XU8IACvt/WM1wmzdxoM0VaIr07JWAAAAC7QZrsSeEOiZTAgh/+qlUE+zQG\n",
       "wX3suCAG7IDu9YxhUdsD89N9OjwGfUUwWRTopAafO/UkYr07Aff+EAYo+lB1Jweae2jO+oLr6uaL\n",
       "mLVY6CpQxeQi5B6V2QsaxbCcPjVEakLAQPiXwRikWn4OFs6vqbeR2JxWtU3UrzNL7myBVCYHoz8H\n",
       "GBZ/yJnmwuMdNJP4Z3UkrsqI2pO2qVQAInsBRa4bJAJdD+XnQ6Cg5lpTNULgT/hFxkzAUioooAAA\n",
       "ALpBmw1J4Q8mUwIIf/6qVQCY9cLZK+utkwqIn2zDCvDAEZXeP6xvquE2AKHz2VOZcipJmIuytBb7\n",
       "UBbq8r7h6kMEugxFpPEvNtZMeV4LBQxZ/4ZdNOiZFnOvjytRhOmKW5vC5L6ZboIUWy3b9zza08pr\n",
       "taX2Ix+Mzkij917SVQZ1WYNcc9ePxhF1p4831jP9k5KUCF55Eu2Zm+21SqABJCxo8ImqG4+M0Ej6\n",
       "R4GSqKUstAGMIk1UH1tE6YEAAAC/QZsvSeEPJlMFETwQ//6qVQT7NAQ6vrrZLrdvwLN2RJUAAA5v\n",
       "ae1FPAEWjc0PHfozdgefopoJCb+cPVfkMXhDhD1jSL/wWxqtOazXXjhvU9KbNi/Q5ZuzXkUz/PHR\n",
       "so1zckhGD6YvWkEtDL/DRiyKGfJrJxpWlkAOxrS9l6Tw4Z721OyCzGk+074ml1wATdqv5Mse+B2q\n",
       "Z0URjkKmDhYfADWpRY9i1Sck/DbeN4eBmV+1+48/V3m1Y5zfEq/cNiEAAACPAZ9OakN/Ac5gLoug\n",
       "PKSDoCNwAfXgSzdRhW9RABquLg6TpSjfgs+fwzwDQO0vtH6WI9Ow6DRyhJaBjTXIe/mPN/FPuTOt\n",
       "AF2eXU2qrriFhmDyL8a/z+Teca4Nm2ukFNnEcuMcejx5uagwKXguj8HE+lKs2ZLNIQ9A3jPT9eUt\n",
       "XwpwBly0WUFRj96E9Zlom4EAAADSQZtRSeEPJlMFPD///qmWAbLmJcR9rtO8kAB0rsqx1L4XnFYO\n",
       "guh9CQjgn5oeqWaWwvRlYSfGWLU+munTdwFY6EQLB5ZTJY7esSjNzKf7XdUtJ4GkYYvyCC2wgckr\n",
       "bNGJjoqUWI1O6lcLaPQVJAaxkbeDCxAn9i0abS/+G1F4DU+LvVzYPkGXaPgN7UsEisTvLOsoiE72\n",
       "tGn7j3Bwlhi+Chf+ny6XIY2LRUqG814w/BZEiSkuqt4yPKKAUAmQM505JLmg8DnYfSgxxsMg4Wzf\n",
       "uiqgAAAAlQGfcGpDfwGxfQDnPRpCHWEY96AAaqVggd1rjl3PUSXthHR3w7CxwsAGzROK7U64O2n0\n",
       "l2FKYNDb8tIYSuuCE/wUxi231pUcapCp+Jv4whhiY5oWE5/YyDsvEsjLLSzIoGC+YqnpczYpkA/0\n",
       "esC4FRvLyb5VntNqTL/bn7E02gfbABmBl0QAAR0cEs02xaz3j/3ZIt4YAAAA5EGbcknhDyZTAgh/\n",
       "/qpVBPs0BDq+utkut2/As3ZElQAADm9p6kI4ALDuThk6HXXa7fcLKHNkGofQr2hm0fbPMMjyG6bg\n",
       "1wTACSaGiKHnaqAJtZ8ZxA/7n2v1rtiU/9lR4oO7LRExg3LNrXHp0NlogjYVhDF0CA/vvY2lETU3\n",
       "Rm7FRTYoZnY+fzy/DrtHVVvvwGclf4L3rJ35GSLNFDou8mmR8afgptMwyJkAgTU9Gj8s9E2CI9It\n",
       "qRNJJBz4oKKhSyU8JejqeL5L18YJBnqBOYVolfgIGD0aBIxqUWzVDuyYO+TQDwAAASdBm5NJ4Q8m\n",
       "UwIIf/6qVQT7NAQ6vrrZLrdvwLN2RJUACr+ZUAeOkNgCZd6sR6TDzvYDH6WaI+uhAUWB7mO/zjnW\n",
       "G8kDqs9EUfp3/q0LRI8vXMeBTBaYnDvj0R2RffTU+dn71TStk/Flv11wyWJFeVuZ2bq5sh+HfR/E\n",
       "kzk+Pb71ygk28RP/vidu4QyDZwe5krgYpMABRGanBlduWmaRss1HUb1vgcEUw8DPL8XkRGWGXMMj\n",
       "UNnJB2pZP+ysFhqLP105ISKXkGeJ+P0sV5ph7JyFfhCdl1T6mXkvnBRXnvGEJmyvufTdUy7epSwI\n",
       "F0RT1jXXr3fCfAnzRhSu1HhhecbRSFNg4yl2dFZ4OFJKIr2REIR4mMLp0/V3t1wYiDg18qltf2eM\n",
       "qAJMAAABD0GbtUnhDyZTBRE8EP/+qlUE+zQEOr662S63b8CzdkSVAAYG06BfUQCaPhXfsiaSvG/b\n",
       "v+rJaHaQgc5vatkSqJQR/2LLYYim4TEWPgf6ExIM36kjqlt3XOqQXbQGrp+3r4kQ/Wie1ituQ8w5\n",
       "gmWmX4Bn0DPP2rXXptWx4ySJmzdsTf3WHJDZCQwFuVBVg8W230fINCcslZXQ4pWDeBSJrPX0JrAV\n",
       "0bUkz3dr6Y3BQBM5wmoJAH7Yjpwc028zQvCpXB45/2azBeFj6WOPy9x4X03Xy0g0IPTwzLSM629t\n",
       "0EY0nldDAyPtehDwF1KJQv5XopXqfk6SgZZr9nGl43lg/j99UrolpN6JYqeT5eKReOAAAAByAZ/U\n",
       "akN/AaT/5gNXB3W8xRRhEBq38ksXtU0OhRODP8ZG1Atk+vtVg+D1PACcpSybEU02/19WbmAwizQM\n",
       "oegX0Oa56d+7htYUWgD2zSWNFz9zy4J6s9JH6oF1uGi8gGFUAA+HjviwP2bNDtzts/eMw0TdAAAA\n",
       "0UGb10nhDyZTBTw///6plhCcxMTdbLIlQBt/5Ia7A8JPJ2OTH3KA71VKyJ7E6BstfYASZPNjVdt5\n",
       "HMVy/D9CRJH9UcViN/M3dxjpLE23cU2ejzjvtQ3B3hhDDYPQy0w7zSTr/ksxs5EwbmlbNPn50zdf\n",
       "xwGEoIpCIclgs4sE0Z8Sk6elu8EoAL0MJUSVABSEK4n/2FxQZF5EtpyVyp5ty5SuTTDDfYbaiqE9\n",
       "Tny4a6gVS+WnBQjFrZl6uzciScLUQqjXiWdhyOpl+ETCQUkaG/pYAAAAhgGf9mpDfwGw8193FHe2\n",
       "VZArkLojse46AD8TVtv2TcyFzejkWOjxim78xIYPTCKEXE4V334hWgmBgFFGYBRipa10zFHO0gDA\n",
       "lyOXvyVTUJ2zzcMEF067aHn0YFTHOTnwZus+sHl5/sNlnjKYGQDG1U8VTd/wA4BXpk5iFpxAjl0i\n",
       "abRuyi/hAAAAxEGb+EnhDyZTAgh//qpVABx1CWM0IxiGiCZdu/zYiAP85rDQEVZ9XdqW5XKGrOAB\n",
       "e/xD7kVxttUWT70APzexYfuFk2r29hDXW92L1qe4lOU2woa8FvDk3wlFdjYW56UgV6OCDT+Xhrma\n",
       "lTWDbI7U2jsBqcFTHmqLf78YNnsGLYmvbPVCH0khIPYJV/g69QTxYr42q6eKXa7lmxFuLzHQWfxL\n",
       "qTozHzdH3y8ZlIYvSeTLlRJSbUFcv0qyvk/IaKBcZcW97jkAAADvQZoaSeEPJlMFETw///6plgBv\n",
       "a5c/Lsg/CBCX80qnRrgpS8ZrEZ7QnvwoAOYDMLZogAm6LJlcL+OD3PGtOwwdWCAW/NxBtHGG5mx9\n",
       "PtWEJwlpsbQLS9L0ZtbnbjYhdSZYmcZwcFvKL+glK3sv5tZ5fudGdev0wxlSo38B5Qs5wFXpB/wm\n",
       "hIA54Wlt4oD/Zuy90oXr4uwByOdd+VlBHAzhzGtjEpohrcY+zhUaV6Et0AlJMBA908Pkhi9zRSWC\n",
       "ppyC7GUTAtUvozIm9vPJuvJnuytStl/yeaHdRSfAAjQSR+PKN30MBZ1BAGk3D9JwCHgAAABxAZ45\n",
       "akN/AE+TpDWdBgk4laBQABj0x8AAnJEzlLbZffUgPsv2UKVDpIfAxduAabPa63M4b0i8a67lZXkp\n",
       "4/Ewoof0yWSEjz0dx2mPEzwSSCsCmj3cGuDXWSxlZkleqVQAeXVk7x/DIGDu9nRS6wL/quEAAAC5\n",
       "QZo7SeEPJlMCH//+qZYAN8Oj19LYx+ri8ketR4/gA1N8pEay6pzYyn9EcBRxWKrltCMfNDnKolUi\n",
       "VLEa1gndoVFCPp/+TvrCFvIgen+X7cGnEDG9LeFKuwaTX8CmEFrZBMDgBoCATquRuYKWstanNOXC\n",
       "kT2U+owxybcvwKkGOUUTbOP7cofIuTAk1ZzJpTAkS9r45Bozu2FfdvaW2I1AizcfxK/x6bDoNlcE\n",
       "9v4dYckUoqmCW21qw64AAADUQZpcSeEPJlMCH//+qZYAN8cNWeVIM/ykrkr15Ooddti9aFAP1wK9\n",
       "7O2i7AwIac4nnOTR7pxs9dUlkfn0KAvS8TGiU6iUAv4ftJ6PGzCEDm6984cZ5ZVyWXue+4Rkzlf6\n",
       "68atlYHJuM8UXaNGEtcLRvTH7HiwkIdJb7YbW1MJXikT6bK0ruLhtDP6g30PTl4XLOwUkAZTN4K/\n",
       "8LBQh7eQGut7SPN3YyNly3SaO+fSHV1vGyiLtMC62na6jy9YMWkb4NJd5MkJ/f0h55rg2Rqqvv/C\n",
       "SkEAAADIQZp9SeEPJlMCH//+qZYALf8K2vD1BNHZtfRCIzLrZGVAA68lTG/GkJmrzITaVcjmHo5j\n",
       "Te9KlNU8VMK0Jd1CEqLsX9ahlv/wtebxQ1OvPSfDPE99jGEuKB6Hwq7jb7r3C8EAi0mn3tVdj7n3\n",
       "a67yPv5jkIG44lZTUNhIX/A95CEzTTsMssiIQedMIdH2a3tTxoWTbT3IKPeHJpixgbUP1ESZ9hUT\n",
       "pFqLZUvjLQSKmBpvU3OiJIWmvWspua3TBehaPOczyw7ZaVkAAADnQZqeSeEPJlMCH//+qZYAG8xx\n",
       "PMS7v2IceOnB5d2Y4gCbK8jPFD5Hz8FsN6/lvmJmxxiot7YEMmBxDZxgB//mIyr7sPaAvlVwUNx+\n",
       "VxhigKhY4E9eM/f0nm6iGIbbCP98pd+WY6uLfMO1klzGE3lWisCS0IjVxhechh6mOHfefPfrMiKu\n",
       "FAWRku0Le5N2yd74hSKcX/FNhJkGFwkM8PmyR1OC1LaR/A94i+TzAbS6c9r9kP7P+hulO7tne1Vk\n",
       "SGCS0sCwNkidxls3RlKHb6QF6Fueb0bkwJ2QuydHNsXNWmdkXPpnfnqSAAAA+0Gav0nhDyZTAh//\n",
       "/qmWABjPdKOZ+oJo7NhxFFSueu7Z6bUTWwlPIAL6+ROTSxDNaPehp8E0C+k7NRaqCcO4Lmwjfuca\n",
       "qzxnzJ8CKZTjk4Qsi2q6WUbPEPpdJR5pGKju5fkYEH/9t18QqVflZIPDQHBGM2ZtFeGpDz2ZFUnt\n",
       "RbUHMHWR6/3VuLj/xcfNGX9sO9dp/KEsV20cg9Sq/gCcsKpw/YXlS2umwFD9bozyfw2kX0U2HS1O\n",
       "u7KRKD28ZFzhVqyz0KcFJSod/EhE0jlYPm1cL4h224R4FqlcwPthu8wJGZe4tJWqGOUX6bZA1DZq\n",
       "XwzQVQkgnoFAZRLwAAAA80GawEnhDyZTAh///qmWAA33ulHNAJPuOApbYZ8Vpw7qgAAAU8neaAAO\n",
       "ujN7VGGVU1/9SFJhEYTjdlQjFR39whN2zXEvLY4rq1lBGpz9MZ/207ujx2MuOUjgElUTTopWBbVl\n",
       "uK23tyonUXsmV6nAQSxAmtq9yo9eC9kJeXYeyXWG+LS1HO/OWE1AQUS/dmW00gLbvPBOqYCFk37R\n",
       "hayeZ2vUCnKhdVnjI+Jw+aZzHYgdrLgDIfei/d8Xz17alZw5lfdx1kTEYiPhomSFd47Hv18bc2hd\n",
       "VFN3da7CaGOiNdpaZjGsbTa5TMOlhqZTq4oVe7ZaVwAAAR5BmuFJ4Q8mUwIf//6plgALf8K2vFpU\n",
       "E4Ce961KOceMwQAGdnIghq13LhtWdIVnL4bhyhJES07DGRoELXuXCmP1t4r5TIoBcbwKtJ+YxHYu\n",
       "ohYkoTjHnfsEfsfln6fvORdlFt0XrdEMpLjPpe3DrOCvf/mIUUmmGAnjzOhhIPVe45DInsTBGEJe\n",
       "2e3uzv3i/cbTQTnqXPCl5fJTDaMn4sIFLv9GanUs87cYFsOjFndDV/3ooL4S4KWqFFCCs8xeuUCz\n",
       "9Gz/lPqtKVzKpgycgaMrolObnGgjI6f4VazR6xwLySkBxil8EH3NIw1ajaH6DHJVqJHYC5sRkLHW\n",
       "dFVYKAyHgiN7xTkk7fUbanj6JGC3qHqa/eYrHnq0VsupE3+gAAABrkGbAknhDyZTAh///qmWAAYz\n",
       "3SjmfqCaOzYcRS6VmCNPsp5qn/h3GYABxvg4wRefFt7CSbvcD3Rq3bNYHpY/vFtj9V39vJUcsyZf\n",
       "5sDSZe42kKtlB1I3yZs7IFPVftRTpszrt9cf8dAo10OCiN9XSp86Y89t5a76y7pUqtRKioKUAGCB\n",
       "YPsQohasgnGcz5HzNaEsGf1GN7bjyhmtrWYt60mZMXiIyVIlC/UJoYFrWu5GDL8l6cq9hZVpPf3d\n",
       "ZZFRe708jxHnYxVaXn4W1x1xRoyvPfV6RRjUo+6IHkOXVU82lxIrv1NhkXqkiu+xCT3pEaoVKvQt\n",
       "L8f2zgdsb80kYj3inYEMi71LrmLSItoDFuUw/YJWFSX1rqCAbvhjxE1KurgXzTkv5mOdTx9lDdnL\n",
       "V9A7sOMDfTnEldWiLyvfgI0Qt3utJsAaIU9HgQwCxnRRnsfAeG30Y7ZG8tfYuN3viGL28A23v5o1\n",
       "y62cxvE7EDjmRSfUaJ0/M7aeuDEgec8JwOH/Z2/ZyGBx1kmf6pihleC7+ferUoSfPaPRP0bBUXh6\n",
       "bhTRfM27EfMk2fmEgVkAAAH0QZsjSeEPJlMCH//+qZYAA0HulHM/UE0dmw4il0rKx+k3MZyxAoxZ\n",
       "t9//uBVEgBNNlbP/FQbZx011lb6wsb07jCZD9rBh0h/uGWNQ9/J4CEAPtWgOQnsqVkW4k+pqhBIP\n",
       "qmVWvIUDy74nkQBs5DwEtd4JQ+89ujEOMYtgmHEsbOuwCqFGr7ru1WCBz0F8pPwdbntoRaQCjUI9\n",
       "+nacRI5UBFCQTiekM09hlll3a+I/krAwYY+A73kWtZ84NMdmwlcCbPMup2Xz7LOONwvWePwIA4Ll\n",
       "1huAwJkRmxl3WzJ6eIpRRe5al8lXZ1sdRoPetO/9E8jkbTZQ3ZhbkAYU8iq3atbXYFkwfk1Rdw5m\n",
       "K2CQ8wW5B30YocX9KDEk1FVYfRm9nIrUAeRHV4UnlmFj/BSKZE7TtuqQIXyJCEoY9Uf4eWJ6WoU3\n",
       "ZYJ43yvhjg1GblDqLvJYUYVifaMIDKqXW2jhwJYYSn4CYRinEh2SykwSKhAPam14uSceJhjdQX8x\n",
       "ZBvIAghNQQ3tNugqS4GyAtCG8V9lfsv9AkW71EfFxITnPNkYErCatBaAhyTOJve7NtNLXYEO1qjc\n",
       "LRGMoc1hXtGm8mdoHSObSiStwCoi9JdAzdyuEC34JANC5LvFQXzpfIoauITCeySh3Cr8/pAt+zTG\n",
       "mLjQxYAAAAI7QZtESeEPJlMCH//+qZYAAjP1kIh1DVQbvTnnxrmYqR3RFgNeOGlEqqdiKfwiquQA\n",
       "4yBf8T9lVIkzt+i9YHvhIkAtl/8VjqsEoaXiLiRBSNGkiDSLxmzQiexijQN5Tv/qmEHb5ycQ3kUj\n",
       "eTpZurw9bT1ODJcOK3a3X7dykTQLZHJgYuSc8gMxiYrqH2KhS7WnKCIuXnADoD9QNDiQ9nqF+RlC\n",
       "lQZJ4L22ZiIEScF8i8Y7/dtvQnIxwcQufqgZWm10d2dQkXEN5lhyUEkLbu7vsvlZuomY+M2sm8/F\n",
       "F9igXa+GEtQPsog9vZ+2qGKuDFyLloHHMfXNsrBG6lqlXQutSs69sjlViJWmdQlXqD2Msm0vKUoT\n",
       "NBzp1LJBhX9KZO6i/V3HFYa6I/HtQQEMqfExbp6B7APA1qTEt5sdTMqmUn1zh31vrQpdOEgrGfao\n",
       "UqWUiut5VsDYgNSXTnr613y2dU3TTdCJJEv95rS3uIVP29v0gJ9JVoPcv1tOIAXMTPU/5b97gdP3\n",
       "or0ts6Sgqk/FkoXYmIjpmz9bzQiKvZ+T4g7pKmDMmlhm/f1g3NfRJPS9mnIjb/PHhOksPjXUDZZl\n",
       "fKUdIALlLcWmr35V0565KJhQxwuqoZLSo3QlR3QZ5kDbP+HGFaIp5eOgjZTWmpWtrjKMmiVmW91y\n",
       "5LZfqab5gjqYnqcItQEEU38GmsusFPqGu3z+VM+QcXyRvizEtLON9rgpNV6nwjNnTLFGQtTxshx+\n",
       "V7FHtmCbiDnC/wAAAlJBm2VJ4Q8mUwIIf/6qVQAAMZ71KyV9dbJdbt+BZ3e7SNYOr7PYABmxgAPW\n",
       "Et3fw7rxwAdpd5EV/XRWHyNckj1xqhag2ci5D+EtVkZOHyLJElqCN74zopLj1aLMyTN4CJRs2lpU\n",
       "kOqYmC25Z4Nt9t3MQRq/VOEuZjvuas1lfGMWGzISdMlO+FQCsROcAepd4gR0vqpUQwzmU3xwyBV2\n",
       "L7/1Fcqi/VOc15ERGxqN1k2jJ3P0wUFlPs8lzu1c9xaxDiDkHvSlS+GeMegyrglfC2bFCYetGEDT\n",
       "/Ank7t+NLNMghCrcVECz3KCdh5wJwhRnPaBpZULo+oXd5ETuxsV/aNvm6VbjwSXjCv9SPVVcd1AT\n",
       "E8mpoMY+wBLc6WU9fldq/JcUsXvhjk0NArTVVJ49mSvzsJqNFlDfolrmnBcqZ2/SahOy+uQSGwKn\n",
       "+7GKmeMPBe5usenpeQfy0pdSVPS0wOCgIkODaqamaA291SreAlAlwv9+PBA0mXVTAy8dDlNF7D8U\n",
       "Sadm0VFFDcaoR5mrtkFlPJbhjhbJtpoLEMuPp3/vIS8KbsmHe2nsGalfxUpKVCy86A281MHYPyQ7\n",
       "GYZJaIHj2jcC/BYtDeyAlL6r+zaMAe8snml1AV9zFjUA8dMKlIONVXQe3DSISitM9BWdJyIjgRsa\n",
       "DCKUPGEPC62F1w02qYIzlmbQjQGUp3TCemCf2Em/uxKYJpvWUYCghB0CqtBpoZaPqlXSGHp7i34T\n",
       "6DhIwDE5EAPpDatKJwTDYIrbXZ+PQc4StMHm8M4jXo4fSO8jgkcAAAKMQZuGSeEPJlMCCH/+qlUA\n",
       "Dae9Ssl44EdhWw/w3g5k4OHRoeXUiOppnEUMABfq4V6aXuG/P38IsBOAF0oof9LBwuOOzZC4My7E\n",
       "DlrpDtYfP7m5FUbnAnh4RwRNwQg0ZgP9zeHI0RLYWFuKammgWKLdeOaID+JwnDmzz8A4yV/TXVkb\n",
       "aDK1lMpG6pMUztitIjiJEorgweWynrT3uWeKE1nwxO/l1OsIIMAcaLJBe41KO/rD5FDpt1ip7HUM\n",
       "/y6AAMucaUK1cR/NFlnHN7x00J1XCtrbpeSv2Enif2THG0CYTxm8RymmD6HNcCUFxrdoUp8lWVI1\n",
       "0vI/6xylsqw+eHXmdQ28v06wJ7sWDsKilCBv2GzJvWwf9J2p4F4cSx0J721DRUCTvGlpM8Tr5ogD\n",
       "ljugPNYVFQM/ogzI+Isgk6Y8j6cpFJx6OvGeOa3e4VjPUOk+V2ETFGizIf2KsNmxgt8PGHJnz8F0\n",
       "4HUdUzwXOf632Xb0dvqZwOCkQRDkKlaVjVrsh9Hv+g1lVx5OHoC/ADWWOo6TQALV7OH8+1Elx9An\n",
       "/WKSwfCYSnRpfSX8T2GRYa252VobSx74x7D9NS4JX53DBpI18BJ3tdJbvkfgHvwsw520KjrtVemW\n",
       "dLtAiFEBZwaK1Lk9ZaqZ+c+iDhsAQEJH/vTIR5oYTx9d5he2r7/MptOm4k2742HEUAxW+/MyBTyA\n",
       "Cbnh4SSZ5EaDGNPa4PaHoF1YXNTrSv8LXh3tHG69c87frEOAcxeZ/gFYRQLM/DAHsjEMg+vFSYRP\n",
       "KX817XvkKQ25ZLMUQVOYxJlM7xuIczRyf2uPi+bJGdv8OI6yreOa9K9vqqWw2VilLQASSO9RT9Q1\n",
       "DdZFiQxlj0HGgQAAARBBm6dJ4Q8mUwII//61KoAAIj9m6l53d4qMHbc2ZTWbJ2Hcg/qgKIIOsAHD\n",
       "rRtwKBYnTUAOJPKXSSh7f+sDabMkz72IpKmOwpRFwTBO0r8We3UtECPNTNkGDjxoxSI5U2sWRSoF\n",
       "zkVB+mc7yczx9IE/aPSnog9LhSveV7WV7VVWgdfBwx1KWtgDyz++71PoiwH7jA8OVvkupvgXkjEK\n",
       "/65IFA1bARN2oNklmZuVgv90I2BTAiHxII5vgyFplChrHmbC7BNRJzoCFoGcm5rML4ooaTlPp4lB\n",
       "xVcG7ShdF4mj5UVBDjlob7CW6aj6S6HC5OtWn+Dm2HV/s+c5sH9hLbbXxe+KAWRjVVkj0g0Q9hVc\n",
       "qQAAAExBm8tJ4Q8mUwIIf/6qVQApvx0Ei4xL7cFWYHxjRz1zS1UsF8ASMq4MAQqQy2MwM7Secz1z\n",
       "x7lHZxgm+Tko2ix9vJNW/1LtTY3MnBBFAAAAOUGf6UURPDv/ABOHKPEo4oEIMiHi/z4S45TAXDld\n",
       "Pa+++wlH0h/3TKyB20inrSz1NCMP1NoqVnZjLwAAACcBngh0Q38AG56xcEbQOActqrKZmg/QCWEV\n",
       "FNF2CaEIjgAD9vL1dFEAAAAiAZ4KakN/ABHa9i8Vr7KUhFMeIeYGuhpJXCqxDI6btJs0eQAAACVB\n",
       "mg9JqEFomUwIf//+qZYAAAs3wrk9CxVhp7m3NtehmnfRWr/KAAAAJ0GeLUURLDv/AAypIArYMRxB\n",
       "hQQ2z/5FzKM0HC4Yh8JrRfKqFC2wPwAAACIBnkx0Q38AEdfZTwyx6BN3Bs+hITCA1DaBKx84AvIZ\n",
       "TkeRAAAAGQGeTmpDfwAR2vYvFa+ylIRTHiHmBroZBgUAAAAVQZpRSahBbJlMFEw3//6nhAAAAwHd\n",
       "AAAAHAGecGpDfwAR3IyfavicSpDVdEx4EbBMWIoCOaAAAAUObW9vdgAAAGxtdmhkAAAAAAAAAAAA\n",
       "AAAAAAAD6AAAE4gAAQAAAQAAAAAAAAAAAAAAAAEAAAAAAAAAAAAAAAAAAAABAAAAAAAAAAAAAAAA\n",
       "AABAAAAAAAAAAAAAAAAAAAAAAAAAAAAAAAAAAAAAAAAAAgAABDh0cmFrAAAAXHRraGQAAAADAAAA\n",
       "AAAAAAAAAAABAAAAAAAAE4gAAAAAAAAAAAAAAAAAAAAAAAEAAAAAAAAAAAAAAAAAAAABAAAAAAAA\n",
       "AAAAAAAAAABAAAAAAbAAAAEgAAAAAAAkZWR0cwAAABxlbHN0AAAAAAAAAAEAABOIAAAIAAABAAAA\n",
       "AAOwbWRpYQAAACBtZGhkAAAAAAAAAAAAAAAAAAAoAAAAyABVxAAAAAAALWhkbHIAAAAAAAAAAHZp\n",
       "ZGUAAAAAAAAAAAAAAABWaWRlb0hhbmRsZXIAAAADW21pbmYAAAAUdm1oZAAAAAEAAAAAAAAAAAAA\n",
       "ACRkaW5mAAAAHGRyZWYAAAAAAAAAAQAAAAx1cmwgAAAAAQAAAxtzdGJsAAAAs3N0c2QAAAAAAAAA\n",
       "AQAAAKNhdmMxAAAAAAAAAAEAAAAAAAAAAAAAAAAAAAAAAbABIABIAAAASAAAAAAAAAABAAAAAAAA\n",
       "AAAAAAAAAAAAAAAAAAAAAAAAAAAAAAAAAAAAGP//AAAAMWF2Y0MBZAAV/+EAGGdkABWs2UGwloQA\n",
       "AAMABAAAAwBQPFi2WAEABmjr48siwAAAABx1dWlka2hA8l8kT8W6OaUbzwMj8wAAAAAAAAAYc3R0\n",
       "cwAAAAAAAAABAAAAMgAABAAAAAAUc3RzcwAAAAAAAAABAAAAAQAAAShjdHRzAAAAAAAAACMAAAAB\n",
       "AAAIAAAAAAEAABQAAAAAAQAACAAAAAABAAAAAAAAAAEAAAQAAAAAAQAAEAAAAAACAAAEAAAAAAEA\n",
       "AAwAAAAAAQAABAAAAAABAAAMAAAAAAEAAAQAAAAAAgAACAAAAAABAAAMAAAAAAEAAAQAAAAAAQAA\n",
       "DAAAAAABAAAEAAAAAAIAAAgAAAAAAQAADAAAAAABAAAEAAAAAAEAAAwAAAAAAQAABAAAAAABAAAI\n",
       "AAAAAAEAAAwAAAAAAQAABAAAAAANAAAIAAAAAAEAABQAAAAAAQAACAAAAAABAAAAAAAAAAEAAAQA\n",
       "AAAAAQAAFAAAAAABAAAIAAAAAAEAAAAAAAAAAQAABAAAAAABAAAMAAAAAAEAAAQAAAAAHHN0c2MA\n",
       "AAAAAAAAAQAAAAEAAAAyAAAAAQAAANxzdHN6AAAAAAAAAAAAAAAyAAAPwQAAATkAAAAuAAAAJQAA\n",
       "ABoAAACGAAAAMQAAAB0AAACIAAAALwAAALUAAACTAAAAvwAAAL4AAADDAAAAkwAAANYAAACZAAAA\n",
       "6AAAASsAAAETAAAAdgAAANUAAACKAAAAyAAAAPMAAAB1AAAAvQAAANgAAADMAAAA6wAAAP8AAAD3\n",
       "AAABIgAAAbIAAAH4AAACPwAAAlYAAAKQAAABFAAAAFAAAAA9AAAAKwAAACYAAAApAAAAKwAAACYA\n",
       "AAAdAAAAGQAAACAAAAAUc3RjbwAAAAAAAAABAAAALAAAAGJ1ZHRhAAAAWm1ldGEAAAAAAAAAIWhk\n",
       "bHIAAAAAAAAAAG1kaXJhcHBsAAAAAAAAAAAAAAAALWlsc3QAAAAlqXRvbwAAAB1kYXRhAAAAAQAA\n",
       "AABMYXZmNTcuODMuMTAw\n",
       "\">\n",
       "  Your browser does not support the video tag.\n",
       "</video>"
      ],
      "text/plain": [
       "<matplotlib.animation.FuncAnimation at 0x7ffb7b14c0b8>"
      ]
     },
     "execution_count": 61,
     "metadata": {},
     "output_type": "execute_result"
    }
   ],
   "source": [
    "anim"
   ]
  },
  {
   "cell_type": "markdown",
   "metadata": {},
   "source": [
    "**p.s.: the above may indicate that, after a few datapoints, there is no point in making a Bayesian model. But notice we're here in the 1-dimensional world! If you have a few more dimensions, the amount of necessary data becomes tremendously large (Google \"curse of dimensionality\")!**"
   ]
  },
  {
   "cell_type": "markdown",
   "metadata": {},
   "source": [
    "# Part 2 - Generative story"
   ]
  },
  {
   "cell_type": "markdown",
   "metadata": {},
   "source": [
    "Consider the \"dwell time prediction\" story we discussed in the lecture.\n",
    "\n",
    "Implement a function that generates the data according to the slides. \n",
    "\n",
    "We write the first and last lines of your code... ;-) \n",
    "\n"
   ]
  },
  {
   "cell_type": "code",
   "execution_count": 62,
   "metadata": {},
   "outputs": [],
   "source": [
    "def dwell_time(X, N, sigmab, sigmae, pi):\n",
    "    dtn=[]\n",
    "    beta = np.random.normal(0, sigmab, 2)\n",
    "    z_n = np.random.binomial(1, pi, size=N)\n",
    "    idx = z_n == 1\n",
    "    \n",
    "    dtn = np.zeros(N)\n",
    "    dtn[idx] = np.random.normal(beta[0] + beta[1]*X[idx], sigmae)\n",
    "    \n",
    "    return dtn #returns the list of generated data through ancestral sampling"
   ]
  },
  {
   "cell_type": "markdown",
   "metadata": {},
   "source": [
    "Let's create the X dataset then"
   ]
  },
  {
   "cell_type": "code",
   "execution_count": 63,
   "metadata": {},
   "outputs": [],
   "source": [
    "N=1000\n",
    "x=np.random.binomial(1, .4, size=N) #there's less occurences of peak hour buses (just because it's less time in the day)"
   ]
  },
  {
   "cell_type": "markdown",
   "metadata": {},
   "source": [
    "Run your function to generate N points (i.e. perform _ancestral sampling_). Choose whatever parameters you like"
   ]
  },
  {
   "cell_type": "code",
   "execution_count": 64,
   "metadata": {},
   "outputs": [],
   "source": [
    "dtn=dwell_time(x, N, 5, 1, 0.8)"
   ]
  },
  {
   "cell_type": "markdown",
   "metadata": {},
   "source": [
    "Enjoy the plots..."
   ]
  },
  {
   "cell_type": "code",
   "execution_count": 65,
   "metadata": {},
   "outputs": [
    {
     "data": {
      "image/png": "[encoded data removed]",
      "text/plain": [
       "<Figure size 432x288 with 1 Axes>"
      ]
     },
     "metadata": {
      "needs_background": "light"
     },
     "output_type": "display_data"
    }
   ],
   "source": [
    "plt.hist(dtn,  bins=40);\n",
    "# They are negative, you have to impose more restrictions to it, maybe a different distribution for the betas or a different distribution for k_n"
   ]
  },
  {
   "cell_type": "markdown",
   "metadata": {},
   "source": [
    "# Part 3 - Gaussian mixture"
   ]
  },
  {
   "cell_type": "markdown",
   "metadata": {},
   "source": [
    "Let's play with mixture models? :-)\n",
    "\n",
    "We will start with some data generation again"
   ]
  },
  {
   "cell_type": "code",
   "execution_count": 117,
   "metadata": {},
   "outputs": [],
   "source": [
    "mu1_true=-10\n",
    "mu2_true=10\n",
    "sigma1_true=5\n",
    "sigma2_true=5\n",
    "\n",
    "x1=np.random.normal(mu1_true,sigma1_true, 100)  #We start with a small number of points\n",
    "x2=np.random.normal(mu2_true,sigma2_true, 50) # you'll understand later why... ;-)"
   ]
  },
  {
   "cell_type": "markdown",
   "metadata": {},
   "source": [
    "We can also visualize it"
   ]
  },
  {
   "cell_type": "code",
   "execution_count": 118,
   "metadata": {},
   "outputs": [
    {
     "data": {
      "image/png": "[encoded data removed]",
      "text/plain": [
       "<Figure size 432x288 with 1 Axes>"
      ]
     },
     "metadata": {
      "needs_background": "light"
     },
     "output_type": "display_data"
    }
   ],
   "source": [
    "from scipy.stats import norm, dirichlet\n",
    "\n",
    "plt.hist(x1, bins=50, density=True)\n",
    "plt.hist(x2, bins=50, density=True)\n",
    "x=np.arange(-40,30, 0.01)\n",
    "y1=norm.pdf(x, mu1_true, sigma1_true)\n",
    "y2=norm.pdf(x, mu2_true, sigma2_true)\n",
    "plt.plot(x, y1)\n",
    "plt.plot(x, y2);"
   ]
  },
  {
   "cell_type": "markdown",
   "metadata": {},
   "source": [
    "we need to put everything in the same dataset... tough reality calling!"
   ]
  },
  {
   "cell_type": "code",
   "execution_count": 119,
   "metadata": {},
   "outputs": [
    {
     "data": {
      "image/png": "[encoded data removed]",
      "text/plain": [
       "<Figure size 432x288 with 1 Axes>"
      ]
     },
     "metadata": {
      "needs_background": "light"
     },
     "output_type": "display_data"
    }
   ],
   "source": [
    "x=np.append(x1, x2)\n",
    "\n",
    "plt.hist(x, bins=50, density=True);"
   ]
  },
  {
   "cell_type": "markdown",
   "metadata": {},
   "source": [
    "Looks ugly!..."
   ]
  },
  {
   "cell_type": "markdown",
   "metadata": {},
   "source": [
    "It's time for you to implement the model and infer the parameters... \n",
    "\n",
    "Let's simplify a bit from the slides. Let's assume we actually know the true variances of the two gaussians (as defined above), so we don't need to consider $\\boldsymbol{\\Psi}$ and $\\nu$. In that case, our log probability looks like:\n",
    "\n",
    "$ln(p(\\pi, \\mu|\\sigma, \\sigma_{\\mu}, \\alpha))=\\sum_1^n \\big[ln(\\mathcal{N}(x_n|\\mu_1, \\sigma) \\pi + \\mathcal{N}(x_n|\\mu_2, \\sigma) (1-\\pi))\\big] +ln(Dir(\\pi|\\alpha))+ln(\\mathcal{N}(\\mu_1|0, \\sigma_{\\mu}))+ln(\\mathcal{N}(\\mu_2|0, \\sigma_{\\mu}))$\n",
    "\n",
    "\n",
    "Can you implement this function and estimate the right parameters for $\\mu_1$, $\\mu_2$ and $\\pi$?\n",
    "\n",
    "For now, just worry about finding the **maximum** value of the distribution (also called the \"posterior distribution\"), as opposed to the full distribution for each parameter. This is called the \"Maximum A Posteriori\" estimate, or MAP. \n",
    "\n",
    "(how would you get the posterior distribution of each parameter?)"
   ]
  },
  {
   "cell_type": "code",
   "execution_count": 150,
   "metadata": {},
   "outputs": [],
   "source": [
    "import scipy\n",
    "from functools import partial\n",
    "from scipy import optimize\n",
    "\n",
    "def mixture_ll_wo_data(X, sigma_x, sigma_mu, alpha, params):\n",
    "    \n",
    "    mu_1, mu_2, pi = params[0], params[1], params[2]\n",
    "    \n",
    "    norm_1  = np.sum(norm.logpdf(X, loc=mu_1, scale=sigma_x))\n",
    "    norm_2  = np.sum(norm.logpdf(X, loc=mu_2, scale=sigma_x))\n",
    "    dirich  = dirichlet.logpdf(np.array([pi, 1-pi]), alpha=alpha)\n",
    "    prior_1 = norm.logpdf(mu_1, loc=0, scale=sigma_mu)\n",
    "    prior_2 = norm.logpdf(mu_2, loc=0, scale=sigma_mu)\n",
    "    \n",
    "    return -(norm_1*pi + norm_2*(1-pi) + dirich + prior_1 + prior_2)\n",
    "\n",
    "mixture_ll = partial(mixture_ll_wo_data, x, 5, 50, np.array([1, 1])) # Values are replaced from the left\n",
    "initial_guess = [-10, 10, 0.3]\n",
    "bnds = ((None, None), (None, None), (0.0001, 0.9999))\n",
    "solution = scipy.optimize.minimize(mixture_ll, initial_guess, bounds=bnds, method='L-BFGS-B')#, args=(x, 5, 50, np.array([1, 1])))"
   ]
  },
  {
   "cell_type": "code",
   "execution_count": 151,
   "metadata": {},
   "outputs": [
    {
     "name": "stdout",
     "output_type": "stream",
     "text": [
      "      fun: 694.0060576295548\n",
      " hess_inv: <3x3 LbfgsInvHessProduct with dtype=float64>\n",
      "      jac: array([ 0.00000000e+00, -1.93267624e-04,  5.07587856e+00])\n",
      "  message: b'CONVERGENCE: REL_REDUCTION_OF_F_<=_FACTR*EPSMCH'\n",
      "     nfev: 76\n",
      "      nit: 15\n",
      "   status: 0\n",
      "  success: True\n",
      "        x: array([-1.98550188e+00, -3.28606875e+00,  1.00000000e-04])\n"
     ]
    }
   ],
   "source": [
    "print(solution)"
   ]
  },
  {
   "cell_type": "code",
   "execution_count": null,
   "metadata": {},
   "outputs": [],
   "source": []
  }
 ],
 "metadata": {
  "kernelspec": {
   "display_name": "Python 3",
   "language": "python",
   "name": "python3"
  },
  "language_info": {
   "codemirror_mode": {
    "name": "ipython",
    "version": 3
   },
   "file_extension": ".py",
   "mimetype": "text/x-python",
   "name": "python",
   "nbconvert_exporter": "python",
   "pygments_lexer": "ipython3",
   "version": "3.6.7"
  }
 },
 "nbformat": 4,
 "nbformat_minor": 2
}

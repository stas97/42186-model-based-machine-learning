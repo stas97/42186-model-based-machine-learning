{
 "cells": [
  {
   "cell_type": "markdown",
   "metadata": {},
   "source": [
    "# Part 1 - The most common continuous model - the Gaussian "
   ]
  },
  {
   "cell_type": "markdown",
   "metadata": {},
   "source": [
    "Welcome back! Today, we will now focus on how to incorporate continuous variables in your graphical model, and on how to estimate the parameters (e.g. to generate predictions later)"
   ]
  },
  {
   "cell_type": "markdown",
   "metadata": {},
   "source": [
    "As usual, we'll start with the imports. "
   ]
  },
  {
   "cell_type": "code",
   "execution_count": 1,
   "metadata": {},
   "outputs": [],
   "source": [
    "import matplotlib.pyplot as plt\n",
    "import numpy as np\n",
    "from math import log\n",
    "%matplotlib inline"
   ]
  },
  {
   "cell_type": "markdown",
   "metadata": {},
   "source": [
    "One thing we will do a lot in this course, is create some \"toy data\". The idea is to have datasets that we know so well, that we even know the true parameters. It is important for you to understand how well your PGM is able to learn them!\n",
    "\n",
    "...of course, in the real world, you don't know the true parameters. That's what makes it hard and interesting!\n",
    "\n"
   ]
  },
  {
   "cell_type": "code",
   "execution_count": 2,
   "metadata": {},
   "outputs": [],
   "source": [
    "mu_true=7         #True parameters. Feel free to mess around with them... \n",
    "sigma_true=100\n",
    "X=np.random.normal(mu_true,sigma_true,1000)   #generate 1000 samples from this gaussian "
   ]
  },
  {
   "cell_type": "markdown",
   "metadata": {},
   "source": [
    "It is always useful to plot the distribution, whenever it's possible..."
   ]
  },
  {
   "cell_type": "code",
   "execution_count": 3,
   "metadata": {},
   "outputs": [
    {
     "data": {
      "image/png": "[encoded data removed]",
      "text/plain": [
       "<Figure size 432x288 with 1 Axes>"
      ]
     },
     "metadata": {},
     "output_type": "display_data"
    }
   ],
   "source": [
    "plt.hist(X, bins=50);"
   ]
  },
  {
   "cell_type": "markdown",
   "metadata": {},
   "source": [
    "## 1.1 Maximum Log Likelihood\n",
    "\n",
    "So, we're ready to start..."
   ]
  },
  {
   "cell_type": "markdown",
   "metadata": {},
   "source": [
    "In the last lecture, you played with the log likelihood function:"
   ]
  },
  {
   "cell_type": "markdown",
   "metadata": {},
   "source": [
    "$ln\\text{ }L(\\mu, \\sigma^2)=-\\frac{n}{2}ln(2\\pi)-\\frac{n}{2}ln(\\sigma^2)-\\frac{1}{2\\sigma^2}\\sum_i^N (x_i-\\mu)^2$"
   ]
  },
  {
   "cell_type": "markdown",
   "metadata": {},
   "source": [
    "We still assume that the standard deviation, $\\sigma$ is given. The  program below finds the (approximate) maximum log likelihood estimate for the mean ($\\mu$)"
   ]
  },
  {
   "cell_type": "code",
   "execution_count": 4,
   "metadata": {},
   "outputs": [],
   "source": [
    "def Gaussian_loglikelihood(X, mu, sigma):\n",
    "    n=len(X)\n",
    "    return -n/2*log(2*np.pi)-n/2*log(sigma**2)-1/(2*sigma**2)*sum([(x-mu)**2 for x in X])\n",
    "\n",
    "def MLE(X, sigma):\n",
    "    l=[]\n",
    "    maxll=-9999999\n",
    "    bestmu=-9999999\n",
    "    mus=np.arange(-100, 100, 0.01)\n",
    "    for mu in mus:\n",
    "        ll=Gaussian_loglikelihood(X, mu, sigma)\n",
    "        l.append(ll)\n",
    "        if ll>maxll:\n",
    "            bestmu=mu\n",
    "            maxll=ll\n",
    "    return bestmu, mus, l\n",
    "        "
   ]
  },
  {
   "cell_type": "markdown",
   "metadata": {},
   "source": [
    "Please test your program (e.g. choose $\\sigma=5$)"
   ]
  },
  {
   "cell_type": "code",
   "execution_count": null,
   "metadata": {},
   "outputs": [],
   "source": []
  },
  {
   "cell_type": "markdown",
   "metadata": {},
   "source": [
    "## 1.2. Bayesian model"
   ]
  },
  {
   "cell_type": "markdown",
   "metadata": {},
   "source": [
    "In this case, the difference in our model is that we also have priors. Since we're only estimating $\\mu$, we only need to add that prior. Let's assume it is:\n",
    "\n",
    "$\\mu \\sim \\mathcal{N}(\\alpha, \\gamma)$\n",
    "\n",
    "Our log probability formula then becomes:\n",
    "\n",
    "$ln\\text{ }L(\\mu, \\sigma, \\alpha, \\gamma)=-\\frac{n}{2}ln(2\\pi)-\\frac{n}{2}ln(\\sigma^2)-\\frac{1}{2\\sigma^2}\\sum_i^N (x_i-\\mu)^2-\\frac{ln(2\\pi)}{2}-\\frac{ln(\\gamma^2)}{2}-\\frac{(\\alpha-\\mu)^2}{2\\gamma^2}$\n"
   ]
  },
  {
   "cell_type": "markdown",
   "metadata": {},
   "source": [
    "Essentially, we only added the last three terms to the earlier formula. Can you estimate now the value for $\\mu$ (you can reuse the function given above if you want)?"
   ]
  },
  {
   "cell_type": "code",
   "execution_count": null,
   "metadata": {},
   "outputs": [],
   "source": []
  },
  {
   "cell_type": "code",
   "execution_count": null,
   "metadata": {},
   "outputs": [],
   "source": []
  },
  {
   "cell_type": "markdown",
   "metadata": {},
   "source": [
    "Can you visualize the log probability, as a function $\\mu$?"
   ]
  },
  {
   "cell_type": "code",
   "execution_count": null,
   "metadata": {},
   "outputs": [],
   "source": []
  },
  {
   "cell_type": "markdown",
   "metadata": {},
   "source": [
    "Hmmm... the value is not that different, indeed. Why didn't the Bayesian model work better? To answer this, try varying the number of datapoints. The lower it is, the more important your prior becomes!\n",
    "\n"
   ]
  },
  {
   "cell_type": "markdown",
   "metadata": {},
   "source": [
    "Challenge to take home: make it an online learning process (you can even make it a movie! :-) )... "
   ]
  },
  {
   "cell_type": "markdown",
   "metadata": {},
   "source": [
    "**p.s.: the above may indicate that, after a few datapoints, there is no point in making a Bayesian model. But notice we're here in the 1-dimensional world! If you have a few more dimensions, the amount of necessary data becomes tremendously large (Google \"curse of dimensionality\")!**"
   ]
  },
  {
   "cell_type": "markdown",
   "metadata": {},
   "source": [
    "# Part 2 - Generative story"
   ]
  },
  {
   "cell_type": "markdown",
   "metadata": {
    "collapsed": true
   },
   "source": [
    "Consider the \"dwell time prediction\" story we discussed in the lecture.\n",
    "\n",
    "Implement a function that generates the data according to the slides. \n",
    "\n",
    "We write the first and last lines of your code... ;-) \n",
    "\n"
   ]
  },
  {
   "cell_type": "code",
   "execution_count": 8,
   "metadata": {},
   "outputs": [],
   "source": [
    "def dwell_time(X, N, sigmab, sigmae, pi):\n",
    "    dtn=[]\n",
    "    #... \n",
    "    \n",
    "    \n",
    "    return dtn #returns the list of generated data through ancestral sampling"
   ]
  },
  {
   "cell_type": "markdown",
   "metadata": {},
   "source": [
    "Let's create the X dataset then"
   ]
  },
  {
   "cell_type": "code",
   "execution_count": 10,
   "metadata": {},
   "outputs": [],
   "source": [
    "N=1000\n",
    "x=np.random.binomial(1, .4, size=N) #there's less occurences of peak hour buses (just because it's less time in the day)"
   ]
  },
  {
   "cell_type": "markdown",
   "metadata": {},
   "source": [
    "Run your function to generate N points (i.e. perform _ancestral sampling_). Choose whatever parameters you like"
   ]
  },
  {
   "cell_type": "code",
   "execution_count": 14,
   "metadata": {},
   "outputs": [],
   "source": [
    "dtn=dwell_time(x, N, 5, 1, 0.8)"
   ]
  },
  {
   "cell_type": "markdown",
   "metadata": {},
   "source": [
    "Enjoy the plots..."
   ]
  },
  {
   "cell_type": "code",
   "execution_count": 15,
   "metadata": {},
   "outputs": [
    {
     "data": {
      "image/png": "[encoded data removed]",
      "text/plain": [
       "<Figure size 432x288 with 1 Axes>"
      ]
     },
     "metadata": {},
     "output_type": "display_data"
    }
   ],
   "source": [
    "plt.hist(dtn,  bins=40);"
   ]
  },
  {
   "cell_type": "markdown",
   "metadata": {},
   "source": [
    "# Part 3 - Gaussian mixture"
   ]
  },
  {
   "cell_type": "markdown",
   "metadata": {},
   "source": [
    "Let's play with mixture models? :-)\n",
    "\n",
    "We will start with some data generation again"
   ]
  },
  {
   "cell_type": "code",
   "execution_count": 16,
   "metadata": {},
   "outputs": [],
   "source": [
    "mu1_true=-3\n",
    "mu2_true=13\n",
    "sigma1_true=5\n",
    "sigma2_true=5\n",
    "\n",
    "x1=np.random.normal(mu1_true,sigma1_true,90)  #We start with a small number of points\n",
    "x2=np.random.normal(mu2_true,sigma2_true,50) # you'll understand later why... ;-)\n",
    "\n"
   ]
  },
  {
   "cell_type": "markdown",
   "metadata": {},
   "source": [
    "We can also visualize it"
   ]
  },
  {
   "cell_type": "code",
   "execution_count": 21,
   "metadata": {},
   "outputs": [
    {
     "data": {
      "image/png": "[encoded data removed]",
      "text/plain": [
       "<Figure size 432x288 with 1 Axes>"
      ]
     },
     "metadata": {},
     "output_type": "display_data"
    }
   ],
   "source": [
    "from scipy.stats import norm, dirichlet\n",
    "\n",
    "plt.hist(x1, bins=50, density=True)\n",
    "plt.hist(x2, bins=50, density=True)\n",
    "x=np.arange(-40,30, 0.01)\n",
    "y1=norm.pdf(x, mu1_true, sigma1_true)\n",
    "y2=norm.pdf(x, mu2_true, sigma2_true)\n",
    "plt.plot(x, y1)\n",
    "plt.plot(x, y2);"
   ]
  },
  {
   "cell_type": "markdown",
   "metadata": {},
   "source": [
    "we need to put everything in the same dataset... tough reality calling!"
   ]
  },
  {
   "cell_type": "code",
   "execution_count": 22,
   "metadata": {},
   "outputs": [
    {
     "data": {
      "image/png": "[encoded data removed]",
      "text/plain": [
       "<Figure size 432x288 with 1 Axes>"
      ]
     },
     "metadata": {},
     "output_type": "display_data"
    }
   ],
   "source": [
    "x=np.append(x1, x2)\n",
    "\n",
    "plt.hist(x, bins=50, density=True);"
   ]
  },
  {
   "cell_type": "markdown",
   "metadata": {},
   "source": [
    "Looks ugly!..."
   ]
  },
  {
   "cell_type": "markdown",
   "metadata": {},
   "source": [
    "It's time for you to implement the model and infer the parameters... \n",
    "\n",
    "Let's simplify a bit from the slides. Let's assume we actually know the true variances of the two gaussians (as defined above), so we don't need to consider $\\boldsymbol{\\Psi}$ and $\\nu$. In that case, our log probability looks like:\n",
    "\n",
    "$ln(p(\\pi, \\mu|\\sigma, \\sigma_{\\mu}, \\alpha))=\\sum_1^n \\big[ln(\\mathcal{N}(x_n|\\mu_1, \\sigma) \\pi + \\mathcal{N}(x_n|\\mu_2, \\sigma) (1-\\pi)) \\big]+ln(Dir(\\pi|\\alpha))+ln(\\mathcal{N}(\\mu_1|0, \\sigma_{\\mu}))+ln(\\mathcal{N}(\\mu_2|0, \\sigma_{\\mu}))$\n",
    "\n",
    "\n",
    "Can you implement this function and estimate the right parameters for $\\mu_1$, $\\mu_2$ and $\\pi$?\n",
    "\n",
    "For now, just worry about finding the **maximum** value of the distribution (also called the \"posterior distribution\"), as opposed to the full distribution for each parameter. This is called the \"Maximum A Posteriori\" estimate, or MAP. \n",
    "\n",
    "(how would you get the posterior distribution of each parameter?)"
   ]
  },
  {
   "cell_type": "code",
   "execution_count": 23,
   "metadata": {},
   "outputs": [],
   "source": []
  },
  {
   "cell_type": "code",
   "execution_count": null,
   "metadata": {},
   "outputs": [],
   "source": []
  }
 ],
 "metadata": {
  "kernelspec": {
   "display_name": "Python 3",
   "language": "python",
   "name": "python3"
  },
  "language_info": {
   "codemirror_mode": {
    "name": "ipython",
    "version": 3
   },
   "file_extension": ".py",
   "mimetype": "text/x-python",
   "name": "python",
   "nbconvert_exporter": "python",
   "pygments_lexer": "ipython3",
   "version": "3.6.4"
  }
 },
 "nbformat": 4,
 "nbformat_minor": 1
}

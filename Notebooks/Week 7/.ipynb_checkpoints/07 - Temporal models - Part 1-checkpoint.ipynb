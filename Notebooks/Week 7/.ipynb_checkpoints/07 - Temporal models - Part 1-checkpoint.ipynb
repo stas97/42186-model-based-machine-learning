{
 "cells": [
  {
   "cell_type": "markdown",
   "metadata": {},
   "source": [
    "# Week 7 - Temporal models \n",
    "\n",
    "Hello again. Welcome to week 7! In this week, we will focus on how to model time-dependent response (or target) variables (continuous or discrete!) in STAN.\n",
    "\n",
    "## Part 1: Linear dynamical system - Ancestral sampling\n",
    "\n",
    "The usual imports..."
   ]
  },
  {
   "cell_type": "code",
   "execution_count": 1,
   "metadata": {},
   "outputs": [],
   "source": [
    "import numpy as np\n",
    "from matplotlib import pyplot as plt\n",
    "\n",
    "# fix random generator seed (for reproducibility of results)\n",
    "np.random.seed(42)\n",
    "\n",
    "# matplotlib options\n",
    "plt.style.use('ggplot')\n",
    "%matplotlib inline\n",
    "plt.rcParams['figure.figsize'] = (16, 10)"
   ]
  },
  {
   "cell_type": "markdown",
   "metadata": {},
   "source": [
    "In this part, we will use ancestral sampling to sample observations from a simple linear dynamical system:\n",
    "\n",
    "\\begin{align}\n",
    "\\beta &\\sim \\mathcal{N}(0, 0.1)\\\\\n",
    "z_t &\\sim \\mathcal{N}(\\beta \\, z_{t-1}, \\tau^2)\\\\\n",
    "y_t &\\sim \\mathcal{N}(z_t, \\sigma^2)\n",
    "\\end{align}\n",
    "\n",
    "Again, the purpose of these is for you to get familiar with the modelling assumption in such a model and to make sure that you understand them. Furthermore, in most cases, a great thing to do for debugging your STAN implementation of a model is to use ancestral sampling to generate some data from the model, and then try to recover the latent variables in using STAN. \n",
    "\n",
    "In this particular case, we would a) sample beta and some y's using ancestral sampling, and then try to b) use STAN to recover beta from the observations y (inference). We recommend you to do b) as your **home work**, since the remaining notebooks today involve only real data, ok?\n",
    "\n"
   ]
  },
  {
   "cell_type": "markdown",
   "metadata": {},
   "source": [
    "\n",
    "\n",
    "Ok, lets do the ancestral sampling for a time-series of length $T=20$ using the simple model described above. \n",
    "\n",
    "We assume the values of tau and sigma to be given. \n",
    "\n",
    "Notice that we also need to assign a prior to the first latent state $z_0$, e.g. $z_0 \\sim \\mathcal{N}(0,1)$. Why is that?"
   ]
  },
  {
   "cell_type": "code",
   "execution_count": 2,
   "metadata": {},
   "outputs": [
    {
     "name": "stdout",
     "output_type": "stream",
     "text": [
      "tau: 0.1\n",
      "sigma: 0.05\n"
     ]
    }
   ],
   "source": [
    "# assume sigma and tau to be fixed\n",
    "tau = 0.1\n",
    "print(\"tau:\", tau)\n",
    "sigma = 0.05\n",
    "print(\"sigma:\", sigma)\n",
    "\n",
    "# length of the time-series\n",
    "T = 20\n",
    "\n",
    "z = np.zeros(T) # vector to store sampled latent states\n",
    "y = np.zeros(T) # vector to store sampled observations\n",
    "\n",
    "# TODO: ancestral sampling\n",
    "beta = np.random.normal(loc=0, scale=np.sqrt(0.1))\n",
    "z[0] = np.random.normal(loc=0, scale=0.1)\n",
    "y[0] = np.random.normal(loc=z[0], scale=sigma)\n",
    "for t in range(T-1):\n",
    "    z[t+1] = np.random.normal(loc=z[t]*beta, scale=tau)\n",
    "    y[t+1] = np.random.normal(loc=z[t+1], scale=sigma)"
   ]
  },
  {
   "cell_type": "markdown",
   "metadata": {},
   "source": [
    "Lets visualize the data that you've just generated:"
   ]
  },
  {
   "cell_type": "code",
   "execution_count": 3,
   "metadata": {},
   "outputs": [
    {
     "data": {
      "image/png": "[encoded data removed]",
      "text/plain": [
       "<Figure size 432x288 with 1 Axes>"
      ]
     },
     "metadata": {
      "needs_background": "light"
     },
     "output_type": "display_data"
    }
   ],
   "source": [
    "plt.plot(range(T), z, \"b-\")\n",
    "plt.plot(range(T), y, \"rx\")\n",
    "plt.legend([\"latent states (z)\", \"observations (y)\"])\n",
    "plt.show()"
   ]
  },
  {
   "cell_type": "markdown",
   "metadata": {},
   "source": [
    "Run the ancestral sampling code several times and look at the different results that you get. Also, make sure to play with the priors."
   ]
  },
  {
   "cell_type": "code",
   "execution_count": null,
   "metadata": {},
   "outputs": [],
   "source": []
  }
 ],
 "metadata": {
  "kernelspec": {
   "display_name": "Python 3",
   "language": "python",
   "name": "python3"
  },
  "language_info": {
   "codemirror_mode": {
    "name": "ipython",
    "version": 3
   },
   "file_extension": ".py",
   "mimetype": "text/x-python",
   "name": "python",
   "nbconvert_exporter": "python",
   "pygments_lexer": "ipython3",
   "version": "3.6.7"
  }
 },
 "nbformat": 4,
 "nbformat_minor": 2
}

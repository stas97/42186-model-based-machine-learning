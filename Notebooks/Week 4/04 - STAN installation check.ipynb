{
 "cells": [
  {
   "cell_type": "code",
   "execution_count": 1,
   "metadata": {},
   "outputs": [],
   "source": [
    "import pystan"
   ]
  },
  {
   "cell_type": "code",
   "execution_count": 2,
   "metadata": {},
   "outputs": [
    {
     "name": "stderr",
     "output_type": "stream",
     "text": [
      "INFO:pystan:COMPILING THE C++ CODE FOR MODEL anon_model_19a09b474d1901f191444eaf8a6b8ce2 NOW.\n"
     ]
    }
   ],
   "source": [
    "schools_code = \"\"\"\n",
    "data {\n",
    "    int<lower=0> J; // number of schools\n",
    "    vector[J] y; // estimated treatment effects\n",
    "    vector<lower=0>[J] sigma; // s.e. of effect estimates\n",
    "}\n",
    "parameters {\n",
    "    real mu;\n",
    "    real<lower=0> tau;\n",
    "    vector[J] eta;\n",
    "}\n",
    "transformed parameters {\n",
    "    vector[J] theta;\n",
    "    theta = mu + tau * eta;\n",
    "}\n",
    "model {\n",
    "    eta ~ normal(0, 1);\n",
    "    y ~ normal(theta, sigma);\n",
    "}\n",
    "\"\"\"\n",
    "\n",
    "schools_dat = {'J': 8,\n",
    "               'y': [28,  8, -3,  7, -1,  1, 18, 12],\n",
    "               'sigma': [15, 10, 16, 11,  9, 11, 10, 18]}\n",
    "\n",
    "sm = pystan.StanModel(model_code=schools_code)"
   ]
  },
  {
   "cell_type": "code",
   "execution_count": 3,
   "metadata": {},
   "outputs": [
    {
     "name": "stdout",
     "output_type": "stream",
     "text": [
      "Inference for Stan model: anon_model_19a09b474d1901f191444eaf8a6b8ce2.\n",
      "4 chains, each with iter=1000; warmup=500; thin=1; \n",
      "post-warmup draws per chain=500, total post-warmup draws=2000.\n",
      "\n",
      "           mean se_mean     sd   2.5%    25%    50%    75%  97.5%  n_eff   Rhat\n",
      "mu         7.84    0.18   5.17  -2.53   4.66   7.95  10.99  18.42    795    1.0\n",
      "tau        6.61    0.23   5.79    0.2   2.43   5.08   9.27  21.01    617   1.01\n",
      "eta[1]     0.38    0.02   0.93  -1.55  -0.25   0.41   1.03   2.14   1696    1.0\n",
      "eta[2]     0.02    0.02   0.86  -1.71   -0.5   0.02   0.56   1.74   1950    1.0\n",
      "eta[3]    -0.13    0.02   0.94  -1.94   -0.8  -0.14   0.52   1.69   1649    1.0\n",
      "eta[4]    -0.02    0.02   0.89  -1.74  -0.62  -0.01   0.58   1.67   1643    1.0\n",
      "eta[5]    -0.35    0.02   0.86  -2.02  -0.93  -0.37   0.24   1.35   1744    1.0\n",
      "eta[6]    -0.22    0.02   0.85  -1.89  -0.74  -0.23   0.32   1.51   1725    1.0\n",
      "eta[7]     0.37    0.02   0.88  -1.36  -0.22   0.38   0.97    2.1   1610    1.0\n",
      "eta[8]     0.06    0.02   0.98  -1.94  -0.54   0.07    0.7   2.07   2013    1.0\n",
      "theta[1]  11.53    0.27   8.45  -2.08   5.93  10.36  15.74  31.79   1004    1.0\n",
      "theta[2]   7.86    0.12   6.28  -5.03   4.12   8.01   11.7  19.86   2663    1.0\n",
      "theta[3]   6.23    0.21   7.96  -12.2   2.04   6.95  11.19  20.38   1480    1.0\n",
      "theta[4]   7.67    0.18   6.84  -6.17   3.45   7.76  11.92  21.59   1480    1.0\n",
      "theta[5]   5.07    0.16   6.51 -10.08   1.22   5.75    9.6  16.04   1681    1.0\n",
      "theta[6]   6.09    0.15   6.36  -7.93   2.51   6.52  10.23  17.79   1874    1.0\n",
      "theta[7]  10.72    0.17   6.52  -0.98   6.36  10.15  14.37  25.12   1462    1.0\n",
      "theta[8]   8.34     0.2   7.88  -8.07   3.83   8.26  12.73  24.92   1592    1.0\n",
      "lp__      -4.85    0.11    2.6 -10.62  -6.41  -4.64  -3.02  -0.43    598   1.01\n",
      "\n",
      "Samples were drawn using NUTS at Thu Feb 28 21:16:58 2019.\n",
      "For each parameter, n_eff is a crude measure of effective sample size,\n",
      "and Rhat is the potential scale reduction factor on split chains (at \n",
      "convergence, Rhat=1).\n"
     ]
    }
   ],
   "source": [
    "fit = sm.sampling(data=schools_dat, iter=1000, chains=4)\n",
    "print(fit)"
   ]
  }
 ],
 "metadata": {
  "kernelspec": {
   "display_name": "Python 3",
   "language": "python",
   "name": "python3"
  },
  "language_info": {
   "codemirror_mode": {
    "name": "ipython",
    "version": 3
   },
   "file_extension": ".py",
   "mimetype": "text/x-python",
   "name": "python",
   "nbconvert_exporter": "python",
   "pygments_lexer": "ipython3",
   "version": "3.6.7"
  }
 },
 "nbformat": 4,
 "nbformat_minor": 2
}

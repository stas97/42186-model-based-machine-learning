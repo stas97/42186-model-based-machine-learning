{
 "cells": [
  {
   "cell_type": "markdown",
   "metadata": {},
   "source": [
    "# Week 4 - Probabilistic Programming with STAN"
   ]
  },
  {
   "cell_type": "markdown",
   "metadata": {},
   "source": [
    "## Part 1 - Simple STAN model"
   ]
  },
  {
   "cell_type": "markdown",
   "metadata": {},
   "source": [
    "Hello again. We've finally arrived to STAN - our platform for probabilistic programming!\n",
    "\n"
   ]
  },
  {
   "cell_type": "markdown",
   "metadata": {},
   "source": [
    "...the usual imports...\n",
    "\n",
    "**well, notice the new packages!!**"
   ]
  },
  {
   "cell_type": "code",
   "execution_count": 115,
   "metadata": {},
   "outputs": [],
   "source": [
    "import numpy as np\n",
    "import pystan_utils # our own small package with utilities to use with STAN\n",
    "import matplotlib.pyplot as plt\n",
    "import scipy \n",
    "from scipy import stats\n",
    "import random\n",
    "\n",
    "import torch\n",
    "\n",
    "import pyro\n",
    "import pyro.distributions as dist\n",
    "from pyro.infer import config_enumerate, MCMC, NUTS, HMC\n",
    "\n",
    "# matplotlib options\n",
    "plt.style.use('ggplot')\n",
    "%matplotlib inline\n",
    "plt.rcParams['figure.figsize'] = (16, 10)"
   ]
  },
  {
   "cell_type": "code",
   "execution_count": 3,
   "metadata": {},
   "outputs": [],
   "source": [
    "# usually have to run this twice to take effect\n",
    "plt.style.use('ggplot')\n",
    "%matplotlib inline\n",
    "plt.rcParams['figure.figsize'] = (12, 8)"
   ]
  },
  {
   "cell_type": "markdown",
   "metadata": {},
   "source": [
    "### 1.1. Hello World and variations"
   ]
  },
  {
   "cell_type": "markdown",
   "metadata": {},
   "source": [
    "Every respectable programming language requires that newcomers start with a small \"Hello World\" code. Besides being a familiar initial exercise, it also lets you learn a basic tool: how to print something! \n",
    "\n",
    "Don't forget. It may be useful for you later, for example for debugging!\n",
    "\n",
    "We'll do the program for you\n",
    "\n"
   ]
  },
  {
   "cell_type": "code",
   "execution_count": 3,
   "metadata": {},
   "outputs": [
    {
     "name": "stderr",
     "output_type": "stream",
     "text": [
      "INFO:pystan:COMPILING THE C++ CODE FOR MODEL anon_model_525af6d7864d89b75150c90990c74893 NOW.\n"
     ]
    }
   ],
   "source": [
    "Hello_STAN=\"\"\"\n",
    "transformed data {\n",
    "    print(\"Hello World from STAN\");\n",
    "}\n",
    "\"\"\"\n",
    "\n",
    "# compile model\n",
    "sm = pystan.StanModel(model_code=Hello_STAN)"
   ]
  },
  {
   "cell_type": "markdown",
   "metadata": {},
   "source": [
    "To run the program above in pystan, we need to call the following method. Notice the parameters."
   ]
  },
  {
   "cell_type": "code",
   "execution_count": 4,
   "metadata": {},
   "outputs": [
    {
     "name": "stderr",
     "output_type": "stream",
     "text": [
      "WARNING:pystan:`warmup=0` forced with `algorithm=\"Fixed_param\"`.\n"
     ]
    }
   ],
   "source": [
    "# run inference\n",
    "fit = sm.sampling(algorithm=\"Fixed_param\", iter=10)"
   ]
  },
  {
   "cell_type": "markdown",
   "metadata": {},
   "source": [
    "Look carefully at your STAN output. It is NOT in this notebook... you'll have to go to the console to see it! \n",
    "\n",
    "Can you control the number of times the sentence \"Hello World...\" shows up? \n",
    "\n",
    "Can you try to print from other STAN code blocks? What are the effects?"
   ]
  },
  {
   "cell_type": "code",
   "execution_count": 5,
   "metadata": {},
   "outputs": [
    {
     "name": "stderr",
     "output_type": "stream",
     "text": [
      "INFO:pystan:COMPILING THE C++ CODE FOR MODEL anon_model_525af6d7864d89b75150c90990c74893 NOW.\n"
     ]
    }
   ],
   "source": [
    "Hello_STAN_diff_block=\"\"\"\n",
    "functions {\n",
    "    print(\"Hello World from STAN\");\n",
    "}\n",
    "\"\"\"\n",
    "\n",
    "# compile model\n",
    "sm = pystan.StanModel(model_code=Hello_STAN)"
   ]
  },
  {
   "cell_type": "code",
   "execution_count": 6,
   "metadata": {},
   "outputs": [
    {
     "name": "stderr",
     "output_type": "stream",
     "text": [
      "WARNING:pystan:`warmup=0` forced with `algorithm=\"Fixed_param\"`.\n"
     ]
    }
   ],
   "source": [
    "# run inference\n",
    "fit = sm.sampling(algorithm=\"Fixed_param\", iter=10) ## It does print in the console, but only from functions, other blocks don't print"
   ]
  },
  {
   "cell_type": "markdown",
   "metadata": {},
   "source": [
    "The next step is to exchange data TO/FROM your STAN and Python codes, with a trivial model. \n",
    "\n",
    "The example below sends one real number to STAN, as data point a, then it gets it sends it back through two values: a single sample, x, from a normal distribution (centered at a); a new variable, b, that simply equals a."
   ]
  },
  {
   "cell_type": "code",
   "execution_count": 7,
   "metadata": {},
   "outputs": [
    {
     "name": "stderr",
     "output_type": "stream",
     "text": [
      "INFO:pystan:COMPILING THE C++ CODE FOR MODEL anon_model_7384559753dd62ef93c08258136043a7 NOW.\n"
     ]
    }
   ],
   "source": [
    "tofrom_STAN=\"\"\"\n",
    "data {\n",
    "    real a;\n",
    "}\n",
    "parameters {\n",
    "    real x;\n",
    "}\n",
    "model {  \n",
    "    x ~ normal(a, 10);\n",
    "}\n",
    "generated quantities {\n",
    "    real b=a;\n",
    "}\n",
    "\"\"\"\n",
    "\n",
    "# compile model\n",
    "sm = pystan.StanModel(model_code=tofrom_STAN)"
   ]
  },
  {
   "cell_type": "markdown",
   "metadata": {},
   "source": [
    "This time, we will use HMC (Hamiltonian Monte Carlo)"
   ]
  },
  {
   "cell_type": "code",
   "execution_count": 8,
   "metadata": {},
   "outputs": [
    {
     "name": "stderr",
     "output_type": "stream",
     "text": [
      "WARNING:pystan:n_eff / iter below 0.001 indicates that the effective sample size has likely been overestimated\n",
      "WARNING:pystan:Rhat above 1.1 or below 0.9 indicates that the chains very likely have not mixed\n",
      "WARNING:pystan:Skipping check of divergent transitions (divergence)\n",
      "WARNING:pystan:Skipping check of transitions ending prematurely due to maximum tree depth limit (treedepth)\n"
     ]
    }
   ],
   "source": [
    "# run inference\n",
    "fit = sm.sampling(data={'a':5}, algorithm=\"HMC\", seed=0, iter=1000)"
   ]
  },
  {
   "cell_type": "markdown",
   "metadata": {},
   "source": [
    "Take a look at the results (variable fit). "
   ]
  },
  {
   "cell_type": "code",
   "execution_count": 9,
   "metadata": {},
   "outputs": [
    {
     "name": "stdout",
     "output_type": "stream",
     "text": [
      "Inference for Stan model: anon_model_7384559753dd62ef93c08258136043a7.\n",
      "4 chains, each with iter=1000; warmup=500; thin=1; \n",
      "post-warmup draws per chain=500, total post-warmup draws=2000.\n",
      "\n",
      "       mean se_mean     sd   2.5%    25%    50%    75%  97.5%  n_eff   Rhat\n",
      "x      5.05    0.18   9.71 -13.33   -1.5   5.05  11.42   24.8   2837    1.0\n",
      "b       5.0     nan    0.0    5.0    5.0    5.0    5.0    5.0    nan    nan\n",
      "lp__  -0.47    0.02   0.69  -2.39   -0.6  -0.21  -0.05-2.8e-4    780   1.01\n",
      "\n",
      "Samples were drawn using HMC at Fri Mar  1 20:02:35 2019.\n",
      "For each parameter, n_eff is a crude measure of effective sample size,\n",
      "and Rhat is the potential scale reduction factor on split chains (at \n",
      "convergence, Rhat=1).\n"
     ]
    }
   ],
   "source": [
    "print(fit)"
   ]
  },
  {
   "cell_type": "markdown",
   "metadata": {},
   "source": [
    "Actually, there's still more to it. In fact, STAN didn't just draw a single value x as you can see from the table (look at n_eff, it obtained 2000 draws!). All the 2000 samples are available through fit.extract()"
   ]
  },
  {
   "cell_type": "code",
   "execution_count": 10,
   "metadata": {},
   "outputs": [],
   "source": [
    "samples = fit.extract()\n",
    "x_draws = samples['x']"
   ]
  },
  {
   "cell_type": "markdown",
   "metadata": {},
   "source": [
    "Make a histogram for x. What kind of distribution would you expect? ;-)"
   ]
  },
  {
   "cell_type": "code",
   "execution_count": 11,
   "metadata": {},
   "outputs": [
    {
     "data": {
      "image/png": "[encoded data removed]",
      "text/plain": [
       "<Figure size 864x576 with 1 Axes>"
      ]
     },
     "metadata": {
      "needs_background": "light"
     },
     "output_type": "display_data"
    }
   ],
   "source": [
    "plt.hist(x_draws, density=True);"
   ]
  },
  {
   "cell_type": "markdown",
   "metadata": {},
   "source": [
    "What's happening is that each single iteration (of 1000) of each single chain (of 4) is drawing one sample. Since STAN only uses data after the first 50% iterations, it becomes 500x4=2000 samples of the same variable. That is why x is not a single value, but instead a distribution. "
   ]
  },
  {
   "cell_type": "markdown",
   "metadata": {},
   "source": [
    "Actually you could have used \n",
    ">fit.traceplot('x')"
   ]
  },
  {
   "cell_type": "code",
   "execution_count": 12,
   "metadata": {},
   "outputs": [
    {
     "name": "stderr",
     "output_type": "stream",
     "text": [
      "WARNING:pystan:Deprecation warning. In future, use ArviZ library (`pip install arviz`)\n"
     ]
    },
    {
     "data": {
      "image/png": "[encoded data removed]",
      "text/plain": [
       "<Figure size 864x576 with 2 Axes>"
      ]
     },
     "metadata": {
      "needs_background": "light"
     },
     "output_type": "display_data"
    }
   ],
   "source": [
    "fit.traceplot('x');"
   ]
  },
  {
   "cell_type": "markdown",
   "metadata": {},
   "source": [
    "Let's ellaborate a bit more with the input/outputs."
   ]
  },
  {
   "cell_type": "code",
   "execution_count": 13,
   "metadata": {},
   "outputs": [
    {
     "name": "stderr",
     "output_type": "stream",
     "text": [
      "INFO:pystan:COMPILING THE C++ CODE FOR MODEL anon_model_41595b3176532f7ecea49f20a753d4ef NOW.\n"
     ]
    }
   ],
   "source": [
    "simple_STAN=\"\"\"\n",
    "data {\n",
    "    real a;\n",
    "}\n",
    "transformed data {\n",
    "    real b=2*a;\n",
    "    int c=10;\n",
    "    print(\"c=\", c, \" b=\", b); // check this in the console!!!\n",
    "}\n",
    "parameters {\n",
    "    real x;\n",
    "}\n",
    "model {\n",
    "    x ~ normal(a, 10);\n",
    "}\n",
    "generated quantities {\n",
    "    real d=a+c;\n",
    "    real e=4.0;\n",
    "}\n",
    "\"\"\"\n",
    "\n",
    "# compile model\n",
    "sm = pystan.StanModel(model_code=simple_STAN)"
   ]
  },
  {
   "cell_type": "markdown",
   "metadata": {},
   "source": [
    "Let's run it"
   ]
  },
  {
   "cell_type": "code",
   "execution_count": 14,
   "metadata": {},
   "outputs": [
    {
     "name": "stderr",
     "output_type": "stream",
     "text": [
      "WARNING:pystan:n_eff / iter below 0.001 indicates that the effective sample size has likely been overestimated\n",
      "WARNING:pystan:Rhat above 1.1 or below 0.9 indicates that the chains very likely have not mixed\n",
      "WARNING:pystan:Skipping check of divergent transitions (divergence)\n",
      "WARNING:pystan:Skipping check of transitions ending prematurely due to maximum tree depth limit (treedepth)\n"
     ]
    }
   ],
   "source": [
    "# run inference\n",
    "fit = sm.sampling(data={'a':5}, algorithm=\"HMC\", seed=0, iter=1000)"
   ]
  },
  {
   "cell_type": "markdown",
   "metadata": {},
   "source": [
    "Notice that the function call returns a value into the 'fit' variable. Do you want to take a look at it? Can you retrieve the value of the parameter 'b'? What about 'd'?"
   ]
  },
  {
   "cell_type": "code",
   "execution_count": 15,
   "metadata": {},
   "outputs": [
    {
     "data": {
      "text/plain": [
       "Inference for Stan model: anon_model_41595b3176532f7ecea49f20a753d4ef.\n",
       "4 chains, each with iter=1000; warmup=500; thin=1; \n",
       "post-warmup draws per chain=500, total post-warmup draws=2000.\n",
       "\n",
       "       mean se_mean     sd   2.5%    25%    50%    75%  97.5%  n_eff   Rhat\n",
       "x      5.05    0.18   9.71 -13.33   -1.5   5.05  11.42   24.8   2837    1.0\n",
       "d      15.0     nan    0.0   15.0   15.0   15.0   15.0   15.0    nan    nan\n",
       "e       4.0     nan    0.0    4.0    4.0    4.0    4.0    4.0    nan    nan\n",
       "lp__  -0.47    0.02   0.69  -2.39   -0.6  -0.21  -0.05-2.8e-4    780   1.01\n",
       "\n",
       "Samples were drawn using HMC at Fri Mar  1 20:03:45 2019.\n",
       "For each parameter, n_eff is a crude measure of effective sample size,\n",
       "and Rhat is the potential scale reduction factor on split chains (at \n",
       "convergence, Rhat=1)."
      ]
     },
     "execution_count": 15,
     "metadata": {},
     "output_type": "execute_result"
    }
   ],
   "source": [
    "fit # You can retreive d but you cannot retreive b"
   ]
  },
  {
   "cell_type": "markdown",
   "metadata": {},
   "source": [
    "With one data point at a time, we won't go that far, so it's time to work with vectors...  "
   ]
  },
  {
   "cell_type": "code",
   "execution_count": 16,
   "metadata": {},
   "outputs": [
    {
     "name": "stderr",
     "output_type": "stream",
     "text": [
      "INFO:pystan:COMPILING THE C++ CODE FOR MODEL anon_model_873911face3115631c7e6a8701df674d NOW.\n"
     ]
    }
   ],
   "source": [
    "simple_vector_STAN=\"\"\"\n",
    "data {\n",
    "    int N;\n",
    "    vector[N] a;\n",
    "}\n",
    "transformed data {\n",
    "    real b=mean(a);\n",
    "    print(\"b=\", b); // check this in the console!!!\n",
    "}\n",
    "parameters {\n",
    "    real x;\n",
    "    real y;\n",
    "}\n",
    "model {\n",
    "    x ~ normal(b, 10);\n",
    "    a ~ normal(y, 10);\n",
    "}\n",
    "\"\"\"\n",
    "\n",
    "# compile model\n",
    "sm = pystan.StanModel(model_code=simple_vector_STAN)"
   ]
  },
  {
   "cell_type": "code",
   "execution_count": 17,
   "metadata": {},
   "outputs": [
    {
     "name": "stderr",
     "output_type": "stream",
     "text": [
      "WARNING:pystan:Skipping check of divergent transitions (divergence)\n",
      "WARNING:pystan:Skipping check of transitions ending prematurely due to maximum tree depth limit (treedepth)\n"
     ]
    }
   ],
   "source": [
    "a = np.array([1.0, 3.1, 3.4, 6.7, 4.0, 0.0, 1.1, 2.0])\n",
    "\n",
    "# run inference\n",
    "fit = sm.sampling(data={'N':len(a), 'a':a}, algorithm=\"HMC\", seed=0, iter=1000)"
   ]
  },
  {
   "cell_type": "markdown",
   "metadata": {},
   "source": [
    "Try to do a traceplot. Can you interpret the results?"
   ]
  },
  {
   "cell_type": "code",
   "execution_count": 18,
   "metadata": {},
   "outputs": [
    {
     "name": "stderr",
     "output_type": "stream",
     "text": [
      "WARNING:pystan:Deprecation warning. In future, use ArviZ library (`pip install arviz`)\n"
     ]
    },
    {
     "data": {
      "image/png": "[encoded data removed]",
      "text/plain": [
       "<Figure size 864x576 with 4 Axes>"
      ]
     },
     "metadata": {
      "needs_background": "light"
     },
     "output_type": "display_data"
    }
   ],
   "source": [
    "fit.traceplot();"
   ]
  },
  {
   "cell_type": "markdown",
   "metadata": {},
   "source": [
    "## 2 Your first STAN model\n",
    "\n",
    "\n",
    "### 2.1 The cyclist problem\n",
    "\n",
    "Let's do the cyclist problem from the lecture slides: We have a dataset of observations (travel times of bicycle trips), and we want to estimate its distribution, assuming it follows a Gaussian curve of some form. \n",
    "\n",
    "\n",
    "\n",
    "As detailed in the lecture slides, you can code your STAN model directly into a Python string\n"
   ]
  },
  {
   "cell_type": "code",
   "execution_count": 19,
   "metadata": {},
   "outputs": [
    {
     "name": "stderr",
     "output_type": "stream",
     "text": [
      "INFO:pystan:COMPILING THE C++ CODE FOR MODEL anon_model_ccb3819b279763841816de16b66e504d NOW.\n"
     ]
    }
   ],
   "source": [
    "cyclist_STAN=\"\"\"\n",
    "data {\n",
    "    int<lower=0> N; // number of samples\n",
    "    vector[N] tt;   // observed travel times\n",
    "}\n",
    "parameters {\n",
    "    real at;          // average travel time\n",
    "    real<lower=0> tu; // traffic uncertainty\n",
    "}\n",
    "model {\n",
    "    at ~ normal(12, 10);\n",
    "    tu ~ cauchy(0, 10);\n",
    "    tt ~ normal(at, tu);\n",
    "}\n",
    "\"\"\"\n",
    "\n",
    "# compile model\n",
    "sm = pystan.StanModel(model_code=cyclist_STAN)"
   ]
  },
  {
   "cell_type": "code",
   "execution_count": 161,
   "metadata": {},
   "outputs": [],
   "source": [
    "def cyclist(data=None):\n",
    "    at = pyro.sample(\"at\", dist.Normal(12., 10.)) # Average travel time\n",
    "    tu = pyro.sample(\"tu\", dist.HalfCauchy(10.))  # Time uncertainty\n",
    "    with pyro.plate(\"data\"):\n",
    "        tt = pyro.sample(\"tt\", dist.Normal(at, tu), obs=data) # Observed travel time\n",
    "    \n",
    "    return tt"
   ]
  },
  {
   "cell_type": "markdown",
   "metadata": {},
   "source": [
    "It is always good to have an intuitive notion of the prior forms (e.g. are they \"too\" informative, maybe? Or too wide?)\n",
    "\n",
    "Can you plot the priors for _at_ and _tu_?"
   ]
  },
  {
   "cell_type": "code",
   "execution_count": 4,
   "metadata": {},
   "outputs": [
    {
     "data": {
      "image/png": "[encoded data removed]",
      "text/plain": [
       "<Figure size 864x576 with 2 Axes>"
      ]
     },
     "metadata": {
      "needs_background": "light"
     },
     "output_type": "display_data"
    }
   ],
   "source": [
    "plt.subplot(121)\n",
    "mu = 12\n",
    "sd = 10\n",
    "x = np.linspace(mu - 3*sd, mu + 3*sd, 100)\n",
    "plt.plot(x, stats.norm.pdf(x, loc=mu, scale=sd));\n",
    "plt.title('Prior of the average time')\n",
    "\n",
    "plt.subplot(122)\n",
    "mu = 0\n",
    "sd = 10\n",
    "x = np.linspace(0, mu + 3*sd, 100)\n",
    "plt.plot(x, stats.cauchy.pdf(x, loc=mu, scale=sd));\n",
    "plt.title('Prior of the traffic uncertainty')\n",
    "\n",
    "plt.suptitle('Plots of priors')\n",
    "\n",
    "plt.show()"
   ]
  },
  {
   "cell_type": "markdown",
   "metadata": {},
   "source": [
    "Given what we know of the problem, do they make sense? \n"
   ]
  },
  {
   "cell_type": "markdown",
   "metadata": {},
   "source": [
    "\n",
    "\n",
    "Below is the Python code that calls for the STAN code above. "
   ]
  },
  {
   "cell_type": "code",
   "execution_count": 156,
   "metadata": {},
   "outputs": [
    {
     "name": "stderr",
     "output_type": "stream",
     "text": [
      "Sample: 100%|██████████| 600/600 [00:01, 468.64it/s, step size=7.77e-01, acc. prob=0.958]\n"
     ]
    }
   ],
   "source": [
    "a = torch.tensor(np.array([13,17,16,32,12,13,28,12,14,18,36,16,16,31]))\n",
    "\n",
    "hmc_kernel = HMC(cyclist, step_size=0.0855, num_steps=4)\n",
    "#nuts_kernel = NUTS(cyclist)\n",
    "mcmc = MCMC(hmc_kernel, num_samples=500, warmup_steps=100)\n",
    "mcmc.run(a)"
   ]
  },
  {
   "cell_type": "code",
   "execution_count": 157,
   "metadata": {},
   "outputs": [
    {
     "name": "stdout",
     "output_type": "stream",
     "text": [
      "\n",
      "                mean       std    median      5.0%     95.0%     n_eff     r_hat\n",
      "        at     18.79      2.49     18.85     14.51     22.68     36.18      1.10\n",
      "        tu      8.98      1.90      8.59      6.25     11.79     77.85      1.01\n",
      "\n",
      "Number of divergences: 0\n"
     ]
    }
   ],
   "source": [
    "mcmc.summary()"
   ]
  },
  {
   "cell_type": "code",
   "execution_count": 61,
   "metadata": {},
   "outputs": [
    {
     "name": "stdout",
     "output_type": "stream",
     "text": [
      "tensor([14.9332, 15.6658, 17.7798, 19.2627, 20.8201, 23.3366, 24.0334])\n",
      "tensor([ 6.3513,  6.6411,  7.6672,  8.7320,  9.8980, 13.7524, 15.1341])\n"
     ]
    }
   ],
   "source": [
    "q = [0.025, 0.05, 0.25, 0.50, 0.75, 0.95, 0.975]\n",
    "int_q = 0.9\n",
    "samples = mcmc.get_samples()\n",
    "for key, values in samples.items():\n",
    "    print(pyro.ops.stats.quantile(values, probs=q))"
   ]
  },
  {
   "cell_type": "code",
   "execution_count": 21,
   "metadata": {},
   "outputs": [
    {
     "name": "stdout",
     "output_type": "stream",
     "text": [
      "Inference for Stan model: anon_model_ccb3819b279763841816de16b66e504d.\n",
      "4 chains, each with iter=1000; warmup=500; thin=1; \n",
      "post-warmup draws per chain=500, total post-warmup draws=2000.\n",
      "\n",
      "       mean se_mean     sd   2.5%    25%    50%    75%  97.5%  n_eff   Rhat\n",
      "at    19.13    0.07   2.32  14.53  17.67  19.11  20.57  23.74   1147    1.0\n",
      "tu     8.92    0.05   1.84   6.14   7.59   8.64   9.97  13.34   1129    1.0\n",
      "lp__ -35.92    0.04   1.03 -38.69 -36.34 -35.62 -35.18  -34.9    812    1.0\n",
      "\n",
      "Samples were drawn using NUTS at Fri Mar  1 20:06:05 2019.\n",
      "For each parameter, n_eff is a crude measure of effective sample size,\n",
      "and Rhat is the potential scale reduction factor on split chains (at \n",
      "convergence, Rhat=1).\n"
     ]
    }
   ],
   "source": [
    "# store data in python dictionary\n",
    "cyclist_dat = {'N': 14,\n",
    "               'tt': [13,17,16,32,12,13,28,12,14,18,36,16,16,31]}\n",
    "\n",
    "# run inference\n",
    "fit = sm.sampling(data=cyclist_dat, algorithm=\"NUTS\", seed=0, iter=1000)\n",
    "\n",
    "# show results\n",
    "print(fit)\n",
    "\n",
    "# extract samples\n",
    "samples = fit.extract(permuted=True)"
   ]
  },
  {
   "cell_type": "markdown",
   "metadata": {},
   "source": [
    "The resulting MCMC samples that you get are in the \"samples\" object that we created above to collect all fit.extract() data. Try to **inspect** it, particularly do a histogram for the \"at\" and \"tu\" variables.\n",
    "\n",
    "Check how many samples you have, and relate the number with the statistics that STAN provides above:\n",
    "- How many samples did it actually generate?\n",
    "- How many is it using for the final statistics?\n",
    "- How many chains is it using (and how many samples being used in the end by each chain?)\n",
    "\n"
   ]
  },
  {
   "cell_type": "code",
   "execution_count": 62,
   "metadata": {},
   "outputs": [
    {
     "name": "stdout",
     "output_type": "stream",
     "text": [
      "The number of samples generated is: 4000\n",
      "The number of samples used for statistics is: 500\n",
      "The number of chains used is: 4, each using 500.0 samples\n"
     ]
    }
   ],
   "source": [
    "print(\"The number of samples generated is: {}\".format(4*1000)) # 4 chains, each producing 1000 samples\n",
    "print(\"The number of samples used for statistics is: {}\".format(samples['at'].shape[0])) # The samples returned\n",
    "print(\"The number of chains used is: {}, each using {} samples\".format(4, 1000*0.5))"
   ]
  },
  {
   "cell_type": "code",
   "execution_count": 69,
   "metadata": {},
   "outputs": [],
   "source": [
    "at_samples = samples['at'].numpy()\n",
    "tu_samples = samples['tu'].numpy()"
   ]
  },
  {
   "cell_type": "code",
   "execution_count": 70,
   "metadata": {},
   "outputs": [
    {
     "data": {
      "image/png": "[encoded data removed]",
      "text/plain": [
       "<Figure size 864x576 with 2 Axes>"
      ]
     },
     "metadata": {
      "needs_background": "light"
     },
     "output_type": "display_data"
    }
   ],
   "source": [
    "plt.subplot(121)\n",
    "plt.hist(at_samples, density=True);\n",
    "plt.title('average time samples')\n",
    "\n",
    "plt.subplot(122)\n",
    "plt.hist(tu_samples, density=True);\n",
    "plt.title('traffic uncertainty samples')\n",
    "\n",
    "plt.suptitle('Samples of posterior distributions')\n",
    "\n",
    "plt.show()"
   ]
  },
  {
   "cell_type": "markdown",
   "metadata": {},
   "source": [
    "To add to STAN's plot that you've used already, and we put some standard output code here for you. ;-)"
   ]
  },
  {
   "cell_type": "code",
   "execution_count": 25,
   "metadata": {},
   "outputs": [
    {
     "name": "stderr",
     "output_type": "stream",
     "text": [
      "WARNING:pystan:Deprecation warning. In future, use ArviZ library (`pip install arviz`)\n"
     ]
    },
    {
     "name": "stdout",
     "output_type": "stream",
     "text": [
      "\n",
      "Average travel time:\n",
      "posterior mode=19.00 mean=19.13 std=2.32\n",
      "\n",
      "Traffic uncertainty:\n",
      "posterior mode=8.20 mean=8.92 std=1.84\n",
      "\n",
      "Log marginal likelihood: -35.92389802470228\n"
     ]
    },
    {
     "data": {
      "image/png": "[encoded data removed]",
      "text/plain": [
       "<Figure size 864x576 with 4 Axes>"
      ]
     },
     "metadata": {
      "needs_background": "light"
     },
     "output_type": "display_data"
    }
   ],
   "source": [
    "from scipy import stats\n",
    "\n",
    "print(\"\\nAverage travel time:\")\n",
    "print(\"posterior mode=%.2f mean=%.2f std=%.2f\" % (stats.mode(samples[\"at\"].round(0))[0][0], samples['at'].mean(), samples['at'].std()))\n",
    "\n",
    "print(\"\\nTraffic uncertainty:\")\n",
    "print(\"posterior mode=%.2f mean=%.2f std=%.2f\" % (stats.mode(samples[\"tu\"].round(1))[0][0], samples['tu'].mean(), samples['tu'].std()))\n",
    "\n",
    "print (\"\\nLog marginal likelihood:\", samples[\"lp__\"].mean())\n",
    "\n",
    "fit.plot()\n",
    "plt.show()"
   ]
  },
  {
   "cell_type": "markdown",
   "metadata": {},
   "source": [
    "**note:** the concept of \"Log marginal likelihood\" corresponds to the marginal probability of all data (denominator in Bayes formula)"
   ]
  },
  {
   "cell_type": "markdown",
   "metadata": {},
   "source": [
    "\n",
    "\n",
    "Redefine the priors above and re-estimate the model (try only a couple of extreme values, just to see the effect)"
   ]
  },
  {
   "cell_type": "markdown",
   "metadata": {},
   "source": [
    "### 2.2 Obtaining useful results from your model"
   ]
  },
  {
   "cell_type": "markdown",
   "metadata": {},
   "source": [
    "Using the generated MCMC samples, you can find some useful answers.  For example, can you calculate the probability that the next trip takes less than 18 minutes?"
   ]
  },
  {
   "cell_type": "code",
   "execution_count": 72,
   "metadata": {},
   "outputs": [
    {
     "data": {
      "text/plain": [
       "0.42"
      ]
     },
     "execution_count": 72,
     "metadata": {},
     "output_type": "execute_result"
    }
   ],
   "source": [
    "sum((np.random.normal(size=500)*tu_samples+at_samples)<18)/at_samples.shape[0]"
   ]
  },
  {
   "cell_type": "markdown",
   "metadata": {},
   "source": [
    "Notice that the certainty of your answer depends on the number of samples... \n",
    "\n",
    "Alternatively, we can use the \"generated quantities\" block of the STAN program to compute this probability. Lets extend our previous STAN program with a \"generated quantities\" block to compute the probability that the next trip takes less than 18 minutes."
   ]
  },
  {
   "cell_type": "code",
   "execution_count": 28,
   "metadata": {},
   "outputs": [
    {
     "name": "stderr",
     "output_type": "stream",
     "text": [
      "INFO:pystan:COMPILING THE C++ CODE FOR MODEL anon_model_8650506dd28c198f5e0ec74bebf9b07c NOW.\n"
     ]
    }
   ],
   "source": [
    "cyclist_STAN=\"\"\"\n",
    "data {\n",
    "    int<lower=0> N; // number of samples\n",
    "    vector[N] tt;   // observed travel times\n",
    "}\n",
    "parameters {\n",
    "    real at;          // average travel time\n",
    "    real<lower=0> tu; // traffic uncertainty\n",
    "}\n",
    "model {\n",
    "    at ~ normal(12, 10);\n",
    "    tu ~ cauchy(0, 10);\n",
    "    tt ~ normal(at, tu);\n",
    "}\n",
    "generated quantities {\n",
    "    real prediction;\n",
    "    int<lower=0,upper=1> is_less;    \n",
    "    \n",
    "    prediction = normal_rng(at, tu); // make prediction\n",
    "    if (prediction < 18)             // check if prediction is less then 18\n",
    "        is_less = 1;\n",
    "    else\n",
    "        is_less = 0;\n",
    "}\n",
    "\"\"\"\n",
    "\n",
    "# compile model\n",
    "sm = pystan.StanModel(model_code=cyclist_STAN)"
   ]
  },
  {
   "cell_type": "markdown",
   "metadata": {},
   "source": [
    "Analyse the code above carefully. \n",
    "\n",
    "Notice how the \"generated quantities\" follows closely the generative process to sample observed travel times (predictions).\n",
    "\n",
    "Run inference given some observed data:"
   ]
  },
  {
   "cell_type": "code",
   "execution_count": 29,
   "metadata": {},
   "outputs": [
    {
     "name": "stdout",
     "output_type": "stream",
     "text": [
      "Inference for Stan model: anon_model_8650506dd28c198f5e0ec74bebf9b07c.\n",
      "4 chains, each with iter=1000; warmup=500; thin=1; \n",
      "post-warmup draws per chain=500, total post-warmup draws=2000.\n",
      "\n",
      "             mean se_mean     sd   2.5%    25%    50%    75%  97.5%  n_eff   Rhat\n",
      "at          19.24    0.07   2.37  14.46  17.81  19.24  20.74  23.86   1199    1.0\n",
      "tu           8.88    0.06   1.91   6.13   7.55   8.53   9.88  13.81   1057    1.0\n",
      "prediction  19.28    0.22   8.94   2.08  13.58  19.34  25.18  36.71   1725    1.0\n",
      "is_less      0.44    0.01    0.5    0.0    0.0    0.0    1.0    1.0   1863    1.0\n",
      "lp__       -35.96    0.04   1.13 -38.99 -36.38  -35.6 -35.17  -34.9    731    1.0\n",
      "\n",
      "Samples were drawn using NUTS at Fri Mar  1 20:08:30 2019.\n",
      "For each parameter, n_eff is a crude measure of effective sample size,\n",
      "and Rhat is the potential scale reduction factor on split chains (at \n",
      "convergence, Rhat=1).\n"
     ]
    }
   ],
   "source": [
    "# store data in python dictionary\n",
    "cyclist_dat = {'N': 14,\n",
    "               'tt': [13,17,16,32,12,13,28,12,14,18,36,16,16,31]}\n",
    "\n",
    "# run inference\n",
    "fit = sm.sampling(data=cyclist_dat, algorithm=\"NUTS\", seed=0, iter=1000)\n",
    "\n",
    "# show results\n",
    "print(fit)"
   ]
  },
  {
   "cell_type": "markdown",
   "metadata": {},
   "source": [
    "Did you get a similar result?"
   ]
  },
  {
   "cell_type": "markdown",
   "metadata": {},
   "source": [
    "### 2.3 Revised cyclist model: mixture model\n",
    "\n",
    "We will now consider a more realistic model. Since sometimes cyclists are prone to extraordinary circumstances (e.g. flat tire, forgot something at home, ran into a friend and started chatting, etc.), the distribution of travel times can be bimodal, such that on certain days (\"abnormal\" days) the distribution of travel times is radically different the distribution of \"normal\" days. \n",
    "\n",
    "We will formulate this assumption as mixture of two Gaussians. \n",
    "\n",
    "Can you write the new (revised) model in STAN?\n",
    "\n",
    "Hints:\n",
    "- We will now have two Gaussians instead of one;\n",
    "- We need a mixture parameter $\\pi$ (real parameter between 0 and 1) that controls the mixing proportions of the two Gaussians (see lecture slides);\n",
    "- The likelihood is now of the form: \n",
    "\n",
    "$\\pi \\, \\mathcal{N}(at_o,tu_o) + (1-\\pi) \\, \\mathcal{N}(at_a,tu_a)$\n",
    "\n",
    "We can encode the likelihood in STAN using the function \"log_mix()\" as follows:\n",
    "\n",
    "```python\n",
    "for (n in 1:N)\n",
    "    target += log_mix(pi, normal_log(tt[n], at_o, tu_o), normal_log(tt[n], at_a, tu_a));\n",
    "```"
   ]
  },
  {
   "cell_type": "code",
   "execution_count": 30,
   "metadata": {},
   "outputs": [
    {
     "name": "stderr",
     "output_type": "stream",
     "text": [
      "INFO:pystan:COMPILING THE C++ CODE FOR MODEL anon_model_71bb2a9ef7490304d24904071b49c482 NOW.\n"
     ]
    }
   ],
   "source": [
    "cyclist_STAN_mixture = \"\"\"\n",
    "data {\n",
    "    int<lower=0> N;  // number of samples\n",
    "    vector[N]    tt; // observed travel times\n",
    "}\n",
    "parameters {\n",
    "    // Gaussian parameters\n",
    "    real          at_o; // average travel time for ordinary days\n",
    "    real<lower=0> tu_o; // traffic uncertainty for ordinary days\n",
    "    real          at_a; // average travel time for abnormal days\n",
    "    real<lower=0> tu_a; // traffic uncertainty for abnormal days\n",
    "    \n",
    "    // Mixing parameters\n",
    "    real<lower=0,upper=1> pi;\n",
    "}\n",
    "model {\n",
    "    // Gaussian priors\n",
    "    at_o ~ normal(15, 5);\n",
    "    tu_o ~ cauchy(0, 10);\n",
    "    at_a ~ normal(30, 5);\n",
    "    tu_a ~ cauchy(0, 10);\n",
    "    \n",
    "    // Mixing prior\n",
    "    pi ~ beta(2, 2.5); \n",
    "    \n",
    "    // Model distribution\n",
    "    for (n in 1:N)\n",
    "        target += log_mix(pi, \n",
    "                        normal_log(tt[n], at_o, tu_o), \n",
    "                        normal_log(tt[n], at_a, tu_a));\n",
    "}\n",
    "\"\"\"\n",
    "\n",
    "# compile model\n",
    "sm = pystan.StanModel(model_code=cyclist_STAN_mixture)"
   ]
  },
  {
   "cell_type": "code",
   "execution_count": 158,
   "metadata": {},
   "outputs": [],
   "source": [
    "@config_enumerate\n",
    "def cyclist_mm(data=None):\n",
    "    # Prior for the mixing proportions\n",
    "    weights = pyro.sample(\"weights\", dist.Dirichlet(torch.ones(2)))\n",
    "    \n",
    "    # Priors for the mixtures\n",
    "    loc_params = torch.tensor([15., 30.])\n",
    "    scale_params = torch.tensor([5., 5.])\n",
    "    at = pyro.sample('at', dist.Normal(loc_params, scale_params).to_event(1)) # The \".to_event(1)\" makes the normal distributions independent from each other\n",
    "    \n",
    "    with pyro.plate('components', 2):\n",
    "        tu = pyro.sample('tu', dist.HalfCauchy(10.))\n",
    "    \n",
    "    with pyro.plate('data'):\n",
    "        assignment = pyro.sample('assignment', dist.Categorical(weights))\n",
    "        tt = pyro.sample('obs', dist.Normal(at[assignment], tu[assignment]), obs=data)\n",
    "    \n",
    "    return tt"
   ]
  },
  {
   "cell_type": "code",
   "execution_count": 159,
   "metadata": {},
   "outputs": [
    {
     "name": "stderr",
     "output_type": "stream",
     "text": [
      "Sample: 100%|██████████| 1500/1500 [00:59, 25.29it/s, step size=3.13e-01, acc. prob=0.921]\n"
     ]
    }
   ],
   "source": [
    "kernel = NUTS(cyclist_mm)\n",
    "mcmc = MCMC(kernel, num_samples=1000, warmup_steps=500, num_chains=1)\n",
    "mcmc.run(a)\n",
    "#posterior_samples = mcmc.get_samples()"
   ]
  },
  {
   "cell_type": "code",
   "execution_count": 160,
   "metadata": {},
   "outputs": [
    {
     "name": "stdout",
     "output_type": "stream",
     "text": [
      "\n",
      "                mean       std    median      5.0%     95.0%     n_eff     r_hat\n",
      "weights[0]      0.68      0.13      0.69      0.46      0.86    888.74      1.00\n",
      "weights[1]      0.32      0.13      0.31      0.14      0.54    888.74      1.00\n",
      "     at[0]     14.75      0.91     14.71     13.45     16.23    688.75      1.00\n",
      "     at[1]     30.90      2.74     31.17     26.66     35.34    444.31      1.00\n",
      "     tu[0]      2.56      0.92      2.35      1.42      3.68    416.98      1.00\n",
      "     tu[1]      5.69      3.51      4.65      1.94     10.18    604.03      1.00\n",
      "\n",
      "Number of divergences: 0\n"
     ]
    }
   ],
   "source": [
    "mcmc.summary()"
   ]
  },
  {
   "cell_type": "markdown",
   "metadata": {},
   "source": [
    "Lets run inference on the revised model using the same cyclist data from before:"
   ]
  },
  {
   "cell_type": "code",
   "execution_count": 31,
   "metadata": {},
   "outputs": [
    {
     "name": "stdout",
     "output_type": "stream",
     "text": [
      "Inference for Stan model: anon_model_71bb2a9ef7490304d24904071b49c482.\n",
      "1 chains, each with iter=1000; warmup=500; thin=1; \n",
      "post-warmup draws per chain=500, total post-warmup draws=500.\n",
      "\n",
      "       mean se_mean     sd   2.5%    25%    50%    75%  97.5%  n_eff   Rhat\n",
      "at_o   14.7    0.04   0.81  13.15  14.21  14.76  15.22  16.11    374    1.0\n",
      "tu_o   2.48    0.03   0.74   1.47   1.97   2.34   2.85   4.53    481    1.0\n",
      "at_a  30.84    0.13   2.42  25.84  29.64  31.08  32.36  35.23    328    1.0\n",
      "tu_a   5.65    0.23   3.63   1.98   3.16   4.41   6.91  15.25    258   1.01\n",
      "pi     0.63  6.1e-3   0.12   0.37   0.56   0.64   0.71   0.84    385    1.0\n",
      "lp__ -42.91    0.13   1.68  -47.1 -43.85 -42.61 -41.67  -40.5    170   1.01\n",
      "\n",
      "Samples were drawn using NUTS at Fri Mar  1 20:09:41 2019.\n",
      "For each parameter, n_eff is a crude measure of effective sample size,\n",
      "and Rhat is the potential scale reduction factor on split chains (at \n",
      "convergence, Rhat=1).\n"
     ]
    }
   ],
   "source": [
    "# store data in python dictionary\n",
    "cyclist_dat = {'N': 14,\n",
    "               'tt': [13,17,16,32,12,13,28,12,14,18,36,16,16,31]}\n",
    "\n",
    "# run inference\n",
    "fit = sm.sampling(data=cyclist_dat, algorithm=\"NUTS\", seed=0, chains=1, iter=1000)\n",
    "\n",
    "# show results\n",
    "print(fit)\n",
    "\n",
    "# extract samples\n",
    "samples = fit.extract(permuted=True)"
   ]
  },
  {
   "cell_type": "markdown",
   "metadata": {},
   "source": [
    "Look at the results. What can you tell?"
   ]
  },
  {
   "cell_type": "markdown",
   "metadata": {},
   "source": [
    "### 2.4 Obtaining useful results from your revised model"
   ]
  },
  {
   "cell_type": "markdown",
   "metadata": {},
   "source": [
    "As you did for the previous model with a single Gaussian, can you compute the probability that the next trip takes less than 18 minutes (given the new and more realistic model)?"
   ]
  },
  {
   "cell_type": "code",
   "execution_count": 48,
   "metadata": {},
   "outputs": [
    {
     "name": "stderr",
     "output_type": "stream",
     "text": [
      "INFO:pystan:COMPILING THE C++ CODE FOR MODEL anon_model_152ee7323e187a7e8b4802fee53d9e20 NOW.\n"
     ]
    }
   ],
   "source": [
    "cyclist_STAN_mixture = \"\"\"\n",
    "data {\n",
    "    int<lower=0> N; // number of samples\n",
    "    vector[N] tt;   // observed travel times\n",
    "}\n",
    "parameters {\n",
    "    // Gaussian parameters\n",
    "    real          at_o; // average travel time for ordinary days\n",
    "    real<lower=0> tu_o; // traffic uncertainty for ordinary days\n",
    "    real          at_a; // average travel time for abnormal days\n",
    "    real<lower=0> tu_a; // traffic uncertainty for abnormal days\n",
    "    \n",
    "    // Mixing parameters\n",
    "    real pi;\n",
    "}\n",
    "model {\n",
    "    // Gaussian priors\n",
    "    at_o ~ normal(15, 5);\n",
    "    tu_o ~ cauchy(0, 10);\n",
    "    at_a ~ normal(30, 5);\n",
    "    tu_a ~ cauchy(0, 10);\n",
    "    \n",
    "    // Mixing orior\n",
    "    pi ~ beta(2, 2.5); \n",
    "    \n",
    "    // Model distribution\n",
    "    for (n in 1:N)\n",
    "        target += log_mix(pi, normal_log(tt[n], at_o, tu_o), normal_log(tt[n], at_a, tu_a));\n",
    "}\n",
    "generated quantities {\n",
    "    real                 prediction; \n",
    "    int<lower=0,upper=1> is_ordinary_day;\n",
    "    int<lower=0,upper=1> is_less;\n",
    "    \n",
    "    is_ordinary_day = bernoulli_rng(pi);     // decide if it is a ordinary day\n",
    "    if (is_ordinary_day == 1)\n",
    "        prediction = normal_rng(at_o, tu_o); // make prediction for ordinary day\n",
    "    else\n",
    "        prediction = normal_rng(at_a, tu_a); // make prediction for abnormal day\n",
    "    if (prediction < 18)                     // check if prediction is less then 18\n",
    "        is_less = 1;\n",
    "    else\n",
    "        is_less = 0;\n",
    "}\n",
    "\"\"\"\n",
    "\n",
    "# compile model\n",
    "sm = pystan.StanModel(model_code=cyclist_STAN_mixture)"
   ]
  },
  {
   "cell_type": "markdown",
   "metadata": {},
   "source": [
    "Lets run inference on the model and check our answer:"
   ]
  },
  {
   "cell_type": "code",
   "execution_count": 49,
   "metadata": {},
   "outputs": [
    {
     "name": "stdout",
     "output_type": "stream",
     "text": [
      "Inference for Stan model: anon_model_152ee7323e187a7e8b4802fee53d9e20.\n",
      "4 chains, each with iter=1000; warmup=500; thin=1; \n",
      "post-warmup draws per chain=500, total post-warmup draws=2000.\n",
      "\n",
      "             mean se_mean     sd   2.5%    25%    50%    75%  97.5%  n_eff   Rhat\n",
      "at_o        14.71    0.02   0.83  13.05  14.19  14.72  15.23  16.36   1245    1.0\n",
      "tu_o         2.55    0.03   0.91   1.53   2.02   2.38   2.87   4.37    978    1.0\n",
      "at_a        30.85    0.08   2.68  24.72  29.43  31.14  32.49  35.61   1171    1.0\n",
      "tu_a         5.62    0.09   3.35   1.99   3.29   4.63   7.08   14.7   1299    1.0\n",
      "pi           0.63  3.3e-3   0.12   0.39   0.56   0.64   0.72   0.84   1250    1.0\n",
      "prediction  20.54    0.09   3.83  14.01  18.24  20.45  22.67  28.05   1750    1.0\n",
      "is_less      0.23    0.01   0.42    0.0    0.0    0.0    0.0    1.0   1708    1.0\n",
      "lp__       -42.99    0.07   1.77 -47.21 -43.92 -42.67 -41.66 -40.61    689   1.01\n",
      "\n",
      "Samples were drawn using NUTS at Fri Mar  1 20:37:39 2019.\n",
      "For each parameter, n_eff is a crude measure of effective sample size,\n",
      "and Rhat is the potential scale reduction factor on split chains (at \n",
      "convergence, Rhat=1).\n"
     ]
    }
   ],
   "source": [
    "# store data in python dictionary\n",
    "cyclist_dat = {'N': 14,\n",
    "               'tt': [13,17,16,32,12,13,28,12,14,18,36,16,16,31]}\n",
    "\n",
    "# run inference\n",
    "fit = sm.sampling(data=cyclist_dat, algorithm=\"NUTS\", seed=0, iter=1000)\n",
    "\n",
    "# show results\n",
    "print(fit)"
   ]
  },
  {
   "cell_type": "markdown",
   "metadata": {},
   "source": [
    "Did you notice how different the answer when compared to previous model (single Gaussian)? Which one makes more sense to you? "
   ]
  },
  {
   "cell_type": "code",
   "execution_count": 54,
   "metadata": {},
   "outputs": [
    {
     "data": {
      "text/plain": [
       "array([0.49301581, 0.66750606, 0.79530023, ..., 0.52933881, 0.50627968,\n",
       "       0.61992927])"
      ]
     },
     "execution_count": 54,
     "metadata": {},
     "output_type": "execute_result"
    }
   ],
   "source": [
    "# To me, the second model makes more sense, but the results from the first one seem to fit better. "
   ]
  },
  {
   "cell_type": "markdown",
   "metadata": {},
   "source": [
    "## Part 2 -  Mixture model"
   ]
  },
  {
   "cell_type": "markdown",
   "metadata": {},
   "source": [
    "We know that by know you think you've had enough about Mixture Models... but in fact, there's (even) much more to it! :-)\n",
    "\n",
    "For example, your well-known K-Means clustering algorithm is in fact a special case of a mixture model. \n",
    "\n",
    "Let's create a dataset with 400 samples that are distributed around 4 centers with 0.6 standard deviation. We will use the function [`make_blobs` ](http://scikit-learn.org/stable/modules/generated/sklearn.datasets.make_blobs.html)that generates isotropic Gaussian blobs for clustering."
   ]
  },
  {
   "cell_type": "code",
   "execution_count": 218,
   "metadata": {},
   "outputs": [],
   "source": [
    "# Generate some data\n",
    "from sklearn.datasets.samples_generator import make_blobs\n",
    "X, y_true = make_blobs(n_samples=100, centers=2, cluster_std=0.60, random_state=0)\n",
    "X = X[:, ::-1] # flip axes for better plotting"
   ]
  },
  {
   "cell_type": "code",
   "execution_count": 219,
   "metadata": {},
   "outputs": [
    {
     "data": {
      "image/png": "[encoded data removed]",
      "text/plain": [
       "<Figure size 1152x720 with 1 Axes>"
      ]
     },
     "metadata": {
      "needs_background": "light"
     },
     "output_type": "display_data"
    }
   ],
   "source": [
    "# Plot the data with K Means Labels\n",
    "from sklearn.cluster import KMeans\n",
    "kmeans = KMeans(2, random_state=0)\n",
    "labels = kmeans.fit(X).predict(X)\n",
    "plt.scatter(X[:, 0], X[:, 1], c=labels, s=40, cmap='PiYG')\n",
    "plt.title('Dataset with k-means labels');"
   ]
  },
  {
   "cell_type": "markdown",
   "metadata": {},
   "source": [
    "Let's look at their centers"
   ]
  },
  {
   "cell_type": "code",
   "execution_count": 220,
   "metadata": {},
   "outputs": [
    {
     "data": {
      "text/plain": [
       "array([[1.0168431 , 2.04544835],\n",
       "       [4.32924029, 0.96079228]])"
      ]
     },
     "execution_count": 220,
     "metadata": {},
     "output_type": "execute_result"
    }
   ],
   "source": [
    "kmeans.cluster_centers_"
   ]
  },
  {
   "cell_type": "markdown",
   "metadata": {},
   "source": [
    "It's time for our STAN GMM model. Get ready..."
   ]
  },
  {
   "cell_type": "markdown",
   "metadata": {},
   "source": [
    "Study the code carefully"
   ]
  },
  {
   "cell_type": "code",
   "execution_count": 58,
   "metadata": {},
   "outputs": [
    {
     "name": "stderr",
     "output_type": "stream",
     "text": [
      "INFO:pystan:COMPILING THE C++ CODE FOR MODEL anon_model_a720004281f7ad25ad24675096d66132 NOW.\n"
     ]
    }
   ],
   "source": [
    "GMM_STAN=\"\"\"\n",
    "data {\n",
    "    int<lower=0> D;    // number of dimensions\n",
    "    int<lower=0> N;    // number of samples\n",
    "    vector[D]    X[N]; // observed points\n",
    "    int<lower=0> K;    //number of clusters\n",
    "}\n",
    "\n",
    "parameters {\n",
    "    simplex[K]         theta;     // mixing proportions\n",
    "    vector[D]          mu[K];     // mixture component means\n",
    "    vector<lower=0>[D] sigma[K];  // covariance matrices\n",
    "}\n",
    "model {\n",
    "    vector[K] log_theta = log(theta);  // cache log calculation\n",
    "    \n",
    "    for (k in 1:K){\n",
    "        mu[k] ~ normal(0, 10);\n",
    "        sigma[k] ~ cauchy(0, 10);\n",
    "    }\n",
    "    \n",
    "    for (n in 1:N) {\n",
    "        vector[K] lps = log_theta;\n",
    "        for (k in 1:K)\n",
    "            lps[k] += normal_lpdf(X[n] | mu[k], sigma[k]);\n",
    "        target += log_sum_exp(lps);\n",
    "    }\n",
    "}\n",
    "\"\"\"\n",
    "\n",
    "# compile model\n",
    "sm = pystan.StanModel(model_code=GMM_STAN)"
   ]
  },
  {
   "cell_type": "code",
   "execution_count": 226,
   "metadata": {},
   "outputs": [],
   "source": [
    "X = torch.from_numpy(np.flip(X,axis=0).copy()) # Needed to load from sklearn to torch, otherwise it gives a weird error"
   ]
  },
  {
   "cell_type": "code",
   "execution_count": 227,
   "metadata": {},
   "outputs": [],
   "source": [
    "@config_enumerate\n",
    "def gmm(data=None, K=2):\n",
    "    # Prior for the mixing proportions\n",
    "    weights = pyro.sample(\"weights\", dist.Dirichlet(torch.ones(K)))\n",
    "    \n",
    "    with pyro.plate('components', K):\n",
    "        # Priors for the mixtures\n",
    "        mu = pyro.sample('at', dist.Normal(torch.ones(2)*0., torch.ones(2)*10.).to_event(1))\n",
    "        sigma = pyro.sample('tu', dist.HalfCauchy(torch.ones(2)*10.).to_event(1))\n",
    "    \n",
    "    with pyro.plate('data'):\n",
    "        points = pyro.sample('obs', dist.MixtureOfDiagNormals(mu, sigma, weights), obs=data)\n",
    "    \n",
    "    return points"
   ]
  },
  {
   "cell_type": "code",
   "execution_count": 228,
   "metadata": {},
   "outputs": [
    {
     "name": "stderr",
     "output_type": "stream",
     "text": [
      "Sample: 100%|██████████| 1500/1500 [00:35, 41.67it/s, step size=6.53e-01, acc. prob=0.895]\n"
     ]
    }
   ],
   "source": [
    "kernel = NUTS(gmm)\n",
    "mcmc = MCMC(kernel, num_samples=1000, warmup_steps=500, num_chains=1)\n",
    "mcmc.run(X)\n",
    "#posterior_samples = mcmc.get_samples()"
   ]
  },
  {
   "cell_type": "code",
   "execution_count": 229,
   "metadata": {},
   "outputs": [
    {
     "name": "stdout",
     "output_type": "stream",
     "text": [
      "\n",
      "                mean       std    median      5.0%     95.0%     n_eff     r_hat\n",
      "weights[0]      0.50      0.10      0.49      0.34      0.65   2068.37      1.00\n",
      "weights[1]      0.50      0.10      0.51      0.35      0.66   2068.37      1.00\n",
      "   at[0,0]      1.02      0.10      1.02      0.86      1.18   1232.17      1.00\n",
      "   at[0,1]      2.04      0.08      2.04      1.91      2.18   1745.34      1.00\n",
      "   at[1,0]      4.33      0.09      4.33      4.18      4.47   1663.44      1.00\n",
      "   at[1,1]      0.96      0.09      0.96      0.83      1.12   1116.37      1.00\n",
      "   tu[0,0]      0.64      0.07      0.63      0.54      0.77   1249.97      1.00\n",
      "   tu[0,1]      0.60      0.07      0.60      0.50      0.72   1386.57      1.00\n",
      "   tu[1,0]      0.60      0.06      0.59      0.50      0.68   1301.98      1.00\n",
      "   tu[1,1]      0.65      0.07      0.64      0.53      0.75   1466.76      1.00\n",
      "\n",
      "Number of divergences: 0\n"
     ]
    }
   ],
   "source": [
    "mcmc.summary()"
   ]
  },
  {
   "cell_type": "markdown",
   "metadata": {},
   "source": [
    "Inspect carefully the following code too. Particularly, notice that we're running with a single chain and 4000 iterations, instead of the default (chains=4, iterations=1000). Why would that be? \n",
    "\n",
    "To answer this question, run this code and check the results (compare with the centers above)."
   ]
  },
  {
   "cell_type": "code",
   "execution_count": 59,
   "metadata": {},
   "outputs": [
    {
     "name": "stdout",
     "output_type": "stream",
     "text": [
      "Inference for Stan model: anon_model_a720004281f7ad25ad24675096d66132.\n",
      "1 chains, each with iter=4000; warmup=2000; thin=1; \n",
      "post-warmup draws per chain=2000, total post-warmup draws=2000.\n",
      "\n",
      "             mean se_mean     sd   2.5%    25%    50%    75%  97.5%  n_eff   Rhat\n",
      "theta[1]      0.5  7.7e-4   0.05    0.4   0.47    0.5   0.53    0.6   4189    1.0\n",
      "theta[2]      0.5  7.7e-4   0.05    0.4   0.47    0.5   0.53    0.6   4189    1.0\n",
      "mu[1,1]      4.33  1.4e-3   0.09   4.16   4.27   4.33   4.39   4.51   4001    1.0\n",
      "mu[2,1]      1.02  1.6e-3    0.1   0.84   0.96   1.02   1.08   1.22   3466    1.0\n",
      "mu[1,2]      0.96  1.5e-3   0.09   0.78    0.9   0.96   1.02   1.14   3457    1.0\n",
      "mu[2,2]      2.05  1.4e-3   0.09   1.87   1.99   2.05    2.1   2.22   3507    1.0\n",
      "sigma[1,1]    0.6  1.1e-3   0.07   0.49   0.56   0.59   0.64   0.75   3264    1.0\n",
      "sigma[2,1]   0.64  1.5e-3   0.08   0.52   0.59   0.64   0.69   0.83   2557    1.0\n",
      "sigma[1,2]   0.65  1.2e-3   0.07   0.52    0.6   0.64   0.69   0.79   3293    1.0\n",
      "sigma[2,2]   0.61  1.0e-3   0.06    0.5   0.56    0.6   0.64   0.74   3708    1.0\n",
      "lp__       -259.0    0.08   2.25 -264.0 -260.4 -258.7 -257.3 -255.7    726    1.0\n",
      "\n",
      "Samples were drawn using NUTS at Fri Mar  1 20:44:28 2019.\n",
      "For each parameter, n_eff is a crude measure of effective sample size,\n",
      "and Rhat is the potential scale reduction factor on split chains (at \n",
      "convergence, Rhat=1).\n"
     ]
    }
   ],
   "source": [
    "K=2\n",
    "N=len(X)\n",
    "D=2\n",
    "\n",
    "data={'X':X, 'N': N, 'K':K, 'D':2}\n",
    "\n",
    "# run inference\n",
    "fit = sm.sampling(data=data, algorithm=\"NUTS\", chains=1, seed=0, iter=4000)\n",
    "\n",
    "# show results\n",
    "print(fit)"
   ]
  },
  {
   "cell_type": "markdown",
   "metadata": {},
   "source": [
    "Now, try to put the default values (chains=4, iterations=1000). What's the problem? \n"
   ]
  },
  {
   "cell_type": "code",
   "execution_count": 61,
   "metadata": {},
   "outputs": [
    {
     "name": "stderr",
     "output_type": "stream",
     "text": [
      "WARNING:pystan:n_eff / iter below 0.001 indicates that the effective sample size has likely been overestimated\n",
      "WARNING:pystan:Rhat above 1.1 or below 0.9 indicates that the chains very likely have not mixed\n",
      "WARNING:pystan:259 of 2000 iterations ended with a divergence (12.9 %).\n",
      "WARNING:pystan:Try running with adapt_delta larger than 0.8 to remove the divergences.\n"
     ]
    },
    {
     "name": "stdout",
     "output_type": "stream",
     "text": [
      "Inference for Stan model: anon_model_a720004281f7ad25ad24675096d66132.\n",
      "4 chains, each with iter=1000; warmup=500; thin=1; \n",
      "post-warmup draws per chain=500, total post-warmup draws=2000.\n",
      "\n",
      "             mean se_mean     sd   2.5%    25%    50%    75%  97.5%  n_eff   Rhat\n",
      "theta[1]     0.53    0.04   0.07   0.42   0.48   0.51   0.64   0.64      3   2.03\n",
      "theta[2]     0.47    0.04   0.07   0.36   0.36   0.49   0.52   0.58      3   2.03\n",
      "mu[1,1]      2.62     1.2    1.7   0.81   0.81   2.66   4.31   4.45      2  29.09\n",
      "mu[2,1]      2.37     1.0   1.42   0.87   1.02   2.23   3.65   4.44      2  19.08\n",
      "mu[1,2]      1.49    0.39   0.56   0.85   0.91   1.48   2.04   2.15      2   9.95\n",
      "mu[2,2]      1.55    0.36   0.51   0.85   1.14   1.48   2.04   2.19      2   7.01\n",
      "sigma[1,1]   0.61    0.02   0.06   0.52   0.57   0.61   0.61   0.75      9   1.15\n",
      "sigma[2,1]   0.85    0.29   0.41   0.51   0.58   0.64   1.32   1.56      2   8.03\n",
      "sigma[1,2]   0.77     nan   0.23   0.52   0.62   0.66   1.03   1.15    nan   5.48\n",
      "sigma[2,2]   0.71    0.09   0.14   0.52   0.61   0.65   0.91   0.92      2   2.86\n",
      "lp__       -272.7     nan  25.08 -316.0 -295.9 -258.8 -256.9 -255.4    nan  15.59\n",
      "\n",
      "Samples were drawn using NUTS at Fri Mar  1 20:45:17 2019.\n",
      "For each parameter, n_eff is a crude measure of effective sample size,\n",
      "and Rhat is the potential scale reduction factor on split chains (at \n",
      "convergence, Rhat=1).\n"
     ]
    }
   ],
   "source": [
    "# run inference\n",
    "fit = sm.sampling(data=data, algorithm=\"NUTS\", chains=4, seed=0, iter=1000)\n",
    "\n",
    "# show results\n",
    "print(fit)\n",
    "\n",
    "# The problem, probably, is that the chains stayed only in one mode instead of going to both."
   ]
  },
  {
   "cell_type": "markdown",
   "metadata": {},
   "source": [
    "Create and test a new version of the code above with higher K (e.g. K=3). "
   ]
  },
  {
   "cell_type": "code",
   "execution_count": 230,
   "metadata": {},
   "outputs": [],
   "source": [
    "X, y_true = make_blobs(n_samples=100, centers=3, cluster_std=0.60, random_state=0)\n",
    "X = X[:, ::-1] # flip axes for better plotting"
   ]
  },
  {
   "cell_type": "code",
   "execution_count": 231,
   "metadata": {},
   "outputs": [
    {
     "data": {
      "image/png": "[encoded data removed]",
      "text/plain": [
       "<Figure size 1152x720 with 1 Axes>"
      ]
     },
     "metadata": {
      "needs_background": "light"
     },
     "output_type": "display_data"
    }
   ],
   "source": [
    "# Plot the data with K Means Labels\n",
    "from sklearn.cluster import KMeans\n",
    "kmeans = KMeans(3, random_state=0)\n",
    "labels = kmeans.fit(X).predict(X)\n",
    "plt.scatter(X[:, 0], X[:, 1], c=labels, s=40, cmap='PiYG')\n",
    "plt.title('Dataset with k-means labels');"
   ]
  },
  {
   "cell_type": "markdown",
   "metadata": {},
   "source": [
    "Let's look at their centers"
   ]
  },
  {
   "cell_type": "code",
   "execution_count": 232,
   "metadata": {},
   "outputs": [
    {
     "data": {
      "text/plain": [
       "array([[ 2.85383679, -1.65213203],\n",
       "       [ 4.22240438,  0.84321619],\n",
       "       [ 1.17012424,  2.10570255]])"
      ]
     },
     "execution_count": 232,
     "metadata": {},
     "output_type": "execute_result"
    }
   ],
   "source": [
    "kmeans.cluster_centers_"
   ]
  },
  {
   "cell_type": "markdown",
   "metadata": {},
   "source": [
    "It's time for our STAN GMM model. Get ready..."
   ]
  },
  {
   "cell_type": "markdown",
   "metadata": {},
   "source": [
    "Study the code carefully"
   ]
  },
  {
   "cell_type": "code",
   "execution_count": 65,
   "metadata": {},
   "outputs": [
    {
     "name": "stderr",
     "output_type": "stream",
     "text": [
      "INFO:pystan:COMPILING THE C++ CODE FOR MODEL anon_model_0dbd3080d1737deaddab4226f8c33636 NOW.\n"
     ]
    }
   ],
   "source": [
    "GMM_STAN=\"\"\"\n",
    "data {\n",
    "    int<lower=0> D;    // number of dimensions\n",
    "    int<lower=0> N;    // number of samples\n",
    "    vector[D]    X[N]; // observed points\n",
    "    int<lower=0> K;    //number of clusters\n",
    "}\n",
    "\n",
    "parameters {\n",
    "    simplex[K]         theta;     // mixing proportions\n",
    "    vector[D]          mu[K];     // mixture component means\n",
    "    vector<lower=0>[D] sigma[K];  // covariance matrices\n",
    "}\n",
    "model {\n",
    "    vector[K] log_theta = log(theta);  // cache log calculation\n",
    "    \n",
    "    for (k in 1:K){\n",
    "        mu[k] ~ normal(0, 10);\n",
    "        sigma[k] ~ cauchy(0, 10);\n",
    "    }\n",
    "    \n",
    "    for (n in 1:N) {\n",
    "        vector[K] lps = log_theta;\n",
    "        for (k in 1:K)\n",
    "            lps[k] += normal_lpdf(X[n] | mu[k], sigma[k]);\n",
    "        target += log_sum_exp(lps);\n",
    "    }\n",
    "}\n",
    "\"\"\"\n",
    "\n",
    "# compile model\n",
    "sm = pystan.StanModel(model_code=GMM_STAN)"
   ]
  },
  {
   "cell_type": "markdown",
   "metadata": {},
   "source": [
    "Inspect carefully the following code too. Particularly, notice that we're running with a single chain and 4000 iterations, instead of the default (chains=4, iterations=1000). Why would that be? \n",
    "\n",
    "To answer this question, run this code and check the results (compare with the centers above)."
   ]
  },
  {
   "cell_type": "code",
   "execution_count": 233,
   "metadata": {},
   "outputs": [],
   "source": [
    "X = torch.from_numpy(np.flip(X,axis=0).copy()) # Needed to load from sklearn to torch, otherwise it gives a weird error"
   ]
  },
  {
   "cell_type": "code",
   "execution_count": 234,
   "metadata": {},
   "outputs": [
    {
     "name": "stderr",
     "output_type": "stream",
     "text": [
      "Sample: 100%|██████████| 1500/1500 [00:54, 27.74it/s, step size=5.34e-01, acc. prob=0.872]\n"
     ]
    }
   ],
   "source": [
    "kernel = NUTS(gmm)\n",
    "mcmc = MCMC(kernel, num_samples=1000, warmup_steps=500, num_chains=1)\n",
    "mcmc.run(X, 3)\n",
    "#posterior_samples = mcmc.get_samples()"
   ]
  },
  {
   "cell_type": "code",
   "execution_count": 235,
   "metadata": {},
   "outputs": [
    {
     "name": "stdout",
     "output_type": "stream",
     "text": [
      "\n",
      "                mean       std    median      5.0%     95.0%     n_eff     r_hat\n",
      "weights[0]      0.33      0.13      0.33      0.12      0.55   1432.60      1.00\n",
      "weights[1]      0.28      0.13      0.28      0.05      0.50   1813.45      1.00\n",
      "weights[2]      0.39      0.13      0.40      0.17      0.60   1666.03      1.00\n",
      "   at[0,0]      1.18      0.12      1.18      1.00      1.37   1657.37      1.00\n",
      "   at[0,1]      2.11      0.10      2.11      1.97      2.29   1258.99      1.00\n",
      "   at[1,0]      2.86      0.12      2.86      2.67      3.05   1652.17      1.00\n",
      "   at[1,1]     -1.64      0.10     -1.64     -1.82     -1.49   1225.33      1.00\n",
      "   at[2,0]      4.22      0.10      4.22      4.07      4.41   1224.98      1.00\n",
      "   at[2,1]      0.84      0.12      0.84      0.63      1.02   1537.57      1.00\n",
      "   tu[0,0]      0.64      0.09      0.63      0.49      0.77   1263.29      1.00\n",
      "   tu[0,1]      0.57      0.07      0.56      0.47      0.68   1303.82      1.00\n",
      "   tu[1,0]      0.66      0.10      0.65      0.50      0.81   1641.23      1.00\n",
      "   tu[1,1]      0.56      0.08      0.55      0.43      0.69    949.66      1.00\n",
      "   tu[2,0]      0.58      0.07      0.57      0.46      0.69   1521.56      1.00\n",
      "   tu[2,1]      0.70      0.09      0.69      0.55      0.83   1369.80      1.00\n",
      "\n",
      "Number of divergences: 0\n"
     ]
    }
   ],
   "source": [
    "mcmc.summary()"
   ]
  },
  {
   "cell_type": "code",
   "execution_count": 67,
   "metadata": {},
   "outputs": [
    {
     "name": "stderr",
     "output_type": "stream",
     "text": [
      "WARNING:pystan:4 of 4000 iterations ended with a divergence (0.1 %).\n",
      "WARNING:pystan:Try running with adapt_delta larger than 0.8 to remove the divergences.\n"
     ]
    },
    {
     "name": "stdout",
     "output_type": "stream",
     "text": [
      "Inference for Stan model: anon_model_0dbd3080d1737deaddab4226f8c33636.\n",
      "1 chains, each with iter=8000; warmup=4000; thin=1; \n",
      "post-warmup draws per chain=4000, total post-warmup draws=4000.\n",
      "\n",
      "             mean se_mean     sd   2.5%    25%    50%    75%  97.5%  n_eff   Rhat\n",
      "theta[1]     0.31  5.9e-4   0.05   0.22   0.28   0.31   0.35   0.41   6845    1.0\n",
      "theta[2]   9.8e-3  1.3e-4 9.8e-3 2.2e-4 2.7e-3 6.8e-3   0.01   0.04   5674    1.0\n",
      "theta[3]     0.68  6.1e-4   0.05   0.58   0.64   0.68   0.71   0.77   6456    1.0\n",
      "mu[1,1]      1.14  1.5e-3   0.11    0.9   1.06   1.14   1.21   1.36   5624    1.0\n",
      "mu[2,1]      0.12    0.12   9.94 -19.79  -6.58   0.06   6.88  19.64   7169    1.0\n",
      "mu[3,1]      3.54  1.6e-3   0.12   3.31   3.46   3.54   3.63   3.77   6052    1.0\n",
      "mu[1,2]      2.12  1.3e-3    0.1   1.92   2.06   2.12   2.19   2.33   6537    1.0\n",
      "mu[2,2]     -0.07    0.11   9.74 -19.26  -6.65   0.16   6.55  18.09   7303    1.0\n",
      "mu[3,2]     -0.26  2.2e-3   0.18  -0.62  -0.38  -0.26  -0.15    0.1   7064    1.0\n",
      "sigma[1,1]   0.62  1.2e-3   0.09   0.48   0.56   0.61   0.67   0.83   5462    1.0\n",
      "sigma[2,1]  55.56   12.85 562.74   0.45   4.28   9.88  23.04 237.52   1918    1.0\n",
      "sigma[3,1]   0.95  1.1e-3   0.08    0.8   0.89   0.94    1.0   1.13   5867    1.0\n",
      "sigma[1,2]   0.56  9.3e-4   0.08   0.43   0.51   0.55   0.61   0.74   7078    1.0\n",
      "sigma[2,2]  45.52    10.2 640.28   0.43   4.16   9.76  23.07  198.9   3943    1.0\n",
      "sigma[3,2]   1.44  1.5e-3   0.13   1.21   1.35   1.43   1.51   1.71   7013    1.0\n",
      "lp__       -334.6    0.07   2.84 -341.2 -336.2 -334.2 -332.6 -330.2   1508    1.0\n",
      "\n",
      "Samples were drawn using NUTS at Fri Mar  1 20:52:24 2019.\n",
      "For each parameter, n_eff is a crude measure of effective sample size,\n",
      "and Rhat is the potential scale reduction factor on split chains (at \n",
      "convergence, Rhat=1).\n"
     ]
    }
   ],
   "source": [
    "K=3\n",
    "N=len(X)\n",
    "D=2\n",
    "\n",
    "data={'X':X, 'N': N, 'K':K, 'D':D}\n",
    "\n",
    "# run inference\n",
    "fit = sm.sampling(data=data, algorithm=\"NUTS\", chains=1, seed=0, iter=8000)\n",
    "\n",
    "# show results\n",
    "print(fit)"
   ]
  },
  {
   "cell_type": "markdown",
   "metadata": {},
   "source": [
    "### Bonus: Alternative way of doing inference using ADVI"
   ]
  },
  {
   "cell_type": "code",
   "execution_count": 71,
   "metadata": {},
   "outputs": [
    {
     "name": "stderr",
     "output_type": "stream",
     "text": [
      "WARNING:pystan:Automatic Differentiation Variational Inference (ADVI) is an EXPERIMENTAL ALGORITHM.\n",
      "WARNING:pystan:ADVI samples may be found on the filesystem in the file `/tmp/tmp4yrkjua0/output.csv`\n"
     ]
    }
   ],
   "source": [
    "fit = sm.vb(data=data, iter=10000, algorithm=\"fullrank\", grad_samples=10, seed=42, verbose=True)"
   ]
  },
  {
   "cell_type": "markdown",
   "metadata": {},
   "source": [
    "Did you notice how much faster that was? Did it get the right result? Let's see:"
   ]
  },
  {
   "cell_type": "code",
   "execution_count": 72,
   "metadata": {
    "scrolled": true
   },
   "outputs": [
    {
     "name": "stdout",
     "output_type": "stream",
     "text": [
      "mus: [[ 3.53406589 -0.27463376]\n",
      " [ 0.4471577   2.12574246]\n",
      " [ 1.1385958   2.11944467]]\n"
     ]
    }
   ],
   "source": [
    "mus = pystan_utils.vb_extract_variable(fit, \"mu\", var_type=\"matrix\", dims=[3,2])\n",
    "print(\"mus:\", mus)"
   ]
  }
 ],
 "metadata": {
  "kernelspec": {
   "display_name": "Python 3",
   "language": "python",
   "name": "python3"
  },
  "language_info": {
   "codemirror_mode": {
    "name": "ipython",
    "version": 3
   },
   "file_extension": ".py",
   "mimetype": "text/x-python",
   "name": "python",
   "nbconvert_exporter": "python",
   "pygments_lexer": "ipython3",
   "version": "3.7.5"
  }
 },
 "nbformat": 4,
 "nbformat_minor": 4
}

{
 "cells": [
  {
   "cell_type": "markdown",
   "metadata": {},
   "source": [
    "### 42186 - Model Based Machine Learning"
   ]
  },
  {
   "cell_type": "markdown",
   "metadata": {},
   "source": [
    "Hello, welcome to our course on Model-Based Machine Learning. We hope you will enjoy and learn a lot of new powerful techniques for your future.\n",
    "\n"
   ]
  },
  {
   "cell_type": "markdown",
   "metadata": {},
   "source": [
    "# Week1. Probability and statistics review"
   ]
  },
  {
   "cell_type": "markdown",
   "metadata": {},
   "source": [
    "For a start, we need to review some concepts of probability and statistics. "
   ]
  },
  {
   "cell_type": "markdown",
   "metadata": {},
   "source": [
    "As usual in Python, the first thing to do is to import the necessary packages. Let's start with some usual ones for now..."
   ]
  },
  {
   "cell_type": "code",
   "execution_count": 1,
   "metadata": {},
   "outputs": [],
   "source": [
    "import numpy as np\n",
    "import matplotlib.pyplot as plt\n",
    "import math\n",
    "import pandas as pd\n",
    "%matplotlib inline"
   ]
  },
  {
   "cell_type": "markdown",
   "metadata": {},
   "source": [
    "## Part 1 - Random variables, independence, conditionality, Bayes theorem"
   ]
  },
  {
   "cell_type": "markdown",
   "metadata": {},
   "source": [
    "We are going to work on a 2D world for now, and a uniform distribution."
   ]
  },
  {
   "cell_type": "markdown",
   "metadata": {},
   "source": [
    "So, let's create N 2D points:"
   ]
  },
  {
   "cell_type": "code",
   "execution_count": 3,
   "metadata": {},
   "outputs": [],
   "source": [
    "N=500\n",
    "pts=np.random.uniform(size=(N,2)) "
   ]
  },
  {
   "cell_type": "markdown",
   "metadata": {},
   "source": [
    "Take a look at these points. You'll notice they all fall inside a [0,1]x[0,1] square..."
   ]
  },
  {
   "cell_type": "code",
   "execution_count": 4,
   "metadata": {},
   "outputs": [
    {
     "data": {
      "text/plain": [
       "array([[0.6306449 , 0.73302118],\n",
       "       [0.34141592, 0.55589052],\n",
       "       [0.59074327, 0.72758844],\n",
       "       [0.80860934, 0.90572937],\n",
       "       [0.72855892, 0.69717204],\n",
       "       [0.61020307, 0.32148889],\n",
       "       [0.10875998, 0.96692783],\n",
       "       [0.19032383, 0.73984347],\n",
       "       [0.28759457, 0.0392651 ],\n",
       "       [0.1742224 , 0.49052166]])"
      ]
     },
     "execution_count": 4,
     "metadata": {},
     "output_type": "execute_result"
    }
   ],
   "source": [
    "pts[:10]"
   ]
  },
  {
   "cell_type": "markdown",
   "metadata": {},
   "source": [
    "Can you count how many such points fall inside a circle centered at (0,0) and radius 1?"
   ]
  },
  {
   "cell_type": "code",
   "execution_count": 5,
   "metadata": {},
   "outputs": [],
   "source": [
    "def in_circ(x,y):\n",
    "     return x**2+y**2<1   "
   ]
  },
  {
   "cell_type": "code",
   "execution_count": 6,
   "metadata": {},
   "outputs": [
    {
     "data": {
      "text/plain": [
       "420"
      ]
     },
     "execution_count": 6,
     "metadata": {},
     "output_type": "execute_result"
    }
   ],
   "source": [
    "inc=sum([in_circ(x,y) for x, y in pts])\n",
    "print(inc)"
   ]
  },
  {
   "cell_type": "markdown",
   "metadata": {},
   "source": [
    "Consider a={a given point (x,y) falls inside the circle centered at (0,0) with radius 1}"
   ]
  },
  {
   "cell_type": "markdown",
   "metadata": {},
   "source": [
    "Calculate the probability of a, p(a)"
   ]
  },
  {
   "cell_type": "code",
   "execution_count": null,
   "metadata": {},
   "outputs": [],
   "source": []
  },
  {
   "cell_type": "code",
   "execution_count": null,
   "metadata": {},
   "outputs": [],
   "source": []
  },
  {
   "cell_type": "markdown",
   "metadata": {},
   "source": [
    "Visualizations are often quite useful. Can you visualize both the points as well as the circle line?"
   ]
  },
  {
   "cell_type": "code",
   "execution_count": null,
   "metadata": {},
   "outputs": [],
   "source": []
  },
  {
   "cell_type": "code",
   "execution_count": null,
   "metadata": {},
   "outputs": [],
   "source": []
  },
  {
   "cell_type": "markdown",
   "metadata": {},
   "source": [
    "Just to link with your trigonometrics knowledge: what is the area of this circle (radius=1)? And what is the area of a quarter of that circle (the part that you just drew)?\n",
    "\n",
    "What is the relationship with that value and the probability that you just calculated (you can vary the number of points, N, to check your theory)?"
   ]
  },
  {
   "cell_type": "code",
   "execution_count": null,
   "metadata": {},
   "outputs": [],
   "source": []
  },
  {
   "cell_type": "markdown",
   "metadata": {},
   "source": [
    "Now, let's add a new event b={a point (x,y) falls on the right hand side of the [0,1]x[0,1] square}"
   ]
  },
  {
   "cell_type": "markdown",
   "metadata": {},
   "source": [
    "Calculate p(b) "
   ]
  },
  {
   "cell_type": "code",
   "execution_count": null,
   "metadata": {},
   "outputs": [],
   "source": []
  },
  {
   "cell_type": "code",
   "execution_count": null,
   "metadata": {},
   "outputs": [],
   "source": []
  },
  {
   "cell_type": "markdown",
   "metadata": {},
   "source": [
    "So, now you have p(a) and p(b). Do you want to try calculating p(a,b)?\n",
    "\n",
    "Are they independent? Is there any reason to believe that they aren't?\n",
    "\n",
    "To check this, try two approaches:\n",
    "\n",
    "-- p(a,b)=p(a)*p(b)\n",
    "\n",
    "-- Just count the points that fulfill both a and b constraints (and divide by the total number of points... ;-) ).\n"
   ]
  },
  {
   "cell_type": "code",
   "execution_count": null,
   "metadata": {},
   "outputs": [],
   "source": []
  },
  {
   "cell_type": "code",
   "execution_count": null,
   "metadata": {},
   "outputs": [],
   "source": []
  },
  {
   "cell_type": "markdown",
   "metadata": {},
   "source": [
    "They are different! Why?... If you are in doubt, take a look at the picture..."
   ]
  },
  {
   "cell_type": "code",
   "execution_count": null,
   "metadata": {},
   "outputs": [],
   "source": []
  },
  {
   "cell_type": "markdown",
   "metadata": {},
   "source": [
    "Maybe they are not independent, after all... if so, their joint probability is instead"
   ]
  },
  {
   "cell_type": "markdown",
   "metadata": {},
   "source": [
    "p(a,b)=p(a|b)*p(b)\n"
   ]
  },
  {
   "cell_type": "markdown",
   "metadata": {},
   "source": [
    "Please calculate p(a|b), in order to get the right value..."
   ]
  },
  {
   "cell_type": "code",
   "execution_count": null,
   "metadata": {},
   "outputs": [],
   "source": []
  },
  {
   "cell_type": "code",
   "execution_count": null,
   "metadata": {},
   "outputs": [],
   "source": []
  },
  {
   "cell_type": "markdown",
   "metadata": {},
   "source": [
    "Now you calculate p(a,b)=p(a|b)*p(b)"
   ]
  },
  {
   "cell_type": "code",
   "execution_count": null,
   "metadata": {},
   "outputs": [],
   "source": []
  },
  {
   "cell_type": "markdown",
   "metadata": {},
   "source": [
    "Compare with the values above. Does it make more sense now? \n",
    "\n",
    "Another well known property is the Bayes theorem:\n",
    "\n",
    "$p(b|a)=\\frac{p(a|b)p(b)}{p(a)}$\n",
    "\n",
    "Calculate the p(b|a) using the Bayes theorem, and calculate it directly from data. Are they converging to the same value?\n"
   ]
  },
  {
   "cell_type": "code",
   "execution_count": null,
   "metadata": {},
   "outputs": [],
   "source": []
  },
  {
   "cell_type": "code",
   "execution_count": null,
   "metadata": {
    "scrolled": true
   },
   "outputs": [],
   "source": []
  },
  {
   "cell_type": "markdown",
   "metadata": {},
   "source": [
    "Look at the following table:"
   ]
  },
  {
   "cell_type": "code",
   "execution_count": 7,
   "metadata": {},
   "outputs": [
    {
     "name": "stdout",
     "output_type": "stream",
     "text": [
      "             T=Hot    T=Mild    T=Cold\n",
      "W=Sunny   0.068966  0.137931  0.068966\n",
      "W=Cloudy  0.344828  0.241379  0.137931\n"
     ]
    }
   ],
   "source": [
    "f=pd.DataFrame([[0.068966, 0.137931, 0.068966], [0.344828, 0.241379, 0.137931]], columns=['T=Hot', 'T=Mild', 'T=Cold'], index=['W=Sunny', \"W=Cloudy\"])\n",
    "print(f)"
   ]
  },
  {
   "cell_type": "markdown",
   "metadata": {},
   "source": [
    "Marginalization allows us to compute distributions over a selection of variables that we want. For example, for the table above, that represents p(W, T) in a non-normalized way, we could \"marginalize out weather\", i.e. calculate p(T), by doing \n",
    "\n",
    "$p(T)=\\sum_W p(W, T)$\n",
    "\n",
    "Marginalize out weather (Hint: the pandas package has a nice \"sum()\" function associated with the the DataFrame object f that you can use...)"
   ]
  },
  {
   "cell_type": "code",
   "execution_count": 8,
   "metadata": {},
   "outputs": [
    {
     "data": {
      "text/plain": [
       "T=Hot     0.413794\n",
       "T=Mild    0.379310\n",
       "T=Cold    0.206897\n",
       "dtype: float64"
      ]
     },
     "execution_count": 8,
     "metadata": {},
     "output_type": "execute_result"
    }
   ],
   "source": [
    "f.sum(axis=0)"
   ]
  },
  {
   "cell_type": "markdown",
   "metadata": {},
   "source": [
    "Marginalize out temperature"
   ]
  },
  {
   "cell_type": "code",
   "execution_count": null,
   "metadata": {},
   "outputs": [],
   "source": []
  },
  {
   "cell_type": "markdown",
   "metadata": {},
   "source": [
    "--------"
   ]
  },
  {
   "cell_type": "markdown",
   "metadata": {},
   "source": [
    "## Part 2 - Independence"
   ]
  },
  {
   "cell_type": "markdown",
   "metadata": {},
   "source": [
    "Let's get further into the concept of **independence**"
   ]
  },
  {
   "cell_type": "markdown",
   "metadata": {},
   "source": [
    "To begin with, let's create a small dataset of size N. We will start with two random variables, z and t, both uniformly distributed. \n",
    "\n",
    "Each random variable will be an integer value in {0, 1, 2} (you can change this later, of course). "
   ]
  },
  {
   "cell_type": "code",
   "execution_count": 9,
   "metadata": {},
   "outputs": [],
   "source": [
    "N=1000\n",
    "D=3\n",
    "\n",
    "z=np.random.randint(D, size=N)\n",
    "t=np.random.randint(D, size=N)"
   ]
  },
  {
   "cell_type": "markdown",
   "metadata": {},
   "source": [
    "Let's calculate the probability of each different value of z. Take a look at this code. It may be useful later"
   ]
  },
  {
   "cell_type": "code",
   "execution_count": 10,
   "metadata": {},
   "outputs": [
    {
     "name": "stdout",
     "output_type": "stream",
     "text": [
      "p(z=0)=0.352000\n",
      "p(z=1)=0.337000\n",
      "p(z=2)=0.311000\n"
     ]
    }
   ],
   "source": [
    "z_items, z_counts=np.unique(z, return_counts=True, axis=0) #returns a list of different items in Z; it also counts how \n",
    "                                                           #many times each one appears\n",
    "\n",
    "#calculates the p(Z=z), for each possible value of z\n",
    "for item, ct in zip(z_items, z_counts):     \n",
    "    print(\"p(z=%d)=%f\"%(item, ct/N))"
   ]
  },
  {
   "cell_type": "markdown",
   "metadata": {},
   "source": [
    "Actually, we're going to reuse the above code quite a lot. Let's make a new function, then... "
   ]
  },
  {
   "cell_type": "code",
   "execution_count": 11,
   "metadata": {},
   "outputs": [],
   "source": [
    "#Function p. It receives a list of values, K, and simply prints the probability of each of its values\n",
    "#nam and given - Two strings just for printing. Just run this once and you'll see... ;-)\n",
    "def p(nam, K, given=\"\"):    \n",
    "    k_items, k_counts=np.unique(K, return_counts=True, axis=0)\n",
    "    for item, ct in zip(k_items, k_counts):\n",
    "        print(\"p(%s=%s%s)=%f\"%(nam, item, given, ct/sum(k_counts)))"
   ]
  },
  {
   "cell_type": "markdown",
   "metadata": {},
   "source": [
    "Let's try it with our variables Z and T"
   ]
  },
  {
   "cell_type": "code",
   "execution_count": 12,
   "metadata": {},
   "outputs": [
    {
     "name": "stdout",
     "output_type": "stream",
     "text": [
      "p(z=0)=0.352000\n",
      "p(z=1)=0.337000\n",
      "p(z=2)=0.311000\n",
      "p(t=0)=0.329000\n",
      "p(t=1)=0.332000\n",
      "p(t=2)=0.339000\n"
     ]
    }
   ],
   "source": [
    "p('z', z)\n",
    "p('t', t)"
   ]
  },
  {
   "cell_type": "markdown",
   "metadata": {},
   "source": [
    "ok. So, we have the probability of each value, according to this dataset. \n",
    "\n",
    "Assuming that both z and t are uniformly distributed, the calculation for the probability of each should be trivial, right? What is it?"
   ]
  },
  {
   "cell_type": "code",
   "execution_count": null,
   "metadata": {},
   "outputs": [],
   "source": []
  },
  {
   "cell_type": "markdown",
   "metadata": {},
   "source": [
    "Does it match the above? If you're in doubt, you can increase the value of N, the dataset size. As N grows, it should approximate your calculation... "
   ]
  },
  {
   "cell_type": "markdown",
   "metadata": {},
   "source": [
    "Let's now think of the joint distribution of z and t. In other words, how these two variables seem to co-vary, together. The first thing to do is to \"align\" them, i.e., re-create a new random variable (z_t), that is a pair of observations, z and t. "
   ]
  },
  {
   "cell_type": "code",
   "execution_count": 13,
   "metadata": {},
   "outputs": [],
   "source": [
    "z_t=np.stack((z,t), axis=-1)  #Check the result of this operation, to understand what it does..."
   ]
  },
  {
   "cell_type": "code",
   "execution_count": null,
   "metadata": {},
   "outputs": [],
   "source": []
  },
  {
   "cell_type": "markdown",
   "metadata": {},
   "source": [
    "So, let's use the function above, to calculate the join distribution"
   ]
  },
  {
   "cell_type": "code",
   "execution_count": 14,
   "metadata": {},
   "outputs": [
    {
     "name": "stdout",
     "output_type": "stream",
     "text": [
      "p(z,t=[0 0])=0.123000\n",
      "p(z,t=[0 1])=0.119000\n",
      "p(z,t=[0 2])=0.110000\n",
      "p(z,t=[1 0])=0.114000\n",
      "p(z,t=[1 1])=0.106000\n",
      "p(z,t=[1 2])=0.117000\n",
      "p(z,t=[2 0])=0.092000\n",
      "p(z,t=[2 1])=0.107000\n",
      "p(z,t=[2 2])=0.112000\n"
     ]
    }
   ],
   "source": [
    "p(\"z,t\", z_t)"
   ]
  },
  {
   "cell_type": "markdown",
   "metadata": {},
   "source": [
    "Are Z and T independent? If yes, the formula for their join distribution is trivial. Please calculate it (and check if it verifies)."
   ]
  },
  {
   "cell_type": "code",
   "execution_count": null,
   "metadata": {},
   "outputs": [],
   "source": []
  },
  {
   "cell_type": "code",
   "execution_count": null,
   "metadata": {},
   "outputs": [],
   "source": []
  },
  {
   "cell_type": "markdown",
   "metadata": {},
   "source": [
    "Let's create two more variables, both based on Z. "
   ]
  },
  {
   "cell_type": "code",
   "execution_count": 15,
   "metadata": {},
   "outputs": [],
   "source": [
    "betay=-2    \n",
    "betax=1\n",
    "y=betay*z\n",
    "x=betax*z"
   ]
  },
  {
   "cell_type": "markdown",
   "metadata": {},
   "source": [
    "Are they independent? What do you think? A good way to see is by plotting... do you want to do it?"
   ]
  },
  {
   "cell_type": "code",
   "execution_count": null,
   "metadata": {},
   "outputs": [],
   "source": []
  },
  {
   "cell_type": "markdown",
   "metadata": {},
   "source": [
    "What should it look like when variables are independent? And when they are correlated?"
   ]
  },
  {
   "cell_type": "markdown",
   "metadata": {},
   "source": [
    "Let's check their joint distribution, then... "
   ]
  },
  {
   "cell_type": "code",
   "execution_count": 16,
   "metadata": {},
   "outputs": [
    {
     "name": "stdout",
     "output_type": "stream",
     "text": [
      "p(x,y=[0 0])=0.352000\n",
      "p(x,y=[ 1 -2])=0.337000\n",
      "p(x,y=[ 2 -4])=0.311000\n"
     ]
    }
   ],
   "source": [
    "x_y=np.stack((x,y), axis=-1)\n",
    "p(\"x,y\", x_y)"
   ]
  },
  {
   "cell_type": "markdown",
   "metadata": {},
   "source": [
    "Notice that, for all other value combinations (e.g. x,y=[0,-2]), the probability is zero.\n",
    "\n",
    "If x and y are independent, then the product of their marginal probabilities should be equal to the values above, right? Do you want to calculate?"
   ]
  },
  {
   "cell_type": "code",
   "execution_count": null,
   "metadata": {},
   "outputs": [],
   "source": []
  },
  {
   "cell_type": "markdown",
   "metadata": {},
   "source": [
    "Should the values match at all? Let's try instead to calculate the conditional probabilities, of and x and y, given z."
   ]
  },
  {
   "cell_type": "markdown",
   "metadata": {},
   "source": [
    "To do it, directly on the data, we need to calculate, for EACH value of z, the distributions for both x and y.\n",
    "\n",
    "This means that we need to organize the data accordingly. How about using a dictionary? "
   ]
  },
  {
   "cell_type": "code",
   "execution_count": 17,
   "metadata": {},
   "outputs": [],
   "source": [
    "from collections import defaultdict\n",
    "\n",
    "z_dict=defaultdict(list)\n",
    "\n",
    "for X, Y, Z in zip(x, y, z):\n",
    "    z_dict[Z].append([X,Y])\n",
    "    "
   ]
  },
  {
   "cell_type": "markdown",
   "metadata": {},
   "source": [
    "To make sure you understand the code above, don't forget to check z_dict carefully..."
   ]
  },
  {
   "cell_type": "code",
   "execution_count": null,
   "metadata": {},
   "outputs": [],
   "source": []
  },
  {
   "cell_type": "markdown",
   "metadata": {},
   "source": [
    "The code below uses the dictionary to calculate the conditional marginal and joint distributions. Check it carefully."
   ]
  },
  {
   "cell_type": "code",
   "execution_count": 19,
   "metadata": {},
   "outputs": [
    {
     "name": "stdout",
     "output_type": "stream",
     "text": [
      "p(x=1|z=1)=1.000000\n",
      "p(y=-2|z=1)=1.000000\n",
      "p(x,y=[ 1 -2]|z=1)=1.000000\n",
      "p(x=0|z=0)=1.000000\n",
      "p(y=0|z=0)=1.000000\n",
      "p(x,y=[0 0]|z=0)=1.000000\n",
      "p(x=2|z=2)=1.000000\n",
      "p(y=-4|z=2)=1.000000\n",
      "p(x,y=[ 2 -4]|z=2)=1.000000\n"
     ]
    }
   ],
   "source": [
    "for Z in z_dict:\n",
    "    x_y=z_dict[Z]\n",
    "    x=np.array(x_y)[:,0]\n",
    "    y=np.array(x_y)[:,1]  \n",
    "    p(\"x\", x, \"|z=%d\"%Z)\n",
    "    p(\"y\", y,\"|z=%d\"%Z)\n",
    "    p(\"x,y\", x_y, \"|z=%d\"%Z)"
   ]
  },
  {
   "cell_type": "markdown",
   "metadata": {},
   "source": [
    "So, what do you conclude? Is it true that x is independent of y given z?"
   ]
  },
  {
   "cell_type": "markdown",
   "metadata": {},
   "source": [
    " "
   ]
  },
  {
   "cell_type": "markdown",
   "metadata": {},
   "source": [
    "The example above was particularly odd, because there is NO randomness involved (i.e. x is **exactly** betax times z). As a consequence, the probabilities are quite extreme. \n",
    "\n",
    "Try to redo the whole exercise, by adding a little randomness to x and y (don't forget to keep them as integers). Notice how the conditional independence property varies of \"intensity\", as you add more or less randomness... "
   ]
  },
  {
   "cell_type": "code",
   "execution_count": null,
   "metadata": {},
   "outputs": [],
   "source": []
  },
  {
   "cell_type": "code",
   "execution_count": null,
   "metadata": {},
   "outputs": [],
   "source": []
  },
  {
   "cell_type": "code",
   "execution_count": null,
   "metadata": {},
   "outputs": [],
   "source": []
  },
  {
   "cell_type": "code",
   "execution_count": null,
   "metadata": {},
   "outputs": [],
   "source": []
  },
  {
   "cell_type": "markdown",
   "metadata": {},
   "source": [
    "Finally, let's try a different perspective on conditional independence: why does it actually matter??\n",
    "\n",
    "Particularly, we want to understand the meaning of the following sentence:\n",
    "\n",
    "**\"If we know z, then knowing about y tells us nothing about x\"**\n",
    "\n"
   ]
  },
  {
   "cell_type": "markdown",
   "metadata": {},
   "source": [
    "Using your small dataset (x, y, z), you will try to make linear regression prediction models. Our goal is to \"know about x\", i.e. x will be the tar get (or dependent) variable in our linear regression. \n",
    "\n",
    "Compare the following models (e.g. using sklearn's LinearRegression model):\n",
    "\n",
    "- $x=\\beta_1*z$\n",
    "- $x=\\beta_1*y+\\beta_2*z$\n",
    "- $x=\\beta_1*y$"
   ]
  },
  {
   "cell_type": "code",
   "execution_count": null,
   "metadata": {},
   "outputs": [],
   "source": []
  },
  {
   "cell_type": "code",
   "execution_count": null,
   "metadata": {},
   "outputs": [],
   "source": []
  },
  {
   "cell_type": "markdown",
   "metadata": {},
   "source": [
    "Notice the coefficients, what do they mean?"
   ]
  },
  {
   "cell_type": "markdown",
   "metadata": {},
   "source": [
    "--------"
   ]
  },
  {
   "cell_type": "markdown",
   "metadata": {},
   "source": [
    "## Part 3 - Expectation of discrete variables"
   ]
  },
  {
   "cell_type": "markdown",
   "metadata": {},
   "source": [
    "Calculate the expected value of x, using\n",
    "\n",
    "$E(x)=\\sum_x xp(x)$"
   ]
  },
  {
   "cell_type": "code",
   "execution_count": null,
   "metadata": {},
   "outputs": [],
   "source": []
  },
  {
   "cell_type": "markdown",
   "metadata": {},
   "source": [
    "Compare it with the mean of x (x.mean() )"
   ]
  },
  {
   "cell_type": "code",
   "execution_count": null,
   "metadata": {},
   "outputs": [],
   "source": []
  },
  {
   "cell_type": "markdown",
   "metadata": {},
   "source": [
    "-------"
   ]
  }
 ],
 "metadata": {
  "kernelspec": {
   "display_name": "Python 3",
   "language": "python",
   "name": "python3"
  },
  "language_info": {
   "codemirror_mode": {
    "name": "ipython",
    "version": 3
   },
   "file_extension": ".py",
   "mimetype": "text/x-python",
   "name": "python",
   "nbconvert_exporter": "python",
   "pygments_lexer": "ipython3",
   "version": "3.5.6"
  }
 },
 "nbformat": 4,
 "nbformat_minor": 1
}

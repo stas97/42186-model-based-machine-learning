{
 "cells": [
  {
   "cell_type": "markdown",
   "metadata": {},
   "source": [
    "# Week 12 - Topic Modeling - Latent Dirichlet Allocation"
   ]
  },
  {
   "cell_type": "markdown",
   "metadata": {},
   "source": [
    "------"
   ]
  },
  {
   "cell_type": "markdown",
   "metadata": {},
   "source": [
    "## Part 1"
   ]
  },
  {
   "cell_type": "markdown",
   "metadata": {},
   "source": [
    "Welcome to the last notebook of our class! :-) We hope you feel happy for arriving here...\n",
    "\n",
    "Today, we'll work on a very useful text analysis technique called Topic Modeling. Particularly, we will use its most popular and powerful algorithm: Latent Dirichlet Allocation, or LDA"
   ]
  },
  {
   "cell_type": "markdown",
   "metadata": {},
   "source": [
    "We start by the usual imports"
   ]
  },
  {
   "cell_type": "code",
   "execution_count": 1,
   "metadata": {},
   "outputs": [],
   "source": [
    "import pandas as pd\n",
    "import numpy as np\n",
    "import matplotlib.pyplot as plt\n",
    "%matplotlib inline"
   ]
  },
  {
   "cell_type": "markdown",
   "metadata": {},
   "source": [
    "LDA is in fact fully implemented in sklearn, so we can import it!\n",
    "\n",
    "In order to use it, one needs to convert the documents into a Bag-of-Words representation. The object CountVectorizer does that, so let's import that too"
   ]
  },
  {
   "cell_type": "code",
   "execution_count": 2,
   "metadata": {},
   "outputs": [],
   "source": [
    "from sklearn.decomposition import LatentDirichletAllocation\n",
    "from sklearn.feature_extraction.text import CountVectorizer"
   ]
  },
  {
   "cell_type": "markdown",
   "metadata": {},
   "source": [
    "Our dataset comes - suprise - from New York City. This time, we will focus on a multi-purpose indoor arena in the New York City borough of Brooklyn: the Barclay's center. \n",
    "\n",
    "We have collected a very long dataset for you. This dataset has about 800 events, including sports, music, circus, and so on. Notice that it's in tsv format (\"tab\" is used instead of commas, to separate fields). So we open it in a particular way"
   ]
  },
  {
   "cell_type": "code",
   "execution_count": 3,
   "metadata": {},
   "outputs": [],
   "source": [
    "f=pd.read_csv(\"barclays_events_preprocessed.tsv\", sep=\"\\t\", index_col=0) #index_col=0 is used because we can use the first column as the index "
   ]
  },
  {
   "cell_type": "code",
   "execution_count": 4,
   "metadata": {},
   "outputs": [],
   "source": [
    "f=f.dropna()   #There are some events without description. It doesn't make sense to use them now..."
   ]
  },
  {
   "cell_type": "markdown",
   "metadata": {},
   "source": [
    "Take a careful look at this file. "
   ]
  },
  {
   "cell_type": "code",
   "execution_count": 5,
   "metadata": {},
   "outputs": [
    {
     "name": "stdout",
     "output_type": "stream",
     "text": [
      "The shape of the dataframe is (810, 5)\n"
     ]
    },
    {
     "data": {
      "text/html": [
       "<div>\n",
       "<style scoped>\n",
       "    .dataframe tbody tr th:only-of-type {\n",
       "        vertical-align: middle;\n",
       "    }\n",
       "\n",
       "    .dataframe tbody tr th {\n",
       "        vertical-align: top;\n",
       "    }\n",
       "\n",
       "    .dataframe thead th {\n",
       "        text-align: right;\n",
       "    }\n",
       "</style>\n",
       "<table border=\"1\" class=\"dataframe\">\n",
       "  <thead>\n",
       "    <tr style=\"text-align: right;\">\n",
       "      <th></th>\n",
       "      <th>date</th>\n",
       "      <th>start_time</th>\n",
       "      <th>title</th>\n",
       "      <th>url</th>\n",
       "      <th>description</th>\n",
       "    </tr>\n",
       "  </thead>\n",
       "  <tbody>\n",
       "    <tr>\n",
       "      <th>0</th>\n",
       "      <td>2013-02-22</td>\n",
       "      <td>2013-02-22 19:30:00</td>\n",
       "      <td>Brooklyn Nets vs Houston Rockets</td>\n",
       "      <td>http://www.barclayscenter.com/events/detail/br...</td>\n",
       "      <td>jeremy james harden make their only appearance...</td>\n",
       "    </tr>\n",
       "    <tr>\n",
       "      <th>1</th>\n",
       "      <td>2015-10-09</td>\n",
       "      <td>2015-10-09 19:30:00</td>\n",
       "      <td>New York Islanders vs. Chicago Blackhawks</td>\n",
       "      <td>http://www.barclayscenter.com/events/detail/ne...</td>\n",
       "      <td>make dinner reservation today calling emailing...</td>\n",
       "    </tr>\n",
       "    <tr>\n",
       "      <th>4</th>\n",
       "      <td>2015-04-12</td>\n",
       "      <td>2015-04-12 20:00:00</td>\n",
       "      <td>Stevie Wonder</td>\n",
       "      <td>http://www.barclayscenter.com/events/detail/st...</td>\n",
       "      <td>legendary singer songwriter musician bringing ...</td>\n",
       "    </tr>\n",
       "    <tr>\n",
       "      <th>5</th>\n",
       "      <td>2013-02-13</td>\n",
       "      <td>2013-02-13 19:30:00</td>\n",
       "      <td>Brooklyn Nets vs Denver Nuggets</td>\n",
       "      <td>http://www.barclayscenter.com/events/detail/br...</td>\n",
       "      <td>during last season denver nugget have their te...</td>\n",
       "    </tr>\n",
       "    <tr>\n",
       "      <th>7</th>\n",
       "      <td>2014-11-25</td>\n",
       "      <td>2014-11-25 19:30:00</td>\n",
       "      <td>Progressive Legends Classic 2014</td>\n",
       "      <td>http://www.barclayscenter.com/events/detail/pr...</td>\n",
       "      <td>third consecutive season championship round le...</td>\n",
       "    </tr>\n",
       "  </tbody>\n",
       "</table>\n",
       "</div>"
      ],
      "text/plain": [
       "         date           start_time                                      title  \\\n",
       "0  2013-02-22  2013-02-22 19:30:00           Brooklyn Nets vs Houston Rockets   \n",
       "1  2015-10-09  2015-10-09 19:30:00  New York Islanders vs. Chicago Blackhawks   \n",
       "4  2015-04-12  2015-04-12 20:00:00                              Stevie Wonder   \n",
       "5  2013-02-13  2013-02-13 19:30:00            Brooklyn Nets vs Denver Nuggets   \n",
       "7  2014-11-25  2014-11-25 19:30:00           Progressive Legends Classic 2014   \n",
       "\n",
       "                                                 url  \\\n",
       "0  http://www.barclayscenter.com/events/detail/br...   \n",
       "1  http://www.barclayscenter.com/events/detail/ne...   \n",
       "4  http://www.barclayscenter.com/events/detail/st...   \n",
       "5  http://www.barclayscenter.com/events/detail/br...   \n",
       "7  http://www.barclayscenter.com/events/detail/pr...   \n",
       "\n",
       "                                         description  \n",
       "0  jeremy james harden make their only appearance...  \n",
       "1  make dinner reservation today calling emailing...  \n",
       "4  legendary singer songwriter musician bringing ...  \n",
       "5  during last season denver nugget have their te...  \n",
       "7  third consecutive season championship round le...  "
      ]
     },
     "execution_count": 5,
     "metadata": {},
     "output_type": "execute_result"
    }
   ],
   "source": [
    "print('The shape of the dataframe is {}'.format(f.shape))\n",
    "f.head()"
   ]
  },
  {
   "cell_type": "markdown",
   "metadata": {},
   "source": [
    "We need to create our Bag-of-Words representation (BoW). Here's how"
   ]
  },
  {
   "cell_type": "code",
   "execution_count": 6,
   "metadata": {},
   "outputs": [],
   "source": [
    "vectorizer=CountVectorizer(stop_words='english') #create a CountVectorizer object. stop_words is a list a of words that are \n",
    "                                                 #irrelevant (for example, at, in, on, are, be, have...)"
   ]
  },
  {
   "cell_type": "markdown",
   "metadata": {},
   "source": [
    "As many other objects in Sklearn, CountVectorizer is applied with the function fit_transform"
   ]
  },
  {
   "cell_type": "code",
   "execution_count": 7,
   "metadata": {},
   "outputs": [],
   "source": [
    "descriptions_bow=vectorizer.fit_transform(f['description'])   #creates a BoW representation\n",
    "description_vocabulary = vectorizer.get_feature_names()  #gets the words that correspond to each element of the BoW"
   ]
  },
  {
   "cell_type": "markdown",
   "metadata": {},
   "source": [
    "This can be confusing. Check carefully the content of the variables you just created"
   ]
  },
  {
   "cell_type": "code",
   "execution_count": 8,
   "metadata": {},
   "outputs": [
    {
     "data": {
      "text/plain": [
       "['00aeef',\n",
       " '00am',\n",
       " '00pm',\n",
       " '0px',\n",
       " '0x',\n",
       " '10round',\n",
       " '10th',\n",
       " '12game',\n",
       " '12round',\n",
       " '12th']"
      ]
     },
     "execution_count": 8,
     "metadata": {},
     "output_type": "execute_result"
    }
   ],
   "source": [
    "description_vocabulary[:10]"
   ]
  },
  {
   "cell_type": "markdown",
   "metadata": {},
   "source": [
    "It is finally time to run our LDA! \n",
    "\n",
    "Guess what, it's the usual process!"
   ]
  },
  {
   "cell_type": "code",
   "execution_count": 9,
   "metadata": {},
   "outputs": [],
   "source": [
    "lda=LatentDirichletAllocation(n_components=10, learning_method='batch')\n",
    "x=lda.fit_transform(descriptions_bow)"
   ]
  },
  {
   "cell_type": "markdown",
   "metadata": {},
   "source": [
    "It's important to understand well both objects, x and lda. Check them carefully... for example, check what methods are available in the lda object. And check the dimensionality of x. What does it mean?"
   ]
  },
  {
   "cell_type": "code",
   "execution_count": 10,
   "metadata": {},
   "outputs": [
    {
     "data": {
      "text/plain": [
       "LatentDirichletAllocation(batch_size=128, doc_topic_prior=None,\n",
       "             evaluate_every=-1, learning_decay=0.7,\n",
       "             learning_method='batch', learning_offset=10.0,\n",
       "             max_doc_update_iter=100, max_iter=10, mean_change_tol=0.001,\n",
       "             n_components=10, n_jobs=None, n_topics=None, perp_tol=0.1,\n",
       "             random_state=None, topic_word_prior=None,\n",
       "             total_samples=1000000.0, verbose=0)"
      ]
     },
     "execution_count": 10,
     "metadata": {},
     "output_type": "execute_result"
    }
   ],
   "source": [
    "lda"
   ]
  },
  {
   "cell_type": "code",
   "execution_count": 11,
   "metadata": {},
   "outputs": [
    {
     "data": {
      "text/plain": [
       "(810, 10)"
      ]
     },
     "execution_count": 11,
     "metadata": {},
     "output_type": "execute_result"
    }
   ],
   "source": [
    "x.shape # number of documents times the number of components. the result is the distribution of topics for each document"
   ]
  },
  {
   "cell_type": "code",
   "execution_count": 12,
   "metadata": {},
   "outputs": [
    {
     "data": {
      "text/plain": [
       "True"
      ]
     },
     "execution_count": 12,
     "metadata": {},
     "output_type": "execute_result"
    }
   ],
   "source": [
    "all(np.sum(x,axis=1))==1"
   ]
  },
  {
   "cell_type": "markdown",
   "metadata": {},
   "source": [
    "We copied the following code from an example in the Sklearn website. What does it do?"
   ]
  },
  {
   "cell_type": "code",
   "execution_count": 13,
   "metadata": {},
   "outputs": [],
   "source": [
    "def print_top_words(model, feature_names, n_top_words):\n",
    "    for topic_idx, topic in enumerate(model.components_):\n",
    "        message = \"Topic #%d: \" % topic_idx\n",
    "        message += \" \".join([feature_names[i]\n",
    "                             for i in topic.argsort()[:-n_top_words - 1:-1]])\n",
    "        print(message)\n",
    "    print()"
   ]
  },
  {
   "cell_type": "markdown",
   "metadata": {},
   "source": [
    "Try to use it... We will help you by giving an example"
   ]
  },
  {
   "cell_type": "code",
   "execution_count": 14,
   "metadata": {},
   "outputs": [
    {
     "name": "stdout",
     "output_type": "stream",
     "text": [
      "Topic #0: american express box tour office calling ticketmaster purchased com individual visiting click\n",
      "Topic #1: album tour event wwe session meet artist new ha superstar band year\n",
      "Topic #2: circus family world space earth adventure march quest journey online thrill visiting\n",
      "Topic #3: group jay july 30pm music world ha 00pm new quidam festival bk\n",
      "Topic #4: game basketball championship group event atlantic calling available purchase classic ncaa click\n",
      "Topic #5: click follow disney ice present new magic individual make american memory express\n",
      "Topic #6: adroll scr document http oldonload function com id window onload script getelementsbytagname\n",
      "Topic #7: game net point world bull ha lopez varekai brook click chicago music\n",
      "Topic #8: lirr schedule train make service reservation emailprotected emailing dinner today calling app\n",
      "Topic #9: york special hotel code bridge marriott promotional corporate rate new check visit\n",
      "\n"
     ]
    }
   ],
   "source": [
    "n_top_words=12\n",
    "print_top_words(lda, description_vocabulary, n_top_words)"
   ]
  },
  {
   "cell_type": "markdown",
   "metadata": {},
   "source": [
    "Congrats! You implemented your first Topic Model!  :-)\n",
    "\n",
    "Check carefully the topics above. What kind of event may be associated with each one?"
   ]
  },
  {
   "cell_type": "markdown",
   "metadata": {},
   "source": [
    "----------------------"
   ]
  },
  {
   "cell_type": "markdown",
   "metadata": {},
   "source": [
    "## Part 2 - Using your Topic Model"
   ]
  },
  {
   "cell_type": "markdown",
   "metadata": {},
   "source": [
    "Before even using your topic model in regression, you can do some exploratory analysis"
   ]
  },
  {
   "cell_type": "markdown",
   "metadata": {},
   "source": [
    "How about implementing an MDS model and visualizing it? Do you want to try?"
   ]
  },
  {
   "cell_type": "code",
   "execution_count": 15,
   "metadata": {},
   "outputs": [],
   "source": [
    "from sklearn import manifold"
   ]
  },
  {
   "cell_type": "code",
   "execution_count": 16,
   "metadata": {},
   "outputs": [],
   "source": [
    "mds = manifold.MDS(n_components=2, max_iter=100, n_init=1)\n",
    "transformed_topics = mds.fit_transform(x)\n",
    "color = np.argmax(x, axis=1) "
   ]
  },
  {
   "cell_type": "code",
   "execution_count": 17,
   "metadata": {},
   "outputs": [
    {
     "data": {
      "image/png": "[encoded data removed]",
      "text/plain": [
       "<Figure size 432x288 with 1 Axes>"
      ]
     },
     "metadata": {
      "needs_background": "light"
     },
     "output_type": "display_data"
    }
   ],
   "source": [
    "# I am not sure this is a correct visualization. There seems to be a pattern in the data but it is hard to asses what is the relation \n",
    "#  between the topics\n",
    "plt.scatter(transformed_topics[:, 0], transformed_topics[:, 1], c=color);\n",
    "plt.axis('tight');"
   ]
  },
  {
   "cell_type": "markdown",
   "metadata": {},
   "source": [
    "----------------"
   ]
  },
  {
   "cell_type": "markdown",
   "metadata": {},
   "source": [
    "## Part 3 - Find the right number of topics"
   ]
  },
  {
   "cell_type": "markdown",
   "metadata": {},
   "source": [
    "Plot the elbow function to find the best choice for K"
   ]
  },
  {
   "cell_type": "code",
   "execution_count": 18,
   "metadata": {},
   "outputs": [
    {
     "data": {
      "text/plain": [
       "[<matplotlib.lines.Line2D at 0x7f3feb667eb8>]"
      ]
     },
     "execution_count": 18,
     "metadata": {},
     "output_type": "execute_result"
    },
    {
     "data": {
      "image/png": "[encoded data removed]",
      "text/plain": [
       "<Figure size 432x288 with 1 Axes>"
      ]
     },
     "metadata": {
      "needs_background": "light"
     },
     "output_type": "display_data"
    }
   ],
   "source": [
    "scores=[]\n",
    "for k in range(1, 100):\n",
    "    lda=LatentDirichletAllocation(n_components=k, learning_method='batch')\n",
    "    lda.fit(descriptions_bow)\n",
    "    scores.append(lda.score(descriptions_bow))\n",
    "plt.plot(range(1,100), scores)"
   ]
  },
  {
   "cell_type": "markdown",
   "metadata": {},
   "source": [
    "What is the best choice of K for you?"
   ]
  },
  {
   "cell_type": "code",
   "execution_count": 19,
   "metadata": {},
   "outputs": [],
   "source": [
    "# It is hard to tell but if it I have to pick a single value I would pick the first peak, meaning somewhere between 10 and 15"
   ]
  },
  {
   "cell_type": "markdown",
   "metadata": {},
   "source": [
    "--------\n"
   ]
  },
  {
   "cell_type": "markdown",
   "metadata": {},
   "source": [
    "## Part 4 - Understanding distributions (optional)"
   ]
  },
  {
   "cell_type": "markdown",
   "metadata": {},
   "source": [
    "It is common to find very abstract concepts, somewhat confusing, in a statistics or machine learning class. The best way for you to learn, is really to play with them as much as you can. For now, let's just focus on the Dirichlet distribution"
   ]
  },
  {
   "cell_type": "markdown",
   "metadata": {},
   "source": [
    "It is available as numpy.random.dirichlet(alpha, size=None)\n",
    "\n",
    "...so, try it! For example, obtain draws from this distribution using different values of alpha."
   ]
  },
  {
   "cell_type": "code",
   "execution_count": 20,
   "metadata": {},
   "outputs": [
    {
     "name": "stdout",
     "output_type": "stream",
     "text": [
      "[0.00592422 0.93394101 0.06013477]\n",
      "[3.96556658e-08 8.75159095e-02 9.12484051e-01]\n",
      "[0.31182477 0.60452476 0.08365048]\n"
     ]
    }
   ],
   "source": [
    "print(np.random.dirichlet([.2,.2, .2]))\n",
    "print(np.random.dirichlet([.1,.1, .9]))\n",
    "print(np.random.dirichlet([1,1, 1]))"
   ]
  },
  {
   "cell_type": "code",
   "execution_count": 21,
   "metadata": {},
   "outputs": [],
   "source": [
    "'''Function to plot points in a simplex'''\n",
    "\n",
    "# Based on post from Thomas Boggs (http://blog.bogatron.net/blog/2014/02/02/visualizing-dirichlet-distributions/)\n",
    "\n",
    "import matplotlib.tri as tri\n",
    "\n",
    "_corners = np.array([[0, 0], [1, 0], [0.5, 0.75**0.5]])\n",
    "_triangle = tri.Triangulation(_corners[:, 0], _corners[:, 1])\n",
    "\n",
    "def plot_points(X):\n",
    "    '''Plots a set of points in the simplex.\n",
    "\n",
    "    Arguments:\n",
    "\n",
    "        `X` (ndarray): A 2xN array (if in Cartesian coords) or 3xN array\n",
    "                       (if in barycentric coords) of points to plot.\n",
    "    '''\n",
    "    \n",
    "    X = X.dot(_corners)  #This is what converts the original points onto the simplex (it projects on it, through dot product)\n",
    "    plt.plot(X[:, 0], X[:, 1], 'k.', ms=1)\n",
    "    plt.axis('equal')\n",
    "    plt.xlim(0, 1)\n",
    "    plt.ylim(0, 0.75**0.5)\n",
    "    plt.axis('off')\n",
    "    plt.triplot(_triangle, linewidth=1)"
   ]
  },
  {
   "cell_type": "markdown",
   "metadata": {},
   "source": [
    "Whenever you can, try to visualize it. Remember what we did in the slides. Try to do the same thing!"
   ]
  },
  {
   "cell_type": "markdown",
   "metadata": {},
   "source": [
    "**feel free to use the function below, to plot points from a dirichlet distribution, onto a 2D simplex**"
   ]
  },
  {
   "cell_type": "code",
   "execution_count": 22,
   "metadata": {},
   "outputs": [
    {
     "data": {
      "image/png": "[encoded data removed]",
      "text/plain": [
       "<Figure size 576x432 with 3 Axes>"
      ]
     },
     "metadata": {
      "needs_background": "light"
     },
     "output_type": "display_data"
    }
   ],
   "source": [
    "f = plt.figure(figsize=(8, 6))\n",
    "alphas = [[0.999] * 3,\n",
    "          [5] * 3,\n",
    "          [2, 5, 15]]\n",
    "for (i, alpha) in enumerate(alphas):\n",
    "    plt.subplot(2, len(alphas), i + 1)\n",
    "    dist = np.random.dirichlet(alpha, size=5000)\n",
    "    title = r'$\\alpha$ = (%.3f, %.3f, %.3f)' % tuple(alpha)\n",
    "    plt.title(title, fontdict={'fontsize': 8})\n",
    "    plot_points(dist)"
   ]
  }
 ],
 "metadata": {
  "kernelspec": {
   "display_name": "Python 3",
   "language": "python",
   "name": "python3"
  },
  "language_info": {
   "codemirror_mode": {
    "name": "ipython",
    "version": 3
   },
   "file_extension": ".py",
   "mimetype": "text/x-python",
   "name": "python",
   "nbconvert_exporter": "python",
   "pygments_lexer": "ipython3",
   "version": "3.6.7"
  }
 },
 "nbformat": 4,
 "nbformat_minor": 2
}

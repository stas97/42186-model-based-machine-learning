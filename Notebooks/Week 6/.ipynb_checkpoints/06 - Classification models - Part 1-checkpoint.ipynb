{
 "cells": [
  {
   "cell_type": "markdown",
   "metadata": {},
   "source": [
    "# Week 6 - Classification models \n",
    "\n",
    "Hello again. Welcome to week 6! In this week, we will focus on how to model discrete response (or target) variables in STAN.\n",
    "\n",
    "## Part 1: Logistic regression - Ancestral sampling\n",
    "\n",
    "The usual imports..."
   ]
  },
  {
   "cell_type": "code",
   "execution_count": 1,
   "metadata": {},
   "outputs": [],
   "source": [
    "import numpy as np\n",
    "from matplotlib import pyplot as plt\n",
    "\n",
    "# fix random generator seed (for reproducibility of results)\n",
    "np.random.seed(42)\n",
    "\n",
    "# matplotlib options\n",
    "plt.style.use('ggplot')\n",
    "%matplotlib inline\n",
    "plt.rcParams['figure.figsize'] = (16, 10)"
   ]
  },
  {
   "cell_type": "markdown",
   "metadata": {},
   "source": [
    "The purpose of this first part is to make sure that you understand the modelling assumptions behind (Bayesian) logistic regression. A great way of doing that is by following the generative process of logistic regression and sample some data from the model! \n",
    "\n",
    "We assume that the inputs $\\textbf{x}_n$ are always given. So lets make up some artificial $\\textbf{x}$'s. For the sake of simplicity we assume $\\textbf{x}_n$ to be a 2-dimensional vector:"
   ]
  },
  {
   "cell_type": "code",
   "execution_count": 2,
   "metadata": {
    "scrolled": true
   },
   "outputs": [
    {
     "name": "stdout",
     "output_type": "stream",
     "text": [
      "[[ 0.49671415 -0.1382643 ]\n",
      " [ 0.64768854  1.52302986]\n",
      " [-0.23415337 -0.23413696]\n",
      " [ 1.57921282  0.76743473]\n",
      " [-0.46947439  0.54256004]\n",
      " [-0.46341769 -0.46572975]\n",
      " [ 0.24196227 -1.91328024]\n",
      " [-1.72491783 -0.56228753]\n",
      " [-1.01283112  0.31424733]\n",
      " [-0.90802408 -1.4123037 ]\n",
      " [ 1.46564877 -0.2257763 ]\n",
      " [ 0.0675282  -1.42474819]\n",
      " [-0.54438272  0.11092259]\n",
      " [-1.15099358  0.37569802]\n",
      " [-0.60063869 -0.29169375]\n",
      " [-0.60170661  1.85227818]\n",
      " [-0.01349722 -1.05771093]\n",
      " [ 0.82254491 -1.22084365]\n",
      " [ 0.2088636  -1.95967012]\n",
      " [-1.32818605  0.19686124]]\n"
     ]
    }
   ],
   "source": [
    "# X's are fixed (2D points), sampled from a bivariate normal, centered at 0, with identitity covariance matrix\n",
    "X = np.random.multivariate_normal(np.zeros(2),np.eye(2),size=20)\n",
    "N, D = X.shape\n",
    "print(X)"
   ]
  },
  {
   "cell_type": "markdown",
   "metadata": {},
   "source": [
    "We also need a sigmoid function. You can use one of implementations of the sigmoid available in various python packages, but we place our own implementation here in order to make everything transparent:"
   ]
  },
  {
   "cell_type": "code",
   "execution_count": 3,
   "metadata": {},
   "outputs": [],
   "source": [
    "def sigmoid(x):\n",
    "    return 1 / (1 + np.exp(-x))"
   ]
  },
  {
   "cell_type": "markdown",
   "metadata": {},
   "source": [
    "Ok, now it is time to generate some data from a logistic regression model using ancestral sampling in Python. For this purpose, lets assume the following generative process:\n",
    "\n",
    "1. Sample coefficients $\\boldsymbol\\beta \\sim \\mathcal{N}(\\textbf{0}, \\lambda\\textbf{I})$\n",
    "2. For $n=1 \\dots N$\n",
    "    3. Draw target variable $y_n \\sim \\mbox{Bernoulli}(\\mbox{Sigmoid}(\\textbf{x_n},\\boldsymbol\\beta))$\n",
    "\n",
    "Can you do it? Save the targets in an array called \"y\"\n",
    "\n",
    "Note: in order to keep this example the most trivial to implement (and possible to visualize below), we shall ignore the intercept (but only for this example!).\n",
    "\n",
    "Make sure that you understand what is happening at each step! Print out the values of intermediate variables in the process to help you."
   ]
  },
  {
   "cell_type": "code",
   "execution_count": 4,
   "metadata": {},
   "outputs": [
    {
     "data": {
      "text/plain": [
       "array([1, 1, 0, 1, 0, 0, 1, 0, 0, 0, 1, 1, 0, 1, 1, 0, 0, 0, 1, 1])"
      ]
     },
     "execution_count": 4,
     "metadata": {},
     "output_type": "execute_result"
    }
   ],
   "source": [
    "lmda = 1\n",
    "beta = np.random.normal(0., lmda,size=D)\n",
    "z    = sigmoid(np.dot(X, beta))\n",
    "y   = np.random.binomial(1, z)\n",
    "y"
   ]
  },
  {
   "cell_type": "markdown",
   "metadata": {},
   "source": [
    "Lets now visualize the data that you just generated, using different markers to distinguish between the two different classes:"
   ]
  },
  {
   "cell_type": "code",
   "execution_count": 5,
   "metadata": {},
   "outputs": [
    {
     "data": {
      "image/png": "[encoded data removed]",
      "text/plain": [
       "<Figure size 432x288 with 1 Axes>"
      ]
     },
     "metadata": {
      "needs_background": "light"
     },
     "output_type": "display_data"
    }
   ],
   "source": [
    "plt.scatter(X[y==0,0], X[y==0,1], marker='x', color=\"r\")\n",
    "plt.scatter(X[y==1,0], X[y==1,1], marker='o', color=\"b\")\n",
    "plt.legend([\"class 0\", \"class 1\"])\n",
    "plt.show()"
   ]
  },
  {
   "cell_type": "markdown",
   "metadata": {},
   "source": [
    "Since this is a low dimensional problem (2-D), we can actually visualize the decision boundary between the two classes quite nicely by computing the probability of a point belonging to class 1 for all points in a predefined grid. See if you can understand the code below:"
   ]
  },
  {
   "cell_type": "code",
   "execution_count": 6,
   "metadata": {},
   "outputs": [
    {
     "data": {
      "image/png": "[encoded data removed]",
      "text/plain": [
       "<Figure size 432x288 with 1 Axes>"
      ]
     },
     "metadata": {
      "needs_background": "light"
     },
     "output_type": "display_data"
    }
   ],
   "source": [
    "# create grid\n",
    "xx1, xx2 = np.mgrid[-2:2:.01, -2:2:.01]\n",
    "grid = np.c_[xx1.ravel(), xx2.ravel()]   #if you want to know what this is, inspect the \"grid\" variable,\n",
    "\n",
    "# compute probabilities for all points in the grid\n",
    "probs = sigmoid(np.dot(beta, grid.T))\n",
    "\n",
    "# make plot\n",
    "contour = plt.contourf(xx1, xx2, probs.reshape(xx1.shape), 25, cmap=\"RdBu\", vmin=0, vmax=1)\n",
    "plt.scatter(X[:,0], X[:, 1], c=y, s=100, cmap=\"RdBu\", vmin=-.2, vmax=1.2, edgecolor=\"white\", linewidth=1)\n",
    "plt.show()"
   ]
  },
  {
   "cell_type": "markdown",
   "metadata": {},
   "source": [
    "Cool, right? Notice that you can have points in the \"red\" region being assined a blue target value (y), and vice-versa. Why is that? Make sure that you understand this."
   ]
  },
  {
   "cell_type": "code",
   "execution_count": 7,
   "metadata": {},
   "outputs": [],
   "source": [
    "# We have some points assigned to a region they don't belong because thei label was drawn from a bernoulli distribution with a certain probability, \n",
    "# while the regions on the picture correspond to deterministic regions"
   ]
  }
 ],
 "metadata": {
  "kernelspec": {
   "display_name": "Python 3",
   "language": "python",
   "name": "python3"
  },
  "language_info": {
   "codemirror_mode": {
    "name": "ipython",
    "version": 3
   },
   "file_extension": ".py",
   "mimetype": "text/x-python",
   "name": "python",
   "nbconvert_exporter": "python",
   "pygments_lexer": "ipython3",
   "version": "3.6.7"
  }
 },
 "nbformat": 4,
 "nbformat_minor": 2
}

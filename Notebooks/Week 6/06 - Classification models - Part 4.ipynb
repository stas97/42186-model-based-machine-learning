{
 "cells": [
  {
   "cell_type": "markdown",
   "metadata": {},
   "source": [
    "# Week 6 - Classification models  \n",
    "\n",
    "## Part 4: Travel mode choice - Hierarchical models\n",
    "\n",
    "This part is where we start to make things more interesting :-)\n",
    "\n",
    "We will revisit the original real world problem of travel model choice (with 4 classes), but this time we shall consider a hierarchical model. \n",
    "\n",
    "More on that later, for now the same stuff from part 2: imports, loading data, preprocessing, train/test split, etc."
   ]
  },
  {
   "cell_type": "markdown",
   "metadata": {},
   "source": [
    "Import required libraries:"
   ]
  },
  {
   "cell_type": "code",
   "execution_count": 1,
   "metadata": {},
   "outputs": [],
   "source": [
    "import numpy as np\n",
    "import pandas as pd\n",
    "from matplotlib import pyplot as plt\n",
    "from sklearn import linear_model\n",
    "import pystan\n",
    "import pystan_utils\n",
    "\n",
    "# fix random generator seed (for reproducibility of results)\n",
    "np.random.seed(42)\n",
    "\n",
    "# matplotlib style options\n",
    "plt.style.use('ggplot')\n",
    "%matplotlib inline\n",
    "plt.rcParams['figure.figsize'] = (16, 10)"
   ]
  },
  {
   "cell_type": "markdown",
   "metadata": {},
   "source": [
    "Load data:"
   ]
  },
  {
   "cell_type": "code",
   "execution_count": 2,
   "metadata": {},
   "outputs": [
    {
     "data": {
      "text/html": [
       "<div>\n",
       "<style scoped>\n",
       "    .dataframe tbody tr th:only-of-type {\n",
       "        vertical-align: middle;\n",
       "    }\n",
       "\n",
       "    .dataframe tbody tr th {\n",
       "        vertical-align: top;\n",
       "    }\n",
       "\n",
       "    .dataframe thead th {\n",
       "        text-align: right;\n",
       "    }\n",
       "</style>\n",
       "<table border=\"1\" class=\"dataframe\">\n",
       "  <thead>\n",
       "    <tr style=\"text-align: right;\">\n",
       "      <th></th>\n",
       "      <th>Unnamed: 0</th>\n",
       "      <th>individual</th>\n",
       "      <th>hinc</th>\n",
       "      <th>psize</th>\n",
       "      <th>ttme_air</th>\n",
       "      <th>invc_air</th>\n",
       "      <th>invt_air</th>\n",
       "      <th>gc_air</th>\n",
       "      <th>ttme_train</th>\n",
       "      <th>invc_train</th>\n",
       "      <th>invt_train</th>\n",
       "      <th>gc_train</th>\n",
       "      <th>ttme_bus</th>\n",
       "      <th>invc_bus</th>\n",
       "      <th>invt_bus</th>\n",
       "      <th>gc_bus</th>\n",
       "      <th>invc_car</th>\n",
       "      <th>invt_car</th>\n",
       "      <th>gc_car</th>\n",
       "      <th>mode_chosen</th>\n",
       "    </tr>\n",
       "  </thead>\n",
       "  <tbody>\n",
       "    <tr>\n",
       "      <th>0</th>\n",
       "      <td>0</td>\n",
       "      <td>70.0</td>\n",
       "      <td>30.0</td>\n",
       "      <td>4.0</td>\n",
       "      <td>10.0</td>\n",
       "      <td>61.0</td>\n",
       "      <td>80.0</td>\n",
       "      <td>73.0</td>\n",
       "      <td>44.0</td>\n",
       "      <td>24.0</td>\n",
       "      <td>350.0</td>\n",
       "      <td>77.0</td>\n",
       "      <td>53.0</td>\n",
       "      <td>19.0</td>\n",
       "      <td>395.0</td>\n",
       "      <td>79.0</td>\n",
       "      <td>4.0</td>\n",
       "      <td>314.0</td>\n",
       "      <td>52.0</td>\n",
       "      <td>1.0</td>\n",
       "    </tr>\n",
       "    <tr>\n",
       "      <th>1</th>\n",
       "      <td>1</td>\n",
       "      <td>8.0</td>\n",
       "      <td>15.0</td>\n",
       "      <td>4.0</td>\n",
       "      <td>64.0</td>\n",
       "      <td>48.0</td>\n",
       "      <td>154.0</td>\n",
       "      <td>71.0</td>\n",
       "      <td>55.0</td>\n",
       "      <td>25.0</td>\n",
       "      <td>360.0</td>\n",
       "      <td>80.0</td>\n",
       "      <td>53.0</td>\n",
       "      <td>14.0</td>\n",
       "      <td>462.0</td>\n",
       "      <td>84.0</td>\n",
       "      <td>4.0</td>\n",
       "      <td>351.0</td>\n",
       "      <td>57.0</td>\n",
       "      <td>2.0</td>\n",
       "    </tr>\n",
       "    <tr>\n",
       "      <th>2</th>\n",
       "      <td>2</td>\n",
       "      <td>62.0</td>\n",
       "      <td>35.0</td>\n",
       "      <td>2.0</td>\n",
       "      <td>64.0</td>\n",
       "      <td>58.0</td>\n",
       "      <td>74.0</td>\n",
       "      <td>69.0</td>\n",
       "      <td>30.0</td>\n",
       "      <td>21.0</td>\n",
       "      <td>295.0</td>\n",
       "      <td>66.0</td>\n",
       "      <td>53.0</td>\n",
       "      <td>24.0</td>\n",
       "      <td>389.0</td>\n",
       "      <td>83.0</td>\n",
       "      <td>7.0</td>\n",
       "      <td>315.0</td>\n",
       "      <td>55.0</td>\n",
       "      <td>2.0</td>\n",
       "    </tr>\n",
       "    <tr>\n",
       "      <th>3</th>\n",
       "      <td>3</td>\n",
       "      <td>61.0</td>\n",
       "      <td>40.0</td>\n",
       "      <td>3.0</td>\n",
       "      <td>45.0</td>\n",
       "      <td>75.0</td>\n",
       "      <td>75.0</td>\n",
       "      <td>96.0</td>\n",
       "      <td>44.0</td>\n",
       "      <td>33.0</td>\n",
       "      <td>418.0</td>\n",
       "      <td>96.0</td>\n",
       "      <td>53.0</td>\n",
       "      <td>28.0</td>\n",
       "      <td>463.0</td>\n",
       "      <td>98.0</td>\n",
       "      <td>5.0</td>\n",
       "      <td>291.0</td>\n",
       "      <td>49.0</td>\n",
       "      <td>1.0</td>\n",
       "    </tr>\n",
       "    <tr>\n",
       "      <th>4</th>\n",
       "      <td>4</td>\n",
       "      <td>27.0</td>\n",
       "      <td>70.0</td>\n",
       "      <td>1.0</td>\n",
       "      <td>20.0</td>\n",
       "      <td>106.0</td>\n",
       "      <td>190.0</td>\n",
       "      <td>127.0</td>\n",
       "      <td>34.0</td>\n",
       "      <td>72.0</td>\n",
       "      <td>659.0</td>\n",
       "      <td>143.0</td>\n",
       "      <td>35.0</td>\n",
       "      <td>33.0</td>\n",
       "      <td>653.0</td>\n",
       "      <td>104.0</td>\n",
       "      <td>44.0</td>\n",
       "      <td>592.0</td>\n",
       "      <td>108.0</td>\n",
       "      <td>1.0</td>\n",
       "    </tr>\n",
       "  </tbody>\n",
       "</table>\n",
       "</div>"
      ],
      "text/plain": [
       "   Unnamed: 0  individual  hinc  psize  ttme_air  invc_air  invt_air  gc_air  \\\n",
       "0           0        70.0  30.0    4.0      10.0      61.0      80.0    73.0   \n",
       "1           1         8.0  15.0    4.0      64.0      48.0     154.0    71.0   \n",
       "2           2        62.0  35.0    2.0      64.0      58.0      74.0    69.0   \n",
       "3           3        61.0  40.0    3.0      45.0      75.0      75.0    96.0   \n",
       "4           4        27.0  70.0    1.0      20.0     106.0     190.0   127.0   \n",
       "\n",
       "   ttme_train  invc_train  invt_train  gc_train  ttme_bus  invc_bus  invt_bus  \\\n",
       "0        44.0        24.0       350.0      77.0      53.0      19.0     395.0   \n",
       "1        55.0        25.0       360.0      80.0      53.0      14.0     462.0   \n",
       "2        30.0        21.0       295.0      66.0      53.0      24.0     389.0   \n",
       "3        44.0        33.0       418.0      96.0      53.0      28.0     463.0   \n",
       "4        34.0        72.0       659.0     143.0      35.0      33.0     653.0   \n",
       "\n",
       "   gc_bus  invc_car  invt_car  gc_car  mode_chosen  \n",
       "0    79.0       4.0     314.0    52.0          1.0  \n",
       "1    84.0       4.0     351.0    57.0          2.0  \n",
       "2    83.0       7.0     315.0    55.0          2.0  \n",
       "3    98.0       5.0     291.0    49.0          1.0  \n",
       "4   104.0      44.0     592.0   108.0          1.0  "
      ]
     },
     "execution_count": 2,
     "metadata": {},
     "output_type": "execute_result"
    }
   ],
   "source": [
    "# load csv\n",
    "df = pd.read_csv(\"modechoice_data.csv\")\n",
    "df.head()"
   ]
  },
  {
   "cell_type": "markdown",
   "metadata": {},
   "source": [
    "Preprocess data:"
   ]
  },
  {
   "cell_type": "code",
   "execution_count": 3,
   "metadata": {},
   "outputs": [
    {
     "name": "stdout",
     "output_type": "stream",
     "text": [
      "(394, 17)\n",
      "(394,)\n",
      "(394,)\n"
     ]
    }
   ],
   "source": [
    "# separate between features/inputs (X) and target/output variables (y)\n",
    "mat = df.values\n",
    "X = mat[:,2:-1]\n",
    "print(X.shape)\n",
    "y = mat[:,-1].astype(\"int\")\n",
    "print(y.shape)\n",
    "ind = mat[:,1].astype(\"int\")\n",
    "print(ind.shape)"
   ]
  },
  {
   "cell_type": "code",
   "execution_count": 4,
   "metadata": {},
   "outputs": [],
   "source": [
    "# standardize input features\n",
    "X_mean = X.mean(axis=0)\n",
    "X_std = X.std(axis=0)\n",
    "X = (X - X_mean) / X_std"
   ]
  },
  {
   "cell_type": "markdown",
   "metadata": {},
   "source": [
    "Train/test split:"
   ]
  },
  {
   "cell_type": "code",
   "execution_count": 5,
   "metadata": {},
   "outputs": [
    {
     "name": "stdout",
     "output_type": "stream",
     "text": [
      "num train: 260\n",
      "num test: 134\n"
     ]
    }
   ],
   "source": [
    "train_perc = 0.66 # percentage of training data\n",
    "split_point = int(train_perc*len(y))\n",
    "perm = np.random.permutation(len(y))\n",
    "ix_train = perm[:split_point]\n",
    "ix_test = perm[split_point:]\n",
    "X_train = X[ix_train,:]\n",
    "X_test = X[ix_test,:]\n",
    "ind_train = ind[ix_train]\n",
    "ind_test = ind[ix_test]\n",
    "y_train = y[ix_train]\n",
    "y_test = y[ix_test]\n",
    "print(\"num train: %d\" % len(y_train))\n",
    "print(\"num test: %d\" % len(y_test))"
   ]
  },
  {
   "cell_type": "markdown",
   "metadata": {},
   "source": [
    "Our baseline logistic regression model from sklearn:"
   ]
  },
  {
   "cell_type": "code",
   "execution_count": 6,
   "metadata": {},
   "outputs": [
    {
     "name": "stdout",
     "output_type": "stream",
     "text": [
      "predictions: [2 2 4 4 4 2 4 1 4 4 4 3 1 4 2 1 4 2 1 4 4 4 4 4 2 4 1 4 1 2 4 4 4 2 3 4 4\n",
      " 3 2 4 4 4 2 2 2 4 1 3 2 3 1 2 4 1 1 4 2 4 4 1 3 2 4 2 4 4 4 3 2 3 2 4 2 4\n",
      " 4 4 1 4 2 2 4 4 1 4 3 4 4 2 1 4 3 1 4 2 1 4 1 4 4 4 1 1 2 1 3 2 4 4 4 4 4\n",
      " 4 4 1 3 3 1 4 3 2 4 1 4 2 1 3 2 2 2 4 4 4 4 2]\n",
      "true values: [4 2 2 4 4 2 1 2 4 4 4 4 1 2 2 1 3 4 1 2 4 3 1 4 2 4 2 1 3 2 4 4 4 4 2 1 1\n",
      " 3 2 1 4 2 2 2 4 1 1 3 2 3 1 2 4 4 1 4 2 4 4 3 3 4 4 4 4 1 1 3 2 1 2 4 2 4\n",
      " 4 4 1 2 4 2 4 4 1 4 3 1 4 4 1 4 3 1 1 2 4 4 4 4 4 1 4 3 3 1 3 2 4 4 4 1 4\n",
      " 4 4 1 4 1 1 4 3 2 1 1 4 2 4 1 2 4 2 1 1 1 4 4]\n",
      "Accuracy: 0.6194029850746269\n"
     ]
    }
   ],
   "source": [
    "# create and fit logistic regression model\n",
    "logreg = linear_model.LogisticRegression(solver='lbfgs', multi_class='auto')\n",
    "logreg.fit(X_train, y_train)\n",
    "\n",
    "# make predictions for test set\n",
    "y_hat = logreg.predict(X_test)\n",
    "print(\"predictions:\", y_hat)\n",
    "print(\"true values:\", y_test)\n",
    "\n",
    "# evaluate prediction accuracy\n",
    "print(\"Accuracy:\", 1.0*np.sum(y_hat == y_test) / len(y_test))"
   ]
  },
  {
   "cell_type": "markdown",
   "metadata": {},
   "source": [
    "## Hierarchical logistic regression in STAN\n",
    "\n",
    "We will now implement a hierarchical logistic regression. The motivation is actually quite simple. Our dataset consists of multiple observations from various individuals. However, when we build our original logistic regression in STAN, our specification assumes that all individuals share a unique set of bias (alpha) coefficients (beta). In other words, this is equivalent to assuming, for example, that all individuals are equally biased towards a given mode (e.g. car). This is obviously a very strong assumption, right? We should allow different individuals to have different biases (alpha). (We could also consider different coefficients per individual, but for the sake of simplicy, we will just focus on the bias parameters)\n",
    "\n",
    "This can be done by placing a hierarchical prior on the intercepts (alpha). The generative process then becomes:\n",
    "\n",
    "1. For each class $c \\in \\{1,\\dots,C\\}$\n",
    "    2. Draw global intercept mean $\\mu_c \\sim \\mathcal{N}(0,10)$\n",
    "    3. Draw global intercept variance $\\sigma_c \\sim \\mbox{Cauchy}(0,10)$\n",
    "    5. Draw coefficients $\\boldsymbol\\beta_c \\sim \\mathcal{N}(\\textbf{0},10 \\, \\textbf{I})$ (this the same as before...)\n",
    "    6. For each individual $i \\in \\{1,\\dots,I\\}$\n",
    "        4. Draw $\\alpha_{i,c}$ such that $\\alpha_{i,c} \\sim \\mathcal{N}(\\mu_c,\\sigma_c)$\n",
    "\n",
    "6. For each data point $n=\\{1,\\dots,N\\}$\n",
    "    7. Draw target class $y_n \\sim \\mbox{Multinomial}(\\mbox{Softmax}(\\textbf{x}_n,\\boldsymbol\\alpha_{i_n},\\boldsymbol\\beta_1,\\dots,\\boldsymbol\\beta_C))$\n",
    "    \n",
    "where $i_n$ is the individual identifier for person $n$, and $\\boldsymbol\\mu=\\{\\mu_1\\dots\\mu_C\\}$ and $\\boldsymbol\\sigma=\\{\\sigma_1\\dots\\sigma_C\\}$.\n",
    "\n",
    "Notice that now, instead of a single intercept per class $\\alpha_c$ for all individual, we now have a vector of intercepts $\\boldsymbol\\alpha_c$ for each class $c$: one intercept parameter per individual! However, all these intercept share a global (population-level) prior.\n",
    "\n",
    "Lets try to implement this in STAN. Can you do it? :-) "
   ]
  },
  {
   "cell_type": "code",
   "execution_count": 8,
   "metadata": {},
   "outputs": [
    {
     "name": "stderr",
     "output_type": "stream",
     "text": [
      "INFO:pystan:COMPILING THE C++ CODE FOR MODEL anon_model_f8c029f9b59592cf5c4adefff4128296 NOW.\n"
     ]
    }
   ],
   "source": [
    "# define Stan model\n",
    "model_definition = \"\"\"\n",
    "data {\n",
    "  int<lower=0> N;      // shape of data\n",
    "  int<lower=0> D;      // dimensions of x\n",
    "  int<lower=0> C;      // number of possible choices\n",
    "  int<lower=0> I;      //\n",
    "  int          ind[N]; //\n",
    "  matrix[N,D]  X;      // feature matrix\n",
    "  int          y[N];   // response vector\n",
    "}\n",
    "parameters {\n",
    "  vector[C]     mu_prior;       // global intercept mean \n",
    "  real<lower=0> sigma_prior[C]; // global intercept sd \n",
    "  matrix[C,I]   alpha;          // intercept  \n",
    "  matrix[C,D]   beta;           // parameters\n",
    "}\n",
    "model{\n",
    "\n",
    "  // choice parameters\n",
    "  for (c in 1:C){          \n",
    "    mu_prior[c]    ~ normal(0,5);\n",
    "    sigma_prior[c] ~ cauchy(0,5);\n",
    "    beta[c]        ~ normal(0,10);\n",
    "    \n",
    "    // individual parameters (for each class)\n",
    "    for (i in 1:I){        \n",
    "      alpha[c,i]   ~ normal(mu_prior[c], sigma_prior[c]);\n",
    "    }\n",
    "  }\n",
    "  \n",
    "  for (n in 1:N){\n",
    "    y[n] ~ categorical_logit(alpha[,ind[n]] + beta*X[n]');\n",
    "  }\n",
    "}\n",
    "\"\"\"\n",
    "\n",
    "# compile model\n",
    "sm = pystan.StanModel(model_code=model_definition)"
   ]
  },
  {
   "cell_type": "markdown",
   "metadata": {},
   "source": [
    "Prepare input data for STAN, compile STAN program and run inference using ADVI (much faster in this case):"
   ]
  },
  {
   "cell_type": "code",
   "execution_count": 9,
   "metadata": {},
   "outputs": [
    {
     "name": "stdout",
     "output_type": "stream",
     "text": [
      "N=260, D=17, C=4, I=80\n"
     ]
    }
   ],
   "source": [
    "# prepare data for Stan model\n",
    "N, D = X_train.shape\n",
    "C = int(y_train.max())\n",
    "I = ind.max()\n",
    "print(\"N=%d, D=%d, C=%d, I=%d\" % (N,D,C,I))\n",
    "data = {'N': N, 'D': D, 'C': C, 'I':I, 'ind':ind_train, 'X': X_train, 'y': y_train}"
   ]
  },
  {
   "cell_type": "code",
   "execution_count": 10,
   "metadata": {},
   "outputs": [
    {
     "name": "stderr",
     "output_type": "stream",
     "text": [
      "WARNING:pystan:Automatic Differentiation Variational Inference (ADVI) is an EXPERIMENTAL ALGORITHM.\n",
      "WARNING:pystan:ADVI samples may be found on the filesystem in the file `/tmp/tmp7he9r5n0/output.csv`\n"
     ]
    },
    {
     "name": "stdout",
     "output_type": "stream",
     "text": [
      "CPU times: user 7.7 s, sys: 32.7 ms, total: 7.74 s\n",
      "Wall time: 7.71 s\n"
     ]
    }
   ],
   "source": [
    "%%time\n",
    "fit = sm.vb(data=data, iter=10000, algorithm=\"meanfield\", grad_samples=10, seed=42, verbose=True)"
   ]
  },
  {
   "cell_type": "markdown",
   "metadata": {},
   "source": [
    "Lets plot the posterior distributions of some of the parameters of our model (you may have called these variables something else...):"
   ]
  },
  {
   "cell_type": "code",
   "execution_count": 11,
   "metadata": {},
   "outputs": [
    {
     "data": {
      "image/png": "[encoded data removed]",
      "text/plain": [
       "<Figure size 432x288 with 1 Axes>"
      ]
     },
     "metadata": {
      "needs_background": "light"
     },
     "output_type": "display_data"
    }
   ],
   "source": [
    "pystan_utils.vb_plot_variables(fit, \"mu_prior\")"
   ]
  },
  {
   "cell_type": "code",
   "execution_count": 12,
   "metadata": {},
   "outputs": [
    {
     "data": {
      "image/png": "[encoded data removed]",
      "text/plain": [
       "<Figure size 432x288 with 1 Axes>"
      ]
     },
     "metadata": {
      "needs_background": "light"
     },
     "output_type": "display_data"
    }
   ],
   "source": [
    "pystan_utils.vb_plot_variables(fit, \"sigma_prior\")"
   ]
  },
  {
   "cell_type": "markdown",
   "metadata": {},
   "source": [
    "We can now use the inferred posteriors to make predictions. Lets first use the \"pystan_utils\" package to extract the expected values of the posterior distribution of the model parameters:"
   ]
  },
  {
   "cell_type": "code",
   "execution_count": 13,
   "metadata": {},
   "outputs": [],
   "source": [
    "# get fitted parameters\n",
    "mu_prior = pystan_utils.vb_extract_variable(fit, \"mu_prior\", var_type=\"vector\")\n",
    "sigma_prior = pystan_utils.vb_extract_variable(fit, \"sigma_prior\", var_type=\"vector\")\n",
    "alpha = pystan_utils.vb_extract_variable(fit, \"alpha\", var_type=\"matrix\", dims=(C,I))\n",
    "beta = pystan_utils.vb_extract_variable(fit, \"beta\", var_type=\"matrix\", dims=(C,D))"
   ]
  },
  {
   "cell_type": "markdown",
   "metadata": {},
   "source": [
    "Using expected values of the parameters, we can make predictions for the testset. However, we need to account for the fact that we now have different bias parameters per-individual, and adapt the code for making predictions accordingly. Make sure that you understand the code below. As always, if something is not 100% clear, ask! :-)"
   ]
  },
  {
   "cell_type": "code",
   "execution_count": 14,
   "metadata": {},
   "outputs": [
    {
     "name": "stdout",
     "output_type": "stream",
     "text": [
      "predictions: [2 2 4 4 4 2 1 4 4 4 4 4 1 2 2 1 4 2 1 2 4 3 4 4 2 4 2 1 1 2 4 4 4 2 3 1 1\n",
      " 3 2 4 4 2 2 2 4 1 1 3 2 3 1 2 4 1 1 4 2 4 4 1 3 4 4 2 4 1 4 3 2 1 2 4 2 4\n",
      " 4 4 1 4 4 2 4 4 1 4 3 2 4 4 1 4 3 1 1 2 1 4 4 1 4 1 1 4 2 4 3 2 4 4 2 1 4\n",
      " 2 3 1 3 1 1 4 3 2 3 1 4 2 1 2 2 2 2 1 1 1 4 4]\n",
      "true values: [4 2 2 4 4 2 1 2 4 4 4 4 1 2 2 1 3 4 1 2 4 3 1 4 2 4 2 1 3 2 4 4 4 4 2 1 1\n",
      " 3 2 1 4 2 2 2 4 1 1 3 2 3 1 2 4 4 1 4 2 4 4 3 3 4 4 4 4 1 1 3 2 1 2 4 2 4\n",
      " 4 4 1 2 4 2 4 4 1 4 3 1 4 4 1 4 3 1 1 2 4 4 4 4 4 1 4 3 3 1 3 2 4 4 4 1 4\n",
      " 4 4 1 4 1 1 4 3 2 1 1 4 2 4 1 2 4 2 1 1 1 4 4]\n",
      "Accuracy: 0.7761194029850746\n"
     ]
    }
   ],
   "source": [
    "# make predictions for test set\n",
    "y_hat = alpha[:,ind_test-1] + np.dot(beta, X_test.T)\n",
    "y_hat = np.argmax(y_hat, axis=0) + 1\n",
    "print(\"predictions:\", y_hat)\n",
    "print(\"true values:\", y_test)\n",
    "\n",
    "# evaluate prediction accuracy\n",
    "print(\"Accuracy:\", 1.0*np.sum(y_hat == y_test) / len(y_test))"
   ]
  },
  {
   "cell_type": "markdown",
   "metadata": {},
   "source": [
    "Now, that is a signficant improvement, right? We improved the accuracy of our model from 67.9% to about 78.4%! (Hopefully you were able to obtain a similar or even better result :-)\n",
    "\n",
    "Did you see how your prior knowledge about the problem can make a substantial difference when building a model for it? This is how things are done in the model-based machine learning approach!"
   ]
  },
  {
   "cell_type": "markdown",
   "metadata": {},
   "source": [
    "Given the posterior distributions inferred by STAN, we can even analyse the biases of different individuals identified by our model:"
   ]
  },
  {
   "cell_type": "code",
   "execution_count": 15,
   "metadata": {},
   "outputs": [
    {
     "name": "stdout",
     "output_type": "stream",
     "text": [
      "0 [ 0.49493799 -0.66547827 -0.97909644  6.05136226]\n",
      "1 [ 0.61548592 -0.1719418  -1.14377243  1.6775185 ]\n",
      "2 [ 0.63544016 -0.46592926 -1.11443979  0.05859614]\n",
      "3 [ 0.64697984  0.06464827 -1.15973146 -1.10694327]\n",
      "4 [ 0.47826976 -0.9520224  -0.42672376  0.06114656]\n",
      "5 [ 0.46148417 -0.51199502 -0.63216466  0.44860399]\n",
      "6 [ 0.18555415 -0.487783   -0.27201526  2.64464214]\n",
      "7 [ 0.34290118 -0.23219908 -0.64914334  0.02655454]\n",
      "8 [ 0.53397228 -0.16298139 -0.99478472  0.20757976]\n",
      "9 [ 0.53292804 -0.6945954  -1.02637797  6.7351566 ]\n",
      "10 [ 0.75264995 -0.00708048 -1.2262439  -2.05968167]\n",
      "11 [ 0.41021327  0.17589682 -0.93222552  1.10107654]\n",
      "12 [ 0.27819668  0.74573304 -1.03130682  4.17635658]\n",
      "13 [ 0.488279    0.09071233 -0.97708368 -0.05367024]\n",
      "14 [ 0.5005849   0.0158236  -1.11614501  1.65897884]\n",
      "15 [ 0.37439161 -0.20181668 -1.03104198  4.52107869]\n",
      "16 [ 0.52693513  0.07955342 -0.99318259 -0.1993491 ]\n",
      "17 [ 0.45045254 -0.2883676  -0.94003193  3.4269296 ]\n",
      "18 [ 0.40943727  0.41636781 -1.08654683  1.26800941]\n",
      "19 [ 0.34778718 -0.67983184 -0.61085821  5.67809145]\n",
      "20 [ 0.47023605 -0.22937602 -0.9354559   2.30025172]\n",
      "21 [ 0.58697478 -0.14124174 -1.01079174  0.12715045]\n",
      "22 [ 0.40181878  0.02982349 -0.67405016 -1.64290755]\n",
      "23 [ 0.41100988  0.10939722 -1.01197776  2.49609115]\n",
      "24 [ 0.47318727 -0.45711491 -0.99425732  5.24212686]\n",
      "25 [ 0.57993076 -0.09233204 -1.02973888 -0.51496473]\n",
      "26 [ 0.72708755 -0.4072512  -1.20503714  0.74032183]\n",
      "27 [ 0.40013314  0.10908236 -0.98723816  2.37273233]\n",
      "28 [ 0.57100221 -1.19769437 -1.08750905 13.52125831]\n",
      "29 [ 0.34717945 -0.21467739 -0.47266147 -0.78028749]\n",
      "30 [ 0.48476795  0.64910108 -1.50742345  6.06047773]\n",
      "31 [ 0.44748426 -0.43635461 -1.01318434  4.3902986 ]\n",
      "32 [ 0.73777483 -0.37256518 -1.10531545 -1.65125595]\n",
      "33 [ 0.53215919 -0.22798901 -0.9166043   2.04074411]\n",
      "34 [ 0.47641084 -0.20554603 -0.96375672  1.54986203]\n",
      "35 [ 0.58896135 -0.16479591 -0.98811738 -0.16274257]\n",
      "36 [ 0.49877862  0.4195881  -1.0152701   0.88883605]\n",
      "37 [ 0.56941782 -0.08888594 -1.04654632  0.00108909]\n",
      "38 [ 0.41580367 -0.19125627 -1.27382556 12.34870628]\n",
      "39 [ 0.45643221 -0.47917044 -0.83635197  2.47017489]\n",
      "40 [ 0.78800605 -0.51666286 -1.15432914 -2.53161375]\n",
      "41 [ 0.84113513 -0.74654638 -1.08864644 -1.26526257]\n",
      "42 [ 0.50208399 -0.3684978  -0.96211026  5.26287194]\n",
      "43 [ 0.29306674 -0.23963194 -0.96728444  8.7943557 ]\n",
      "44 [ 0.71674198 -0.5127007  -1.01267491 -1.08496812]\n",
      "45 [ 0.47661637 -0.12999047 -0.97285722  1.08140408]\n",
      "46 [ 0.43239116 -0.1660532  -0.72174882  0.6797629 ]\n",
      "47 [ 0.44932811 -0.90032365 -0.96388421  8.34477417]\n",
      "48 [ 0.34799413 -0.63221652 -0.92522495 10.10833184]\n",
      "49 [ 0.4408097   0.58151697 -1.01565987 -0.79452006]\n",
      "50 [ 0.47203921  0.2363478  -0.99502102 -0.57354614]\n",
      "51 [ 0.70857107 -0.32422334 -1.13436078 -1.36349632]\n",
      "52 [ 0.47644517 -0.59337436 -0.93610178  7.01917787]\n",
      "53 [ 0.36353833 -0.06380341 -0.51338219 -3.19728822]\n",
      "54 [ 0.34275378 -0.96516463 -0.98858554 12.52343167]\n",
      "55 [ 0.41937567 -0.38992945 -0.96926589  5.11567573]\n",
      "56 [ 0.45383508 -0.17905663 -0.99602052  5.24478363]\n",
      "57 [ 0.51379215  0.34043475 -0.99084138 -0.92391148]\n",
      "58 [ 0.3475523   1.44984639 -1.20915376 -3.47112244]\n",
      "59 [ 0.30068328 -0.59295288 -0.98673022 12.49009767]\n",
      "60 [ 0.52383048  0.16057926 -0.94172033 -1.53126852]\n",
      "61 [ 0.6028113  -0.16505617 -1.0191449  -0.60294118]\n",
      "62 [ 0.47209549 -0.05561028 -0.88587996  0.90325041]\n",
      "63 [ 0.64544761  0.08302231 -1.28756779  3.32514072]\n",
      "64 [ 0.56623982 -0.16981983 -1.05135393  1.26008756]\n",
      "65 [ 0.46180723 -0.3021308  -0.97230351  5.18136251]\n",
      "66 [ 0.49574184 -1.35864073 -0.95575741 13.07267419]\n",
      "67 [ 0.31457933  0.99613557 -1.10868988  0.45069636]\n",
      "68 [ 0.72309776 -0.41698492 -1.1243249  -0.38286467]\n",
      "69 [ 0.53014721 -0.5225391  -0.88848139  3.80310142]\n",
      "70 [ 0.39915115 -0.53479943 -1.07476003 10.83827431]\n",
      "71 [ 0.54565586  0.10584184 -0.97444494 -0.30411456]\n",
      "72 [ 0.27630371  0.83364456 -0.86658687 -0.90219667]\n",
      "73 [ 0.71911358 -0.79705902 -1.11462827  1.97453774]\n",
      "74 [ 0.39699592  0.34384516 -1.19544075  4.02676392]\n",
      "75 [ 0.22844086 -0.20799825 -0.23765813 -1.57864386]\n",
      "76 [ 0.58102817 -0.46198635 -1.06169403  2.17337855]\n",
      "77 [ 0.54795545 -0.29639075 -0.92612925  2.52589862]\n",
      "78 [ 0.61905801 -0.24879815 -1.06494369 -1.19040756]\n",
      "79 [ 0.65747089 -0.27268745 -1.02997994  0.2027687 ]\n"
     ]
    }
   ],
   "source": [
    "for i in range(I):\n",
    "    print(i, alpha[:,i])"
   ]
  },
  {
   "cell_type": "markdown",
   "metadata": {},
   "source": [
    "Perhaps a histogram allows for a better global analysis:"
   ]
  },
  {
   "cell_type": "code",
   "execution_count": 16,
   "metadata": {},
   "outputs": [
    {
     "data": {
      "image/png": "[encoded data removed]",
      "text/plain": [
       "<Figure size 432x288 with 1 Axes>"
      ]
     },
     "metadata": {
      "needs_background": "light"
     },
     "output_type": "display_data"
    }
   ],
   "source": [
    "# histogram of biases towards mode 4 (car)\n",
    "plt.hist(alpha[3,:])\n",
    "plt.title(\"Biases towards mode 4\")\n",
    "plt.xlabel(\"alpha[4]\")\n",
    "plt.show()"
   ]
  },
  {
   "cell_type": "markdown",
   "metadata": {},
   "source": [
    "We can observe that, for most individuals the biases is around 0. However, we can also see that a few individuals really love their cars!\n",
    "\n",
    "Reflection exercise: can you think of ways in which you could use this model to try to identify policies (e.g. price changes or making terminals more efficient) that would allow to shift people's travel mode choices away from the car (e.g. towards public transport)?"
   ]
  },
  {
   "cell_type": "code",
   "execution_count": null,
   "metadata": {},
   "outputs": [],
   "source": []
  }
 ],
 "metadata": {
  "kernelspec": {
   "display_name": "Python 3",
   "language": "python",
   "name": "python3"
  },
  "language_info": {
   "codemirror_mode": {
    "name": "ipython",
    "version": 3
   },
   "file_extension": ".py",
   "mimetype": "text/x-python",
   "name": "python",
   "nbconvert_exporter": "python",
   "pygments_lexer": "ipython3",
   "version": "3.6.7"
  }
 },
 "nbformat": 4,
 "nbformat_minor": 2
}
